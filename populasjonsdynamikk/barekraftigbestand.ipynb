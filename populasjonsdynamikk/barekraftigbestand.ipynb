{
 "cells": [
  {
   "cell_type": "markdown",
   "metadata": {},
   "source": [
    "# Bærekraftig bestand"
   ]
  },
  {
   "cell_type": "markdown",
   "metadata": {},
   "source": [
    "## Dette må du kunne"
   ]
  },
  {
   "cell_type": "markdown",
   "metadata": {},
   "source": [
    "I dette eksempelet bruker vi arrays, løkker og plot funksjonalitet. "
   ]
  },
  {
   "cell_type": "markdown",
   "metadata": {},
   "source": [
    "## Modell"
   ]
  },
  {
   "cell_type": "markdown",
   "metadata": {},
   "source": [
    "Den forrige modellen førte til at bestanden vokste raskere og raskere ettersom tiden gikk og vi fikk en eksponensiell vekst. I naturen er det som regel en øvre grense ($M$) for hvor mange individer som kan leve i et område samtidig. Mat- og plassmangel, konkurranse mellom individer, rovdyr og smittsomme sykdommer er alle faktorer som begrenser veksten av en bestand. Tallet $M$ kalles systemets bæreevne og representerer den maksimale størrelsen på en bestand som er bærekraftig over tid. Når veksten er begrenset betyr det at vekstraten $r$ må være avhengig av tiden:\n",
    "\n",
    "$$y_n = y_{n-1} + r(n-1)y_{n-1}$$\n",
    "\n",
    "I begynnelsen når det er nok ressurser så vokser bestanden eksponensielt, men med tiden når $y$ går mot $M$ stopper veksten opp og $r$ går mot null. Her er en funksjon med disse egenskapene \n",
    "\n",
    "$r(n) = R\\left(1 - \\frac{y_n}{M}\\right)$\n",
    "\n",
    "Når $n$ er liten så er $y_n << M$ og $r(n) \\approx R$ som er vekstraten ved ubegrenset tilgang til ressurser. Men når $n$ nærmer seg $M$ så går $r(n)$ mot null akkurat slik som vi ønsket. Dette kalles logistisk vekst og kan skrives som en likning på formen\n",
    "\n",
    "$$y_n = y_{n-1} + Ry_{n-1}\\left(1 - \\frac{y_n}{M}\\right)$$\n",
    "\n"
   ]
  },
  {
   "cell_type": "markdown",
   "metadata": {},
   "source": [
    "## Eksempel"
   ]
  },
  {
   "cell_type": "markdown",
   "metadata": {},
   "source": [
    "La oss gå tilbake til harene fra forrige eksempel. Fortsatt representerer $y$ antall harer som bor på en øy. Til å begynne med er fødselsraten $7\\%$ per måned, dødsraten $2\\%$ og vi starter med en bestand på 100 harer. Vi antar at for at bestanden skal være bærekraftig kan det maksimalt være 500 harer på øya. Hvor mange harer bor det på øya etter 5 år? \n",
    "\n",
    "Vi har altså $b = \\frac{7\\%}{100\\%}$ og $d = \\frac{2\\%}{100\\%}$ som gir initiell vekstrate $R = b - d = 0.05$. Videre vet vi at vi starter med $y_0 = 100$ og at bæreevnen $M = 500$.\n",
    "Nå kan vi sette dette inn i den nye formelen vår og regne ut\n",
    "\n",
    "$$y_1 = y_{0} + Ry_{0}\\left(1 - \\frac{y_0}{M}\\right) = 100 + 0.05\\cdot100\\left(1 - \\frac{100}{500}\\right) = 104$$\n",
    "$$\\qquad\\vdots\\qquad\\vdots\\qquad$$\n",
    "\n",
    "Slik kan vi fortsette å regne ut utviklingen av harebestanden.\n",
    "Her er tidssteget mellom $y_0$ og $y_1$ en måned så vi må regne ut 60 tidssteg for å finne ut hvor mange harer som bor på øya etter fem år. I stedet for å gjøre dette for hånd kan vi skrive et tilsvarende program som i forrige eksempel \n"
   ]
  },
  {
   "cell_type": "code",
   "execution_count": 1,
   "metadata": {
    "collapsed": false
   },
   "outputs": [
    {
     "name": "stdout",
     "output_type": "stream",
     "text": [
      "[ 100.          104.          108.1184      112.35536116  116.7107565\n",
      "  121.18415425  125.77480204  130.48161206  135.30314756  140.23761076\n",
      "  145.28283255  150.43626404  155.69497028  161.05562642  166.51451626\n",
      "  172.06753366  177.71018673  183.43760502  189.24454978  195.12542731\n",
      "  201.07430543  207.08493307  213.15076278  219.26497615  225.42051198\n",
      "  231.61009686  237.826278    244.06145805  250.30793142  256.55792194\n",
      "  262.80362131  269.03722804  275.25098643  281.4372252   287.58839529\n",
      "  293.69710654  299.75616283  305.75859525  311.69769316  317.56703263\n",
      "  323.36050224  329.07232591  334.69708263  340.22972305  345.66558276\n",
      "  351.00039239  356.23028446  361.35179713  366.36187486  371.25786626\n",
      "  376.03751925  380.69897363  385.24075145  389.66174537  393.96120506\n",
      "  398.1387222   402.1942141   406.12790622  409.94031391  413.63222351\n",
      "  417.20467305  420.65893278  423.99648565  427.21900795  430.32835027\n",
      "  433.32651888  436.21565763  438.99803051  441.67600496  444.25203587\n",
      "  446.72865053  449.10843433  451.39401747  453.58806244  455.69325253\n",
      "  457.71228111  459.64784194  461.50262018  463.27928434  464.98047903\n",
      "  466.60881839  468.16688037  469.6572016   471.08227298  472.44453584\n",
      "  473.74637869  474.99013449  476.17807843  477.31242611  478.3953322\n",
      "  479.42888943  480.4151279   481.35601478  482.25345422  483.10928752\n",
      "  483.92529353  484.70318923  485.44463053  486.15121313  486.82447358\n",
      "  487.46589045  488.07688554  488.6588252   489.21302171  489.74073474\n",
      "  490.24317275  490.72149454  491.17681075  491.61018534  492.02263718\n",
      "  492.41514149  492.78863141  493.14399945  493.482099    493.80374575\n",
      "  494.10971911  494.40076361  494.67759028  494.94087797  495.1912746\n",
      "  495.42939848]\n"
     ]
    }
   ],
   "source": [
    "import numpy as np\n",
    "y0 = 100       # antall individer når vi starter\n",
    "M = 500        # bæreevne\n",
    "R = 0.05       # vekstrate når vi starter\n",
    "N = 12*10      # antall tidsintervaller (gjør om dette til dager eller år konkret eksempel!)\n",
    "index_set = range(N+1)\n",
    "y = np.zeros(len(index_set))\n",
    "\n",
    "# Regn ut løsning for hvert intervall\n",
    "y[0] = y0\n",
    "for n in index_set[1:]:\n",
    "    y[n] = y[n-1] + R*y[n-1]*(1 - y[n-1]/float(M))\n",
    "print y"
   ]
  },
  {
   "cell_type": "code",
   "execution_count": 2,
   "metadata": {
    "collapsed": false
   },
   "outputs": [
    {
     "data": {
      "text/plain": [
       "[<matplotlib.lines.Line2D at 0x7f929dab0590>]"
      ]
     },
     "execution_count": 2,
     "metadata": {},
     "output_type": "execute_result"
    },
    {
     "data": {
      "image/png": "[encoded data removed]",
      "text/plain": [
       "<matplotlib.figure.Figure at 0x7f92b86cdd50>"
      ]
     },
     "metadata": {},
     "output_type": "display_data"
    }
   ],
   "source": [
    "%matplotlib inline\n",
    "import matplotlib.pyplot as pl\n",
    "pl.plot(index_set, y)"
   ]
  },
  {
   "cell_type": "markdown",
   "metadata": {},
   "source": [
    "## Oppgaver"
   ]
  },
  {
   "cell_type": "markdown",
   "metadata": {},
   "source": [
    "### Oppg 1"
   ]
  },
  {
   "cell_type": "markdown",
   "metadata": {},
   "source": [
    "a) Hva skjer med bestanden etter 100 år?\n",
    "\n",
    "b) Hva skjer hvis vi endrer vekstraten til $r = 1.5$. Hva betyr egentlig dette?\n",
    "\n",
    "c) Diskuter hvor realistisk denne modellen er."
   ]
  },
  {
   "cell_type": "markdown",
   "metadata": {},
   "source": [
    "### Oppg 2"
   ]
  },
  {
   "cell_type": "markdown",
   "metadata": {},
   "source": [
    "Finne på et eksempel til :)"
   ]
  }
 ],
 "metadata": {
  "kernelspec": {
   "display_name": "Python 2",
   "language": "python",
   "name": "python2"
  },
  "language_info": {
   "codemirror_mode": {
    "name": "ipython",
    "version": 2
   },
   "file_extension": ".py",
   "mimetype": "text/x-python",
   "name": "python",
   "nbconvert_exporter": "python",
   "pygments_lexer": "ipython2",
   "version": "2.7.6"
  }
 },
 "nbformat": 4,
 "nbformat_minor": 0
}
