{
 "cells": [
  {
   "cell_type": "markdown",
   "metadata": {},
   "source": [
    "#Tallfølger"
   ]
  },
  {
   "cell_type": "markdown",
   "metadata": {},
   "source": [
    "Tall som kommer etter hverandre i en bestemt rekkefølge, kaller vi en tallfølge. La oss se på tallfølgen\n",
    "\n",
    "$$1, 3, 5, 7, 9$$\n",
    "\n",
    "Denne tallfølgen består av de fem første oddetallene i stigende rekkefølge. Vi kaller det for en *endelig* tallfølge med fem *ledd*. Dersom vi har en lengre tallfølge bruker vi gjerne $...$ for å slippe å skrive alle leddene i rekka. For eksempel kan vi skrive følgen av alle oddetall under 100 slik:\n",
    "\n",
    "$$1, 3, 5, 7, 9, \\ldots , 99$$\n",
    "\n",
    "\"$\\ldots$\" signaliserer at resten av leddene skal følge samme mønster. Her får vi f.eks. neste tall ved å legge til $2$.  Hvis vi vil ha en *uendelig* tallfølge, for eksempel alle oddetall, kan vi skrive det slik:\n",
    "\n",
    "$$1, 3, 5, 7, 9,  \\ldots$$\n",
    "\n",
    "Det er vanlig å kalle første ledd for  $x_1$, andre ledd for $x_2$, og så videre. Indeksene $1, 2, 3, \\ldots$ forteller hvilket nummer i tallfølgen leddet har. $x_n$ er med andre ord ledd nr. $n$ tallfølgen. I følgen over har vi da at $x_1 = 1$, $x_2 = 3$, $x_3 = 5$, $x_4 = 7$ osv. \n"
   ]
  },
  {
   "cell_type": "markdown",
   "metadata": {},
   "source": [
    " ![leddnummer](figs\\leddnummer.svg)"
   ]
  },
  {
   "cell_type": "markdown",
   "metadata": {
    "collapsed": true
   },
   "source": [
    "##Rekursive formler"
   ]
  },
  {
   "cell_type": "markdown",
   "metadata": {},
   "source": [
    "Rekursive formler beskriver hvordan det neste leddet i tallfølgen avhenger av leddet foran. En slik formel lar oss altså regne ut $x_n$ når $x_{n-1}$ er kjent. "
   ]
  },
  {
   "cell_type": "markdown",
   "metadata": {},
   "source": [
    "###Eksempel\n",
    "\n",
    "Vi har formelen $x_n = x_{n-1} + 2$ Hvilken følge er dette når det første leddet er 1? Hva er de fire første leddene?\n",
    "\n",
    "Formelen sier at vi kommer fra et ledd til neste ved å legge til 2"
   ]
  },
  {
   "cell_type": "markdown",
   "metadata": {},
   "source": [
    "\\begin{align*}\n",
    "x_1 &= 1 \\\\\n",
    "x_2 &= x_1 + 2 = 1 + 2 = 3 \\\\\n",
    "x_3 &= x_2 + 2 = 3 + 2 = 5 \\\\\n",
    "x_4 &= x_3 + 2 = 5 + 2 = 7 \\\\\n",
    "&\\vdots \\\\\n",
    "\\end{align*}\n"
   ]
  },
  {
   "cell_type": "markdown",
   "metadata": {},
   "source": [
    "Når det første leddet, $x_1$, er 1 har vi altså at den rekursive formelen $x_n = x_{x-1} + 2$  beskriver oddetallene som vi så på tidligere. "
   ]
  },
  {
   "cell_type": "markdown",
   "metadata": {},
   "source": [
    "###Oppgaver:\n",
    "\n",
    "1. Hvilken følge får vi fra $x_n = x_{n-1} + 2$ når  $x_1 = 2$?\n",
    "2. Gitt den rekursive formelen $x_n = 2x_{n-1}$, finn de fire første leddene."
   ]
  },
  {
   "cell_type": "markdown",
   "metadata": {},
   "source": [
    "##Modellering med rekursive formler "
   ]
  },
  {
   "cell_type": "markdown",
   "metadata": {},
   "source": [
    "**TODO:** litt intro om modellering?\n",
    "\n",
    "\n",
    "La oss se på et veldig enkelt eksempel. \n",
    "\n",
    "Gitt at du har en avtale om at du får en krone i lommepenger hver dag. Dette kan beskrives med følgende rekursive formel:\n",
    "\n",
    "$x_n = x_{n-1} + 1$\n",
    "\n",
    "Hvis du vet hvor mange penger du har i dag, $x_{n-1}$, kan du altså forutse hvor mange penger du kommer til å ha i morgen. Det er bare å legge til en krone. For å finne ut hvor mange penger du kommer til å ha i overmorgen gjentar du bare det samme en gang til. Du kan altså simulere hvor mange penger du kommer til å ha langt inn i fremtiden. Så lenge pengeveksten din fortsetter å følge denne modellen, det vil si at du hverken bruker penger eller mottar penger på noen annen måte.\n",
    "\n",
    "\n",
    "###Eksempel\n",
    "Sett at vi har 100 kroner som vi setter inn i en bank med 10% årlig rente, dvs. at vi på slutten av året får 10% av vi pengene vi for øyeblikket har liggende i banken. Anta at vi aldri legger inn eller tar ut noen penger fra banken, hvordan kan vi modellere hvor mange penger du kommer til å ha fremover? \n",
    "\n",
    "Anta at vi vet hvor mange penger du har ved år $n-1$, dvs. at vi kjenner $x_{n-1}$. Kan vi finne et utrykk for hvor mange penger vi kommer til å ha ved år $n$? Vi vet at vi kommer til å beholde de $x_{n-1}$ pengene vi hadde fra før. I tillegg får vi 10% av de pengene i renter. Altså får vi $0.1x_{n-1}$ nye penger. Dette gir oss formelen \n",
    "\n",
    "$$x_{n} = x_{n-1} + 0.1x_{n-1}$$\n",
    "\n",
    "Hvis vi nå for eksempel vil vite hvor mange penger vi kommer til å ha om 4 år er dette gitt ved: \n",
    "\n",
    "\\begin{align*}\n",
    "x_1 &= 100\\\\\n",
    "x_2 &= x_1 +  0.1 \\cdot x_1 =  100.0 +  0.1 \\cdot 100.0 =  110.0\\\\\n",
    "x_3 &= x_2 +  0.1 \\cdot x_2 =  110.0 +  0.1 \\cdot 110.0 =  121.0\\\\\n",
    "x_4 &= x_3 +  0.1 \\cdot x_3 =  121.0 +  0.1 \\cdot 121.0 =  133.1\\\\\n",
    "x_5 &= x_4 +  0.1 \\cdot x_4 =  133.1 +  0.1 \\cdot 133.1 =  146.41\\\\\n",
    "\\end{align*}\n",
    "\n",
    "\n",
    "Som du ser, kan det fort bli ganske slitsomt å skrive ut alt dersom vi vil regne ut mange ledd.  Hvis vi for eksempel vil vite hvor mange penger vi har om 50 år, vil dette ta fryktelig lang tid å regne ut  for hånd. \n",
    "\n",
    "###Oppgaver:\n",
    "\n",
    "1. TODO: oppgave her?"
   ]
  },
  {
   "cell_type": "markdown",
   "metadata": {},
   "source": [
    "##Populasjonsvekst"
   ]
  },
  {
   "cell_type": "markdown",
   "metadata": {},
   "source": [
    "Vi kan bruke rekursive formler til å modellere veksten i en populasjon av organismer. La oss prøve å diskutere oss fram til en brukbar modell for å beskrive veksten av en harebestand. La oss først se på modellen vi brukte i eksemplet med lommepengene."
   ]
  },
  {
   "cell_type": "markdown",
   "metadata": {},
   "source": [
    " $$x_n = x_{n-1} + 1$$"
   ]
  },
  {
   "cell_type": "markdown",
   "metadata": {},
   "source": [
    "Hvis vi bruker denne modellen til å beskrive harebestanden tilsvarer det at vi får en ny hare hver dag for alltid. Det høres ikke veldig realistisk ut. Det er naturlig å tenke seg at antall nye harer som fødes er avhengig av hvor mange harer som eksisterer.  Vi kan dermed tenke oss at antall nye harer som fødes er gitt ved $bx_{n-1}$, hvor $b$ er fødselsraten til harene. I tillegg lever ikke harene evig, så det vil hele tiden være noen av de eksisterende harene som dør. Antall døde harer er også avhengig av antall harer, og er gitt ved $dx_{n-1}$ hvor $d$ er dødsraten. Formelen blir da: "
   ]
  },
  {
   "cell_type": "markdown",
   "metadata": {},
   "source": [
    " \\begin{align*}\n",
    " y_n &= y_{n-1} +  b*y_{n-1} -  d*y_{n-1}\\\\\n",
    " y_n &= y_{n-1} + (b - d)*y_{n-1}\\\\\n",
    " \\end{align*}\n"
   ]
  },
  {
   "cell_type": "markdown",
   "metadata": {},
   "source": [
    "Vi ser at netto vekst av populasjonen er $(b-d) y_{n-1}$.Vekstraten kan uttrykkes som $r=b−d$ slik at vi får"
   ]
  },
  {
   "cell_type": "markdown",
   "metadata": {},
   "source": [
    "$$y_n = y_{n-1} + r*y_{n-1}$$"
   ]
  },
  {
   "cell_type": "markdown",
   "metadata": {},
   "source": [
    "Da har vi funnet en modell som vi kan bruke til å modellere populasjonsveksten så mange ledd vi trenger. Denne modellen kan vi også bruke til å beskrive mennesker, andre dyr, celler eller hvilke som helst objekter hvor antall fødsler og dødsfall er proporsjonale med antallet individer.  \n",
    "\n",
    "$n$ trenger ikke å måles i dager, men $b$ og $d$ er avhengig av hvor lang tid det går mellom hvert ledd. Det vil si at for tilsvarende populasjon vil verdiene av $b$ og $d$ være større hvis $n$ måles i år enn hvis $n$ er dager."
   ]
  },
  {
   "cell_type": "markdown",
   "metadata": {},
   "source": [
    "##Eksempel"
   ]
  },
  {
   "cell_type": "markdown",
   "metadata": {},
   "source": [
    "La oss gjøre dette litt mer konkret med et eksempel. $y$ representerer nå antall harer som bor på en øy i en innsjø. Fødselsraten er $7\\%$ per måned, dødsraten er $2\\%$ og vi starter med en bestand på 100 harer. Hvor mange harer bor det på øya etter 2 år? \n",
    "\n",
    "Nå må vi sette dette inn i formelen vår. Vi har altså $b = \\frac{7\\%}{100\\%}$ og $d = \\frac{2\\%}{100\\%}$ som gir vekstraten $r = b - d = 0.05$. Videre vet vi at vi starter med $y_0 = 100$ og vi kan regne ut \n",
    "\n",
    "$$y_1 = y_0 + r\\cdot y_0 =  100 + 0.05\\cdot 100 = 105$$\n",
    "$$y_2 = y_1 + r\\cdot y_1 = 105 + 0.05\\cdot 102 = 110.25$$\n",
    "$$\\qquad\\vdots\\qquad\\vdots\\qquad$$\n",
    "\n",
    "Slik kan vi fortsette å regne ut utviklingen av harebestanden.\n",
    "\n",
    "![populajsonsvekstformel](figs\\formel.svg)\n",
    "\n",
    "Her er tidssteget mellom $y_0$ og $y_1$ en måned så vi må regne ut 24 tidssteg for å finne ut hvor mange harer som bor på øya etter to år. I stedet for å gjøre dette for hånd kan vi skrive et lite program som gjør dette for oss!  \n",
    "\n"
   ]
  },
  {
   "cell_type": "code",
   "execution_count": 3,
   "metadata": {
    "collapsed": true
   },
   "outputs": [],
   "source": [
    "import numpy as np\n",
    "n = 12*2    #antall tidsintervaller\n",
    "y0 = 100     #antall harer når vi starter\n",
    "r = 0.05     #vekstrate (dvs 2% per mnd)\n",
    "index_set = range(n+1)\n",
    "y = np.zeros(len(index_set))\n",
    "y[0] = y0\n",
    "for k in index_set[:-1]: \n",
    "    y[k+1] = y[k] + r*y[k]"
   ]
  },
  {
   "cell_type": "markdown",
   "metadata": {},
   "source": [
    "Vi kan nå skrive ut resultatet: "
   ]
  },
  {
   "cell_type": "code",
   "execution_count": 4,
   "metadata": {
    "collapsed": false
   },
   "outputs": [
    {
     "name": "stdout",
     "output_type": "stream",
     "text": [
      "[ 100.          105.          110.25        115.7625      121.550625\n",
      "  127.62815625  134.00956406  140.71004227  147.74554438  155.1328216\n",
      "  162.88946268  171.03393581  179.5856326   188.56491423  197.99315994\n",
      "  207.89281794  218.28745884  229.20183178  240.66192337  252.69501954\n",
      "  265.32977051  278.59625904  292.52607199  307.15237559  322.50999437]\n"
     ]
    }
   ],
   "source": [
    "print y"
   ]
  },
  {
   "cell_type": "markdown",
   "metadata": {},
   "source": [
    "Eller vi kan lage et plot:"
   ]
  },
  {
   "cell_type": "code",
   "execution_count": 6,
   "metadata": {
    "collapsed": false
   },
   "outputs": [
    {
     "data": {
      "text/plain": [
       "[<matplotlib.lines.Line2D at 0xa7d0160>]"
      ]
     },
     "execution_count": 6,
     "metadata": {},
     "output_type": "execute_result"
    },
    {
     "data": {
      "image/png": "[encoded data removed]",
      "text/plain": [
       "<matplotlib.figure.Figure at 0xa5c0128>"
      ]
     },
     "metadata": {},
     "output_type": "display_data"
    }
   ],
   "source": [
    "%matplotlib inline\n",
    "import matplotlib.pyplot as pl\n",
    "pl.plot(index_set, y)"
   ]
  },
  {
   "cell_type": "markdown",
   "metadata": {},
   "source": [
    "## Oppgaver"
   ]
  },
  {
   "cell_type": "markdown",
   "metadata": {},
   "source": [
    "### Oppg 1\n",
    "\n",
    "a) Hva skjer med harebestanden etter 5, 10 og 20 år? \n",
    "\n",
    "b) La oss si at det dukker opp en ørn i område og dødsraten øker til $20\\%$ per mnd. Hva skjer med harebestanden etter 2 år? \n",
    "\n",
    "c) Diskuter med sidemannen. Hva syns dere om denne modellen? Når kan den være nyttig? Når er den urealistisk?\n"
   ]
  },
  {
   "cell_type": "markdown",
   "metadata": {},
   "source": [
    "### Oppg 2\n",
    "\n",
    "a) Lag et program som simulerer vekst av bakterier. Vi starter med en bakterie. Antall bakterier dobles hver time. Hvor mange bakterier har vi etter ett døgn? \n",
    "\n",
    "b) Bakteriene fra a) dyrkes i en bakteriekultur. Etter 15 timer begynner det å bli lite plass og mat igjen og det dør like mange bakterier som det skapes ved celledeling. Etter 18 timer begynner antall celler å synke og $r = -0.3$. Tilpass programmet du laget i a) og finn ut hvor lang tid det tar før antall bakterier er mindre enn 1000.\n",
    "\n",
    "Hint! Bruk if/else statement.\n",
    "\n",
    "Du kan lese mer her: http://www.textbookofbacteriology.net/growth_3.html"
   ]
  },
  {
   "cell_type": "markdown",
   "metadata": {
    "collapsed": true
   },
   "source": [
    "##Bærekraftig vekst"
   ]
  },
  {
   "cell_type": "markdown",
   "metadata": {},
   "source": [
    "Den forrige modellen førte til at bestanden vokste raskere og raskere ettersom tiden gikk. Denne typen vekst kaller vi *eksponensiell vekst*, og en slik type vekst kan ikke fortsette for alltid. I naturen er det som regel en øvre grense ($M$) for hvor mange individer som kan leve i et område samtidig. Mat- og plassmangel, konkurranse mellom individer, rovdyr og smittsomme sykdommer er alle faktorer som begrenser veksten av en bestand. Tallet $M$ kalles systemets *bæreevne* og representerer den maksimale størrelsen på en bestand som er bærekraftig over tid. Når veksten er begrenset betyr det at vekstraten $r$ må være avhengig av tiden:\n",
    "\n",
    "$$y_n = y_{n-1} + r(n-1)y_{n-1}$$\n",
    "\n",
    "I begynnelsen når det er nok ressurser så vokser bestanden eksponensielt, men med tiden når $y$ går mot $M$ stopper veksten opp og $r$ går mot null. Her er en funksjon med disse egenskapene \n",
    "\n",
    "$r(n) = R\\left(1 - \\frac{y_n}{M}\\right)$\n",
    "\n",
    "Når $n$ er liten så er $y_n << M$ og $r(n) \\approx R$ som er vekstraten ved ubegrenset tilgang til ressurser. Men når $n$ nærmer seg $M$ så går $r(n)$ mot null akkurat slik som vi ønsket. Dette kalles logistisk vekst og kan skrives som en likning på formen\n",
    "\n",
    "$$y_n = y_{n-1} + Ry_{n-1}\\left(1 - \\frac{y_n}{M}\\right)$$"
   ]
  },
  {
   "cell_type": "markdown",
   "metadata": {},
   "source": [
    "## Eksempel"
   ]
  },
  {
   "cell_type": "markdown",
   "metadata": {},
   "source": [
    "La oss gå tilbake til harene fra forrige eksempel. Fortsatt representerer $y$ antall harer som bor på en øy. Til å begynne med er fødselsraten $7\\%$ per måned, dødsraten $2\\%$ og vi starter med en bestand på 100 harer. Vi antar at for at bestanden skal være bærekraftig kan det maksimalt være 500 harer på øya. Hvor mange harer bor det på øya etter 5 år? \n",
    "\n",
    "Vi har altså $b = \\frac{7\\%}{100\\%}$ og $d = \\frac{2\\%}{100\\%}$ som gir initiell vekstrate $R = b - d = 0.05$. Videre vet vi at vi starter med $y_0 = 100$ og at bæreevnen $M = 500$.\n",
    "Nå kan vi sette dette inn i den nye formelen vår og regne ut\n",
    "\n",
    "$$y_1 = y_{0} + Ry_{0}\\left(1 - \\frac{y_0}{M}\\right) = 100 + 0.05\\cdot100\\left(1 - \\frac{100}{500}\\right) = 104$$\n",
    "$$\\qquad\\vdots\\qquad\\vdots\\qquad$$\n",
    "\n",
    "Slik kan vi fortsette å regne ut utviklingen av harebestanden.\n",
    "Her er tidssteget mellom $y_0$ og $y_1$ en måned så vi må regne ut 60 tidssteg for å finne ut hvor mange harer som bor på øya etter fem år. I stedet for å gjøre dette for hånd kan vi skrive et tilsvarende program som i forrige eksempel "
   ]
  },
  {
   "cell_type": "code",
   "execution_count": 1,
   "metadata": {
    "collapsed": false
   },
   "outputs": [
    {
     "name": "stdout",
     "output_type": "stream",
     "text": [
      "[ 100.          104.          108.1184      112.35536116  116.7107565\n",
      "  121.18415425  125.77480204  130.48161206  135.30314756  140.23761076\n",
      "  145.28283255  150.43626404  155.69497028  161.05562642  166.51451626\n",
      "  172.06753366  177.71018673  183.43760502  189.24454978  195.12542731\n",
      "  201.07430543  207.08493307  213.15076278  219.26497615  225.42051198\n",
      "  231.61009686  237.826278    244.06145805  250.30793142  256.55792194\n",
      "  262.80362131  269.03722804  275.25098643  281.4372252   287.58839529\n",
      "  293.69710654  299.75616283  305.75859525  311.69769316  317.56703263\n",
      "  323.36050224  329.07232591  334.69708263  340.22972305  345.66558276\n",
      "  351.00039239  356.23028446  361.35179713  366.36187486  371.25786626\n",
      "  376.03751925  380.69897363  385.24075145  389.66174537  393.96120506\n",
      "  398.1387222   402.1942141   406.12790622  409.94031391  413.63222351\n",
      "  417.20467305  420.65893278  423.99648565  427.21900795  430.32835027\n",
      "  433.32651888  436.21565763  438.99803051  441.67600496  444.25203587\n",
      "  446.72865053  449.10843433  451.39401747  453.58806244  455.69325253\n",
      "  457.71228111  459.64784194  461.50262018  463.27928434  464.98047903\n",
      "  466.60881839  468.16688037  469.6572016   471.08227298  472.44453584\n",
      "  473.74637869  474.99013449  476.17807843  477.31242611  478.3953322\n",
      "  479.42888943  480.4151279   481.35601478  482.25345422  483.10928752\n",
      "  483.92529353  484.70318923  485.44463053  486.15121313  486.82447358\n",
      "  487.46589045  488.07688554  488.6588252   489.21302171  489.74073474\n",
      "  490.24317275  490.72149454  491.17681075  491.61018534  492.02263718\n",
      "  492.41514149  492.78863141  493.14399945  493.482099    493.80374575\n",
      "  494.10971911  494.40076361  494.67759028  494.94087797  495.1912746\n",
      "  495.42939848]\n"
     ]
    }
   ],
   "source": [
    "import numpy as np\n",
    "y0 = 100       # antall individer når vi starter\n",
    "M = 500        # bæreevne\n",
    "R = 0.05       # vekstrate når vi starter\n",
    "N = 12*10      # antall tidsintervaller (gjør om dette til dager eller år konkret eksempel!)\n",
    "index_set = range(N+1)\n",
    "y = np.zeros(len(index_set))\n",
    "\n",
    "# Regn ut løsning for hvert intervall\n",
    "y[0] = y0\n",
    "for n in index_set[1:]:\n",
    "    y[n] = y[n-1] + R*y[n-1]*(1 - y[n-1]/float(M))\n",
    "print y"
   ]
  },
  {
   "cell_type": "code",
   "execution_count": 2,
   "metadata": {
    "collapsed": false
   },
   "outputs": [
    {
     "data": {
      "text/plain": [
       "[<matplotlib.lines.Line2D at 0xa497da0>]"
      ]
     },
     "execution_count": 2,
     "metadata": {},
     "output_type": "execute_result"
    },
    {
     "data": {
      "image/png": "[encoded data removed]",
      "text/plain": [
       "<matplotlib.figure.Figure at 0x3d28b70>"
      ]
     },
     "metadata": {},
     "output_type": "display_data"
    }
   ],
   "source": [
    "%matplotlib inline\n",
    "import matplotlib.pyplot as pl\n",
    "pl.plot(index_set, y)"
   ]
  },
  {
   "cell_type": "markdown",
   "metadata": {},
   "source": [
    "## Oppgaver"
   ]
  },
  {
   "cell_type": "markdown",
   "metadata": {},
   "source": [
    "### Oppg 1\n",
    "\n",
    "a) Hva skjer med bestanden etter 100 år?\n",
    "\n",
    "b) Hva skjer hvis vi endrer vekstraten til $r = 1.5$. Hva betyr egentlig dette?\n",
    "\n",
    "c) Diskuter hvor realistisk denne modellen er."
   ]
  },
  {
   "cell_type": "markdown",
   "metadata": {},
   "source": [
    "### Oppg 2\n",
    "\n",
    "La $x$ representere antall reinsdyr som bor på en øy. Vi starter med 50 reinsdyr, fødselsraten er $5\\%$ per måned og dødsraten  er $2\\%$. Vi antar at for at bestanden skal være bærekraftig kan det maksimalt være 600 reinsdyr på øya.\n",
    "\n",
    "La oss i tillegg si at etter 15 år minsker ressursene på øya dramatisk og det er nå bare plass til 200 reinsdyr for at bestanden skal fortsette å være bærekraftig. Lag et plot som viser utviklingen i en slik situasjon over 30 år. "
   ]
  },
  {
   "cell_type": "markdown",
   "metadata": {},
   "source": [
    "##Rovdyr og byttedyr"
   ]
  },
  {
   "cell_type": "markdown",
   "metadata": {},
   "source": [
    "La oss se på en tredje populasjonmodell: *Byttedyr-rovdyr modellen*. Denne modellen brukes til å beskrive samspillet mellom en rovdyrbestand og en byttedyrbestand. Det finnes flere slike par i naturen, for eksempel løver og gaseller eller  gauper og harer. \n",
    "\n",
    "La bruke gauper og harer som et eksempel. La mengden gauper etter $n$ måneder være gitt ved $x_n$, og mengden harer etter $n$ måneder være gitt ved $y_n$. Antall gauper er avhengig av hvor mange harer de kan finne og spise, mens antall harer er avhengig av hvor mange gauper som kan spise dem. \n",
    "\n",
    "Vi kan beskrive denne sammenkoblede befolkningsveksten med følgende likninger:\n",
    "\n",
    "\\begin{align*}\n",
    "y_{n} &= y_{n-1} + c y_{n-1} – d x_{n-1} y_{n-1}\\\\\n",
    "x_{n} &= x_{n-1} – a x_{n-1} + b x_{n-1} y_{n-1}\\\\\n",
    "\\end{align*}\n",
    "\n",
    "hvor $a$, $b$, $c$, og $d$ er positive konstanter\n",
    "\n",
    "####Den første likningen beskriver utviklingen av harebestanden####\n",
    "\n",
    "* $y_{n-1} + c y_{n-1}$ leddet tilsvarer veksten av harer når det ikke er noen gauper til å spise dem. Da vokser harebestanden likt som den eksponentielle modellen vi så på tidligere med vekstrate $c$.\n",
    "\n",
    "* $– d x_{n-1} y_{n-1}$ leddet representerer harene som blir spist av gauper og dermed forsvinner fra bestanden med rate $d$. Det inneholder produktet av $x_n$ og $y_n$ fordi denne prosessen involverer både harer og gauper\n",
    "\n",
    "####Den andre likningen beskriver utviklingen av gaupebestanden####\n",
    "\n",
    "* $x_{n-1} – a x_{n-1} $ leddet representerer hva som skjer med gaupene dersom det ikke finnes noen harer. Da dør gaupene av sult med en rate $a$. \n",
    "\n",
    "* $b x_{n-1} y_{n-1}$ leddet beskriver hvordan det går med gaupene når de får mat og kan reprodusere med en rate $b$.\n",
    "\n",
    "denne modellen kan beskrive flere utfall for byttedyrene og rovdyrene. Utryddelse, likevekt og rovdyr-byttedyr syklus. "
   ]
  },
  {
   "cell_type": "markdown",
   "metadata": {},
   "source": [
    "## Eksempel\n",
    "\n",
    "La oss se på et konkret eksempel. Antar at vi har en øy som er bebodd av både harer og gauper. Antall gauper etter $n$ måneder er gitt ved $x_n$, og antall harer etter $n$ måneder er gitt ved $y_n$.  Harene har en vekstrate på $5\\%$ og de blir spist av gauper med en rate på $0.03\\%$. Revene dør av sult med en rate på $2\\%$ og reproduserer med en rate på $0.01\\%$. Lag et plot som viser befolkningsveksten til de to artene når $x_0 = 50$ og $y_0 = 100$. \n"
   ]
  },
  {
   "cell_type": "markdown",
   "metadata": {},
   "source": [
    "\\begin{align*}\n",
    "y_{n} &= y_{n-1} + 0.05 y_{n-1} – 0.0003 x_{n-1} y_{n-1} \\\\\n",
    "x_{n} &= x_{n-1} – 0.02 x_{n-1} + 0.0001 x_{n-1} y_{n-1} \\\\\n",
    "\\end{align*}"
   ]
  },
  {
   "cell_type": "markdown",
   "metadata": {},
   "source": [
    "\\begin{align*}\n",
    "y_{1} &= y_{0} + 0.05 y_{0} – 0.0003 x_{0} y_{0} = 100 + 0.05*100 – 0.0003*50*100 = 103.5\\\\\n",
    "x_{1} &= x_{0} – 0.02 x_{0} + 0.0001 x_{0} y_{0} = 50 – 0.02*50 + 0.0001*50*100 = 49.5\\\\\n",
    "\\end{align*}\n",
    "$$\\qquad\\vdots\\qquad\\vdots\\qquad$$"
   ]
  },
  {
   "cell_type": "markdown",
   "metadata": {},
   "source": [
    "programkode:"
   ]
  },
  {
   "cell_type": "code",
   "execution_count": 124,
   "metadata": {
    "collapsed": false
   },
   "outputs": [],
   "source": [
    "import numpy as np\n",
    "n = 12*50    #antall tidsintervaller\n",
    "y0 = 100     #antall byttedyr når vi starter\n",
    "x0 = 50    #antall rovdyr når vi starter\n",
    "index_set = range(n+1)\n",
    "\n",
    "x = np.zeros(len(index_set))\n",
    "y = np.zeros(len(index_set))\n",
    "\n",
    "\n",
    "a = 0.05   # dødsrate gauper\n",
    "b = 0.0003 # reproduksjonsrate gauper\n",
    "\n",
    "c = 0.02   # vekstrare harer\n",
    "d = 0.0001 # dødsrate harer\n",
    "\n",
    "\n",
    "y[0] = y0\n",
    "x[0] = x0\n",
    "for k in index_set[:-1]: \n",
    "    #print y[k]\n",
    "    y[k+1] = y[k] + c*y[k] - d*y[k]*x[k]\n",
    "    x[k+1] = x[k] - a*x[k] + b*x[k]*y[k]"
   ]
  },
  {
   "cell_type": "code",
   "execution_count": 125,
   "metadata": {
    "collapsed": false
   },
   "outputs": [
    {
     "data": {
      "image/png": "[encoded data removed]",
      "text/plain": [
       "<matplotlib.figure.Figure at 0xb33c5f8>"
      ]
     },
     "metadata": {},
     "output_type": "display_data"
    }
   ],
   "source": [
    "%matplotlib inline\n",
    "import matplotlib.pyplot as pl\n",
    "pl.plot(index_set, x)\n",
    "pl.plot(index_set, y)\n",
    "pl.legend([\"rovdyr\",\"byttedyr\"])\n",
    "pl.show()"
   ]
  },
  {
   "cell_type": "markdown",
   "metadata": {},
   "source": [
    "##Oppgaver\n",
    "\n",
    "###oppgave1\n",
    "\n",
    "a) Hvor mange harer lever etter 10 år? hvor mange gauper?\n",
    "\n",
    "b) Hva skjer hvis vi endrer vekstraten til harer til $c = 0.005$. Hva betyr egentlig dette?\n",
    "\n",
    "c) Diskuter hvor realistisk denne modellen er.\n",
    "\n",
    "###oppgave2\n",
    "\n",
    "a) La $y_n$ være antall lemen som bor på en øy sammen med rever gitt med $x_n$. Vekstraten til lemenene er $6\\%$ og de blir spist av gauper med en rate på $0.03\\%$. Revene dør av sult med en rate på $2\\%$ og reproduserer med en rate på $0.01\\%$. Lag et plot som viser befolkningsveksten til de to artene når $x_0 = 100$ og $y_0 = 50$\n",
    "\n",
    "b) Prøv forskjellige startverdier for antall lemen og rev. \n",
    "\n",
    "c) Sett $c = 0$. Hva skjer? diskuter med sidemanen hva du tror dette betyr\n"
   ]
  },
  {
   "cell_type": "code",
   "execution_count": null,
   "metadata": {
    "collapsed": true
   },
   "outputs": [],
   "source": []
  },
  {
   "cell_type": "markdown",
   "metadata": {
    "collapsed": true
   },
   "source": [
    "Ekstraoppgaver kanskje? SIR?"
   ]
  },
  {
   "cell_type": "code",
   "execution_count": null,
   "metadata": {
    "collapsed": true
   },
   "outputs": [],
   "source": []
  }
 ],
 "metadata": {
  "kernelspec": {
   "display_name": "Python 2",
   "language": "python",
   "name": "python2"
  },
  "language_info": {
   "codemirror_mode": {
    "name": "ipython",
    "version": 2
   },
   "file_extension": ".py",
   "mimetype": "text/x-python",
   "name": "python",
   "nbconvert_exporter": "python",
   "pygments_lexer": "ipython2",
   "version": "2.7.9"
  }
 },
 "nbformat": 4,
 "nbformat_minor": 0
}
