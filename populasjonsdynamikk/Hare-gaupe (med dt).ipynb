{
 "cells": [
  {
   "cell_type": "code",
   "execution_count": 4,
   "metadata": {
    "collapsed": false
   },
   "outputs": [],
   "source": [
    "from numpy import *\n",
    "from matplotlib.pyplot import *\n",
    "\n",
    "T = 12*50        #ser paa utviklingen over femti aar\n",
    "dt = 1./12       #tidssteg paa en mnd. \n",
    "n = int(T/dt)    #antall tidssteg\n",
    "\n",
    "y0 = 100    #antall byttedyr naar vi starter\n",
    "x0 = 50     #antall rovdyr naar vi starter\n",
    "t0 = 0      #starttidspunkt\n",
    "\n",
    "#Lager tomme lister med verdier for t (tiden), y (byttedyr) og x (rovdyr):\n",
    "y = zeros(n+1)\n",
    "x = zeros(n+1)\n",
    "t = zeros(n+1)\n",
    "\n",
    "#Fyller inn startverdier for alle listene:\n",
    "y[0] = y0\n",
    "x[0] = x0\n",
    "t[0] = t0\n",
    "\n",
    "a = 0.05   # sultrate gauper\n",
    "b = 0.0003 # reproduksjonsrate gauper\n",
    "\n",
    "c = 0.02   # vekstrare harer\n",
    "d = 0.0001 # spistrate harer\n",
    "\n",
    "for i in range(0, n):\n",
    "    y[i+1] = y[i] + c*y[i]*dt - d*y[i]*x[i]*dt\n",
    "    x[i+1] = x[i] - a*x[i]*dt + b*x[i]*y[i]*dt\n",
    "\n",
    "    t[i+1] = t[i] + dt\n",
    "\n",
    "plot(t, x, t, y)\n",
    "legend([\"Gauper\",\"Harer\"])\n",
    "title('Hare vs. gaupe: populasjonsutvikling')\n",
    "xlabel('aar')\n",
    "ylabel('populasjon')\n",
    "show()"
   ]
  },
  {
   "cell_type": "code",
   "execution_count": null,
   "metadata": {
    "collapsed": true
   },
   "outputs": [],
   "source": []
  }
 ],
 "metadata": {
  "kernelspec": {
   "display_name": "Python 2",
   "language": "python",
   "name": "python2"
  },
  "language_info": {
   "codemirror_mode": {
    "name": "ipython",
    "version": 2
   },
   "file_extension": ".py",
   "mimetype": "text/x-python",
   "name": "python",
   "nbconvert_exporter": "python",
   "pygments_lexer": "ipython2",
   "version": "2.7.9"
  }
 },
 "nbformat": 4,
 "nbformat_minor": 0
}
