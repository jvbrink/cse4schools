{
 "metadata": {
  "name": ""
 },
 "nbformat": 3,
 "nbformat_minor": 0,
 "worksheets": [
  {
   "cells": [
    {
     "cell_type": "heading",
     "level": 1,
     "metadata": {},
     "source": [
      "B\u00e6rekraftig bestand"
     ]
    },
    {
     "cell_type": "markdown",
     "metadata": {},
     "source": [
      "Den forrige modellen f\u00f8rte til at bestanden vokste raskere og raskere ettersom tiden gikk og vi fikk en eksponensiell vekst. I naturen er det en \u00f8vre grense ($M$) for hvor mange individer som kan leve i et omr\u00e5de samtidig. Mat- og plassmangel, ( mellom individer, rovdyr og smittsomme sykdommer er alle faktorer som begrenser veksten av en bestand. Tallet $M$ kalles systemets b\u00e6reevne og representerer den maksimale st\u00f8rrelsen p\u00e5 en bestand som er b\u00e6rekraftig over tid. N\u00e5r veksten er begrenset betyr det at vekstraten $r$ m\u00e5 v\u00e6re avhengig av tiden:\n",
      "\n",
      "$$y_n = y_{n-1} + r(n-1)y_{n-1}$$\n",
      "\n",
      "I begynnelsen n\u00e5r det er nok ressurser s\u00e5 vokser bestanden eksponensielt, men med tiden n\u00e5r $y$ g\u00e5r mot $M$ stopper veksten opp og $r$ g\u00e5r mot null. Her er en funksjon med disse egenskapene \n",
      "\n",
      "$r(n) = R\\left(1 - \\frac{y_n}{M}\\right)$\n",
      "\n",
      "N\u00e5r $n$ er liten s\u00e5 er $y_n << M$ og $r(n) \\approx R$ som er vekstraten ved ubegrenset tilgang til ressurser. Men n\u00e5r $n$ n\u00e6rmer seg $M$ s\u00e5 g\u00e5r $r(n)$ mot null akkurat slik som vi \u00f8nsket. Dette kalles logistisk vekst og vi kan skrive dette som en likning\n",
      "\n",
      "$$y_n = y_{n-1} + Ry_{n-1}\\left(1 - \\frac{y_n}{M}\\right)$$\n",
      "\n",
      "Nedenfor er et program som simulerer $N = 200$ tidsintervall for et eksempel hvor vi starter med $y_0 = 100$ individer, en b\u00e6reevne p\u00e5 $M = 500$ og en initiell vekstrate p\u00e5 $R = 0.04$ (dvs 4\\%) i hvert tidsintervall: "
     ]
    },
    {
     "cell_type": "code",
     "collapsed": false,
     "input": [
      "import numpy as np\n",
      "y0 = 100       # antall individer n\u00e5r vi starter\n",
      "M = 500        # b\u00e6reevne\n",
      "R = 0.04       # vekstrate n\u00e5r vi starter\n",
      "N = 200        # antall tidsintervaller (gj\u00f8r om dette til dager eller \u00e5r konkret eksempel!)\n",
      "index_set = range(N+1)\n",
      "y = np.zeros(len(index_set))\n",
      "\n",
      "# Regn ut l\u00f8sning for hvert intervall\n",
      "y[0] = y0\n",
      "for n in index_set[1:]:\n",
      "    y[n] = y[n-1] + R*y[n-1]*(1 - y[n-1]/float(M))\n",
      "print y"
     ],
     "language": "python",
     "metadata": {},
     "outputs": [
      {
       "output_type": "stream",
       "stream": "stdout",
       "text": [
        "[ 100.          103.2         106.4759808   109.82804927  113.25619521\n",
        "  116.76028576  120.34006004  123.99512404  127.72494574  131.52885063\n",
        "  135.40601757  139.3554751   143.37609823  147.46660572  151.62555796\n",
        "  155.8513555   160.14223812  164.49628473  168.9114139   173.3853852\n",
        "  177.91580126  182.50011072  187.13561192  191.81945742  196.54865937\n",
        "  201.32009571  206.13051706  210.97655454  215.8547282   220.76145623\n",
        "  225.69306483  230.64579867  235.61583186  240.59927951  245.59220963\n",
        "  250.59065534  255.59062743  260.58812702  265.57915835  270.55974153\n",
        "  275.52592529  280.47379947  285.39950727  290.29925726  295.16933485\n",
        "  300.00611334  304.80606443  309.56576806  314.2819216   318.95134837\n",
        "  323.57100529  328.13798986  332.64954623  337.10307043  341.49611484\n",
        "  345.82639172  350.09177593  354.29030684  358.42018939  362.47979439\n",
        "  366.46765806  370.38248083  374.2231255   377.9886147   381.67812786\n",
        "  385.29099752  388.82670519  392.28487687  395.66527797  398.96780812\n",
        "  402.19249549  405.33949103  408.40906244  411.40158795  414.31755014\n",
        "  417.15752956  419.92219839  422.61231411  425.22871323  427.77230507\n",
        "  430.24406568  432.64503182  434.97629521  437.23899682  439.43432147\n",
        "  441.5634925   443.62776676  445.6284298   447.5667912   449.44418024\n",
        "  451.26194176  453.02143222  454.72401606  456.37106224  457.96394102\n",
        "  459.50402096  460.99266617  462.43123376  463.82107143  465.16351538\n",
        "  466.45988832  467.71149766  468.91963396  470.08556947  471.21055684\n",
        "  472.295828    473.34259319  474.35204008  475.32533304  476.26361259\n",
        "  477.1679948   478.03957097  478.87940729  479.68854465  480.46799844\n",
        "  481.21875858  481.94178943  482.63802994  483.3083937   483.95376918\n",
        "  484.57501989  485.17298469  485.74847807  486.30229048  486.83518868\n",
        "  487.34791615  487.84119349  488.31571882  488.77216828  489.21119641\n",
        "  489.63343669  490.03950197  490.42998497  490.80545876  491.16647724\n",
        "  491.51357566  491.84727108  492.16806288  492.47643322  492.77284757\n",
        "  493.05775513  493.33158934  493.59476835  493.84769546  494.09075957\n",
        "  494.32433566  494.54878518  494.76445651  494.97168538  495.17079525\n",
        "  495.36209774  495.54589302  495.72247018  495.89210759  496.0550733\n",
        "  496.21162537  496.36201222  496.50647293  496.64523764  496.77852778\n",
        "  496.90655643  497.02952862  497.14764158  497.26108504  497.37004151\n",
        "  497.47468652  497.57518888  497.67171095  497.76440883  497.85343265\n",
        "  497.93892673  498.02102981  498.09987532  498.17559147  498.24830153\n",
        "  498.31812399  498.38517274  498.44955721  498.51138261  498.57075003\n",
        "  498.62775661  498.6824957   498.73505701  498.78552672  498.83398766\n",
        "  498.88051938  498.92519835  498.968098    499.00928889  499.04883882\n",
        "  499.08681289  499.12327366  499.15828122  499.19189329  499.22416532\n",
        "  499.25515055  499.28490015  499.31346323  499.340887    499.36721676\n",
        "  499.39249606]\n"
       ]
      }
     ],
     "prompt_number": 1
    },
    {
     "cell_type": "code",
     "collapsed": false,
     "input": [
      "%matplotlib inline\n",
      "import matplotlib.pyplot as pl\n",
      "pl.plot(index_set, y)"
     ],
     "language": "python",
     "metadata": {},
     "outputs": [
      {
       "metadata": {},
       "output_type": "pyout",
       "prompt_number": 2,
       "text": [
        "[<matplotlib.lines.Line2D at 0x7f67c503c490>]"
       ]
      },
      {
       "metadata": {},
       "output_type": "display_data",
       "png": "[encoded data removed]",
       "text": [
        "<matplotlib.figure.Figure at 0x7f67c510ce50>"
       ]
      }
     ],
     "prompt_number": 2
    },
    {
     "cell_type": "markdown",
     "metadata": {},
     "source": [
      "Resultatet viser at populasjonen stabiliseres over tid.\n",
      "\n",
      "I naturen hender det at en bestand er st\u00f8rre enn b\u00e6reevnen. Hvordan kan vi legge til det i modellen?"
     ]
    }
   ],
   "metadata": {}
  }
 ]
}