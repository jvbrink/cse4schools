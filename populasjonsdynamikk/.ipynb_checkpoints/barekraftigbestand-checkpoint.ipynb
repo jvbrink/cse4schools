{
 "metadata": {
  "name": ""
 },
 "nbformat": 3,
 "nbformat_minor": 0,
 "worksheets": [
  {
   "cells": [
    {
     "cell_type": "heading",
     "level": 1,
     "metadata": {},
     "source": [
      "B\u00e6rekraftig bestand"
     ]
    },
    {
     "cell_type": "heading",
     "level": 2,
     "metadata": {},
     "source": [
      "Dette m\u00e5 du kunne"
     ]
    },
    {
     "cell_type": "markdown",
     "metadata": {},
     "source": [
      "I dette eksempelet bruker vi arrays, l\u00f8kker og plot funksjonalitet. "
     ]
    },
    {
     "cell_type": "heading",
     "level": 2,
     "metadata": {},
     "source": [
      "Modell"
     ]
    },
    {
     "cell_type": "markdown",
     "metadata": {},
     "source": [
      "Den forrige modellen f\u00f8rte til at bestanden vokste raskere og raskere ettersom tiden gikk og vi fikk en eksponensiell vekst. I naturen er det som regel en \u00f8vre grense ($M$) for hvor mange individer som kan leve i et omr\u00e5de samtidig. Mat- og plassmangel, konkurranse mellom individer, rovdyr og smittsomme sykdommer er alle faktorer som begrenser veksten av en bestand. Tallet $M$ kalles systemets b\u00e6reevne og representerer den maksimale st\u00f8rrelsen p\u00e5 en bestand som er b\u00e6rekraftig over tid. N\u00e5r veksten er begrenset betyr det at vekstraten $r$ m\u00e5 v\u00e6re avhengig av tiden:\n",
      "\n",
      "$$y_n = y_{n-1} + r(n-1)y_{n-1}$$\n",
      "\n",
      "I begynnelsen n\u00e5r det er nok ressurser s\u00e5 vokser bestanden eksponensielt, men med tiden n\u00e5r $y$ g\u00e5r mot $M$ stopper veksten opp og $r$ g\u00e5r mot null. Her er en funksjon med disse egenskapene \n",
      "\n",
      "$r(n) = R\\left(1 - \\frac{y_n}{M}\\right)$\n",
      "\n",
      "N\u00e5r $n$ er liten s\u00e5 er $y_n << M$ og $r(n) \\approx R$ som er vekstraten ved ubegrenset tilgang til ressurser. Men n\u00e5r $n$ n\u00e6rmer seg $M$ s\u00e5 g\u00e5r $r(n)$ mot null akkurat slik som vi \u00f8nsket. Dette kalles logistisk vekst og kan skrives som en likning p\u00e5 formen\n",
      "\n",
      "$$y_n = y_{n-1} + Ry_{n-1}\\left(1 - \\frac{y_n}{M}\\right)$$\n",
      "\n"
     ]
    },
    {
     "cell_type": "heading",
     "level": 2,
     "metadata": {},
     "source": [
      "Eksempel"
     ]
    },
    {
     "cell_type": "markdown",
     "metadata": {},
     "source": [
      "La oss g\u00e5 tilbake til harene fra forrige eksempel. Fortsatt representerer $y$ antall harer som bor p\u00e5 en \u00f8y. Til \u00e5 begynne med er f\u00f8dselsraten $7\\%$ per m\u00e5ned, d\u00f8dsraten $2\\%$ og vi starter med en bestand p\u00e5 100 harer. Vi antar at for at bestanden skal v\u00e6re b\u00e6rekraftig kan det maksimalt v\u00e6re 500 harer p\u00e5 \u00f8ya. Hvor mange harer bor det p\u00e5 \u00f8ya etter 5 \u00e5r? \n",
      "\n",
      "Vi har alts\u00e5 $b = \\frac{7\\%}{100\\%}$ og $d = \\frac{2\\%}{100\\%}$ som gir initiell vekstrate $R = b - d = 0.05$. Videre vet vi at vi starter med $y_0 = 100$ og at b\u00e6reevnen $M = 500$.\n",
      "N\u00e5 kan vi sette dette inn i den nye formelen v\u00e5r og regne ut\n",
      "\n",
      "$$y_1 = y_{0} + Ry_{0}\\left(1 - \\frac{y_0}{M}\\right) = 100 + 0.05\\cdot100\\left(1 - \\frac{100}{500}\\right) = 104$$\n",
      "$$\\qquad\\vdots\\qquad\\vdots\\qquad$$\n",
      "\n",
      "Slik kan vi fortsette \u00e5 regne ut utviklingen av harebestanden.\n",
      "Her er tidssteget mellom $y_0$ og $y_1$ en m\u00e5ned s\u00e5 vi m\u00e5 regne ut 60 tidssteg for \u00e5 finne ut hvor mange harer som bor p\u00e5 \u00f8ya etter fem \u00e5r. I stedet for \u00e5 gj\u00f8re dette for h\u00e5nd kan vi skrive et tilsvarende program som i forrige eksempel \n"
     ]
    },
    {
     "cell_type": "code",
     "collapsed": false,
     "input": [
      "import numpy as np\n",
      "y0 = 100       # antall individer n\u00e5r vi starter\n",
      "M = 500        # b\u00e6reevne\n",
      "R = 0.05       # vekstrate n\u00e5r vi starter\n",
      "N = 12*5      # antall tidsintervaller (gj\u00f8r om dette til dager eller \u00e5r konkret eksempel!)\n",
      "index_set = range(N+1)\n",
      "y = np.zeros(len(index_set))\n",
      "\n",
      "# Regn ut l\u00f8sning for hvert intervall\n",
      "y[0] = y0\n",
      "for n in index_set[1:]:\n",
      "    y[n] = y[n-1] + R*y[n-1]*(1 - y[n-1]/float(M))\n",
      "print y"
     ],
     "language": "python",
     "metadata": {},
     "outputs": []
    },
    {
     "cell_type": "code",
     "collapsed": false,
     "input": [
      "%matplotlib inline\n",
      "import matplotlib.pyplot as pl\n",
      "pl.plot(index_set, y)"
     ],
     "language": "python",
     "metadata": {},
     "outputs": []
    },
    {
     "cell_type": "heading",
     "level": 2,
     "metadata": {},
     "source": [
      "Oppgaver"
     ]
    },
    {
     "cell_type": "heading",
     "level": 3,
     "metadata": {},
     "source": [
      "Oppg 1"
     ]
    },
    {
     "cell_type": "markdown",
     "metadata": {},
     "source": [
      "a) Hva skjer med bestanden etter 100 \u00e5r?\n",
      "\n",
      "b) Hva skjer hvis vi endrer vekstraten til $r = 1.5$. Hva betyr egentlig dette?\n",
      "\n",
      "c) Diskuter hvor realistisk denne modellen er."
     ]
    },
    {
     "cell_type": "heading",
     "level": 3,
     "metadata": {},
     "source": [
      "Oppg 2"
     ]
    },
    {
     "cell_type": "markdown",
     "metadata": {},
     "source": [
      "Finne p\u00e5 et eksempel til :)"
     ]
    }
   ],
   "metadata": {}
  }
 ]
}