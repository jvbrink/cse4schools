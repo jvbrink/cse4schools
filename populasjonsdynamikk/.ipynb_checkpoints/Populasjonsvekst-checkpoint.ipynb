{
 "metadata": {
  "name": ""
 },
 "nbformat": 3,
 "nbformat_minor": 0,
 "worksheets": [
  {
   "cells": [
    {
     "cell_type": "heading",
     "level": 1,
     "metadata": {},
     "source": [
      "Populasjonsvekst"
     ]
    },
    {
     "cell_type": "heading",
     "level": 2,
     "metadata": {},
     "source": [
      "Dette m\u00e5 du kunne"
     ]
    },
    {
     "cell_type": "markdown",
     "metadata": {},
     "source": [
      "I dette eksempelet bruker vi arrays, l\u00f8kker og plot funksjonalitet.  "
     ]
    },
    {
     "cell_type": "heading",
     "level": 2,
     "metadata": {},
     "source": [
      "Modell"
     ]
    },
    {
     "cell_type": "markdown",
     "metadata": {},
     "source": [
      "La $y_{k-1}$ v\u00e6re antallet individer i en populasjon ved tiden $t = t_{k-1}$. Populasjonen kan best\u00e5 av mennesker, dyr, celler eller hvilke som helst objekter hvor antall f\u00f8dsler og d\u00f8dsfall er proporsjonale med antallet individer. I l\u00f8pet av tiden mellom $t_{k-1}$ og $t_k$ blir det f\u00f8dt $fy_{k-1}$ individer, mens $dy_{k-1}$ individer d\u00f8r, her er $b$ og $d$ gitte konstanter. Netto vekst av populasjonen er derfor $(b-d)y_{k-1}$. Vekstraten kan uttrykkes som $r = b - d$ og vi kan regne ut antallet individer ved tid $t_k$ \n",
      "\n",
      "$$y_k = y_{k-1} + ry_{k-1}$$ \n",
      "\n",
      "For \u00e5 l\u00f8se denne likningen m\u00e5 vi vite st\u00f8rrelsen p\u00e5 populasjonen $y_0$ ved starttidspunktet. Parameterene $b$ og $d$ er avhengig av hvor lang tid det er mellom $t_k$ og $t_{k-1}$. Feks vil verdiene av $b$ og $d$ v\u00e6re mindre hvis $n$ m\u00e5les i dager enn hvis $n$ er \u00e5r."
     ]
    },
    {
     "cell_type": "heading",
     "level": 2,
     "metadata": {},
     "source": [
      "Eksempel"
     ]
    },
    {
     "cell_type": "markdown",
     "metadata": {},
     "source": [
      "La oss gj\u00f8re dette litt mer konkret med et eksempel. $y$ representerer n\u00e5 antall harer som bor p\u00e5 en \u00f8y i en innsj\u00f8. F\u00f8dselsraten er $7\\%$ per m\u00e5ned, d\u00f8dsraten er $2\\%$ og vi starter med en bestand p\u00e5 100 harer. Hvor mange harer bor det p\u00e5 \u00f8ya etter 2 \u00e5r? \n",
      "\n",
      "N\u00e5 m\u00e5 vi sette dette inn i formelen v\u00e5r. Vi har alts\u00e5 $b = \\frac{7\\%}{100\\%}$ og $d = \\frac{2\\%}{100\\%}$ som gir vekstraten $r = b - d = 0.05$. Videre vet vi at vi starter med $y_0 = 100$ og vi kan regne ut \n",
      "\n",
      "$$y_1 = y_0 + r\\cdot y_0 =  100 + 0.02\\cdot 100 = 105$$\n",
      "$$y_2 = y_1 + r\\cdot y_1 = 105 + 0.02\\cdot 102 = 110.25$$\n",
      "$$\\qquad\\vdots\\qquad\\vdots\\qquad$$\n",
      "\n",
      "Slik kan vi fortsette \u00e5 regne ut utviklingen av harebestanden.\n",
      "Her er tidssteget mellom $y_0$ og $y_1$ en m\u00e5ned s\u00e5 vi m\u00e5 regne ut 24 tidssteg for \u00e5 finne ut hvor mange harer som bor p\u00e5 \u00f8ya etter to \u00e5r. I stedet for \u00e5 gj\u00f8re dette for h\u00e5nd kan vi skrive et lite program som gj\u00f8r dette for oss!  \n",
      "\n"
     ]
    },
    {
     "cell_type": "code",
     "collapsed": false,
     "input": [
      "import numpy as np\n",
      "n = 12*2    #antall tidsintervaller\n",
      "y0 = 100     #antall harer n\u00e5r vi starter\n",
      "r = 0.05     #vekstrate (dvs 2% per mnd)\n",
      "index_set = range(n+1)\n",
      "y = np.zeros(len(index_set))\n",
      "y[0] = y0\n",
      "for k in index_set[:-1]: \n",
      "    y[k+1] = y[k] + r*y[k]"
     ],
     "language": "python",
     "metadata": {},
     "outputs": [],
     "prompt_number": 2
    },
    {
     "cell_type": "markdown",
     "metadata": {},
     "source": [
      "Vi kan n\u00e5 skrive ut resultatet: "
     ]
    },
    {
     "cell_type": "code",
     "collapsed": false,
     "input": [
      "print y"
     ],
     "language": "python",
     "metadata": {},
     "outputs": [
      {
       "output_type": "stream",
       "stream": "stdout",
       "text": [
        "[ 100.          105.          110.25        115.7625      121.550625\n",
        "  127.62815625  134.00956406  140.71004227  147.74554438  155.1328216\n",
        "  162.88946268  171.03393581  179.5856326   188.56491423  197.99315994\n",
        "  207.89281794  218.28745884  229.20183178  240.66192337  252.69501954\n",
        "  265.32977051  278.59625904  292.52607199  307.15237559  322.50999437]\n"
       ]
      }
     ],
     "prompt_number": 3
    },
    {
     "cell_type": "markdown",
     "metadata": {},
     "source": [
      "Eller vi kan lage et plot:"
     ]
    },
    {
     "cell_type": "code",
     "collapsed": false,
     "input": [
      "%matplotlib inline\n",
      "import matplotlib.pyplot as pl\n",
      "pl.plot(index_set, y)"
     ],
     "language": "python",
     "metadata": {},
     "outputs": [
      {
       "metadata": {},
       "output_type": "pyout",
       "prompt_number": 4,
       "text": [
        "[<matplotlib.lines.Line2D at 0x7f3d6eb66d10>]"
       ]
      },
      {
       "metadata": {},
       "output_type": "display_data",
       "png": "[encoded data removed]",
       "text": [
        "<matplotlib.figure.Figure at 0x7f3d6ebaddd0>"
       ]
      }
     ],
     "prompt_number": 4
    },
    {
     "cell_type": "heading",
     "level": 2,
     "metadata": {},
     "source": [
      "Oppgaver"
     ]
    },
    {
     "cell_type": "heading",
     "level": 3,
     "metadata": {},
     "source": [
      "Oppg 1"
     ]
    },
    {
     "cell_type": "markdown",
     "metadata": {},
     "source": [
      "\n",
      "a) Hva skjer med harebestanden etter 5, 10 og 20 \u00e5r? \n",
      "\n",
      "b) La oss si at det dukker opp en \u00f8rn i omr\u00e5de og d\u00f8dsraten \u00f8ker til $20\\%$ per mnd. Hva skjer med harebestanden etter 2 \u00e5r? \n",
      "\n",
      "c) Diskuter med sidemannen. Hva syns dere om denne modellen? N\u00e5r kan den v\u00e6re nyttig? N\u00e5r er den urealistisk?\n"
     ]
    },
    {
     "cell_type": "heading",
     "level": 3,
     "metadata": {},
     "source": [
      "Oppg 2"
     ]
    },
    {
     "cell_type": "markdown",
     "metadata": {},
     "source": [
      "a) Lag et program som simulerer vekst av bakterier. Vi starter med en bakterie. Antall bakterier dobles hver time. Hvor mange bakterier har vi etter ett d\u00f8gn? \n",
      "\n",
      "b) Bakteriene fra a) dyrkes i en bakteriekultur. Etter 15 timer begynner det \u00e5 bli lite plass og mat igjen og det d\u00f8r like mange bakterier som det skapes ved celledeling. Etter 18 timer begynner antall celler \u00e5 synke og $r = -0.3$. Tilpass programmet du laget i a) og finn ut hvor lang tid det tar f\u00f8r antall bakterier er mindre enn 1000.\n",
      "\n",
      "Hint! Bruk if/else statement.\n",
      "\n",
      "Du kan lese mer her: http://www.textbookofbacteriology.net/growth_3.html"
     ]
    },
    {
     "cell_type": "heading",
     "level": 2,
     "metadata": {},
     "source": [
      "Alternativt"
     ]
    },
    {
     "cell_type": "markdown",
     "metadata": {},
     "source": [
      "Alternativt hvis vi \u00f8nsker \u00e5 se p\u00e5 problemet som en ODE, men det \u00f8nsker vi vel egentlig ikke?"
     ]
    },
    {
     "cell_type": "code",
     "collapsed": false,
     "input": [
      "def compute_y(y0, r, T, n):\n",
      "    \"\"\"Solve y'(t) = r*y with y(0) = y0 for t in [0,T] with n steps.\"\"\"\n",
      "    t = np.linspace(0, T, n+1)\n",
      "    t[0] = 0\n",
      "    y = np.zeros(n+1)\n",
      "    y[0] = y0\n",
      "    dt = T/float(n)\n",
      "    for k in range(0, n):\n",
      "        y[k+1] = (r + dt)*y[k]\n",
      "        t[k+1] = t[k] + dt\n",
      "    return y, t"
     ],
     "language": "python",
     "metadata": {},
     "outputs": [],
     "prompt_number": 5
    },
    {
     "cell_type": "markdown",
     "metadata": {},
     "source": [
      "Run the function compute_y"
     ]
    },
    {
     "cell_type": "code",
     "collapsed": false,
     "input": [
      "T = 40\n",
      "y, t = compute_y(y0, r, T, n)"
     ],
     "language": "python",
     "metadata": {},
     "outputs": [],
     "prompt_number": 6
    },
    {
     "cell_type": "markdown",
     "metadata": {},
     "source": [
      "Plotting the solution instead of just printing the results"
     ]
    },
    {
     "cell_type": "code",
     "collapsed": false,
     "input": [
      "%matplotlib inline\n",
      "import matplotlib.pyplot as pl\n",
      "pl.plot(t, y)\n",
      "print y"
     ],
     "language": "python",
     "metadata": {},
     "outputs": [
      {
       "output_type": "stream",
       "stream": "stdout",
       "text": [
        "[  1.00000000e+02   1.71666667e+02   2.94694444e+02   5.05892130e+02\n",
        "   8.68448156e+02   1.49083600e+03   2.55926847e+03   4.39341087e+03\n",
        "   7.54202199e+03   1.29471378e+04   2.22259198e+04   3.81544957e+04\n",
        "   6.54985509e+04   1.12439179e+05   1.93020591e+05   3.31352014e+05\n",
        "   5.68820958e+05   9.76475977e+05   1.67628376e+06   2.87762046e+06\n",
        "   4.93991512e+06   8.48018762e+06   1.45576554e+07   2.49906418e+07\n",
        "   4.29006017e+07]\n"
       ]
      },
      {
       "metadata": {},
       "output_type": "display_data",
       "png": "[encoded data removed]",
       "text": [
        "<matplotlib.figure.Figure at 0x7f3d6eb22590>"
       ]
      }
     ],
     "prompt_number": 7
    },
    {
     "cell_type": "code",
     "collapsed": false,
     "input": [],
     "language": "python",
     "metadata": {},
     "outputs": [],
     "prompt_number": 7
    },
    {
     "cell_type": "code",
     "collapsed": false,
     "input": [],
     "language": "python",
     "metadata": {},
     "outputs": [],
     "prompt_number": 7
    }
   ],
   "metadata": {}
  }
 ]
}