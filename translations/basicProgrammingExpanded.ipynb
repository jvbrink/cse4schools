{
 "cells": [
  {
   "cell_type": "markdown",
   "metadata": {},
   "source": [
    "# Introduction to programming with Python"
   ]
  },
  {
   "cell_type": "markdown",
   "metadata": {},
   "source": [
    "##What is computer programming?"
   ]
  },
  {
   "cell_type": "markdown",
   "metadata": {},
   "source": [
    "Programming is simply to create computer programs. We are surrounded by computer programs (or software) everywhere. For instance Microsoft Word, Mozilla Firefox and Photoshop. Or the apps you have installed on your smart phone. These are all examples of programs, but they are very large programming projects, and they are the result of multiple people working together to create a complete product that can do many things. \n",
    "\n",
    "Most programs are not that large, they are small and specialized. The reason you might not have heard about these kinds of programs, is that they might never have been shared. A lot of programmers write small programs for their own use, and then never share them with anybody. Or, maybe the programs are just hidden from you. Consider, for example, the television you have at home, or your washing machine or your oven. All these things have been programmed to perform specialized tasks. Thousands of programs exists behind the scenes in your daily life. They help make your life easier, and it is exactly the fact that you do not have to think about them that makes them so brilliant. \n",
    "\n",
    "To understand how programming works from a bird eye view you can play a game called [Lightbot](http://lightbot.com/hocflash.html). \n",
    "\n",
    "Below is a screenshot from the game. The goal is to program the little robot and make all the blue fields light up. The little icons at the bottom of the screen are all the available commands you can use. At the right side of the screen, in the box named 'main', is the actual program you are creating.\n",
    "\n",
    "<img src=\"figs\\lightbot1.png\" alt=\"lightbot\" style=\"width: 500px;\" />\n",
    "\n",
    "When you are happy with your program, you can run it by pressing the green arrow at the top of the screen. You can then watch the robot, to see if the program does what you wanted. Either the robot  succeeds and lights all the blue fields (then you have cleared the board), or it fails and nothing happens. Then you just press the orange reset button, change your code, and try again. The game is pretty self explanatory, just make sure you follow the instructions carefully! When programming it is extremely important to be precise.\n",
    "\n",
    "A computer program is written in a programming language. There are many different programming languages. Lightbot uses a symbolic language where you use icons to create a program. In the following tutorial we are going to write code using Python instead. However, the principles you learned by playing Lightbot are the same. Below is an illustration of the workflow we use when we are programming. Do you see how similar the different steps are to the steps you performed when you played Lightbot?\n",
    "\n",
    " ![Alt text](programmering_en.svg)\n"
   ]
  },
  {
   "cell_type": "markdown",
   "metadata": {},
   "source": [
    "##External links\n",
    "This tutorial is brief. If you are new to programming you will need a lot of practice. You can find a lot of tutorials online, here are some good examples: \n",
    "\n",
    "####Learn Python the Hard Way\n",
    "Learn Python the Hard Way is a very well written and thorough book that teaches you Python from scratch. It is available for free online at\n",
    "\n",
    "http://learnpythonthehardway.org/\n",
    "\n",
    "####Code academy\n",
    "Code Academy is a website with free online courses in lots of different programming languages. Code Academy is brilliant for beginners because it teaches programming hands on. Below is a link to their beginner course in Python\n",
    "\n",
    "http://www.codecademy.com/tracks/python\n",
    "\n",
    "\n",
    "####Project Euler\n",
    "If you want a challenge, I recommend Project Euler. Project Euler is a website full if mathematical challenges with a twist. The twist is that they are meant to be solved with programming. The exercises quickly become more difficult as you go, so start at the beginning!\n",
    "\n",
    "https://projecteuler.net/problems\n"
   ]
  },
  {
   "cell_type": "markdown",
   "metadata": {},
   "source": [
    "##Your first program\n",
    "Our first program consists of just one line:"
   ]
  },
  {
   "cell_type": "code",
   "execution_count": 6,
   "metadata": {
    "collapsed": false
   },
   "outputs": [
    {
     "name": "stdout",
     "output_type": "stream",
     "text": [
      "Hello world!\n"
     ]
    }
   ],
   "source": [
    "print \"Hello world!\""
   ]
  },
  {
   "cell_type": "markdown",
   "metadata": {},
   "source": [
    "When we run the code, \"Hello world!\" is printed to the screen. This is because we used the key word $\\texttt{print}$, which tells the computer to write what follows to the screen. Notice that we use quotes at the beginning and end of \"Hello world\". This is done so that the computer can distinguish text from code. To make it easier for the programmer to distinguish between text and code they are shown in different colors. \n",
    "\n",
    "The text \"Hello world!\" is chosen arbitrarily. Try to change the text between the quotes and see what happens!"
   ]
  },
  {
   "cell_type": "markdown",
   "metadata": {},
   "source": [
    "##Math\n",
    "In Python and most other computer languages the basic mathematical operators are written as $+, -, *,$ and $/$. In Python exponentials are expressed by a double asterisk ($*$$*$) notation. Lets show some examples:\n"
   ]
  },
  {
   "cell_type": "code",
   "execution_count": 7,
   "metadata": {
    "collapsed": false
   },
   "outputs": [
    {
     "name": "stdout",
     "output_type": "stream",
     "text": [
      "5\n",
      "-1\n",
      "6\n",
      "0\n",
      "8\n"
     ]
    }
   ],
   "source": [
    "print 2 + 3\n",
    "print 2 - 3\n",
    "print 2*3\n",
    "print 2/3\n",
    "print 2**3"
   ]
  },
  {
   "cell_type": "markdown",
   "metadata": {},
   "source": [
    "When we run the code, the results are just as expected apart from the division. The reason why 2 divided by 3 is zero will be described in the section below about types.\n",
    "\n",
    "We can improve the $\\verb+print+$ command to make the output is easier to read:"
   ]
  },
  {
   "cell_type": "code",
   "execution_count": 7,
   "metadata": {
    "collapsed": false
   },
   "outputs": [
    {
     "name": "stdout",
     "output_type": "stream",
     "text": [
      "2 + 3 =  5\n"
     ]
    }
   ],
   "source": [
    "print \"2 + 3 = \", 2+3"
   ]
  },
  {
   "cell_type": "markdown",
   "metadata": {},
   "source": [
    "As before, we put quotes around the part that should be interpreted as text. After the text we add a comma, and then we continue writing the math. The numbers and mathematical operators will be interpreted as code when we execute our program."
   ]
  },
  {
   "cell_type": "markdown",
   "metadata": {},
   "source": [
    "##Variables\n",
    "Variables are names we give in our program so that the computer remembers the variable and we can use it later in our program. Here is an example "
   ]
  },
  {
   "cell_type": "code",
   "execution_count": 10,
   "metadata": {
    "collapsed": true
   },
   "outputs": [],
   "source": [
    "name = \"Jonas\"\n",
    "age = 23"
   ]
  },
  {
   "cell_type": "markdown",
   "metadata": {},
   "source": [
    "In the first line we create a variable called $\\texttt{name}$, which contains the name Jonas. Think of the variable as an empty box called $\\texttt{name}$. Then we put the name 'Jonas' into the box, which is stored in the computers memory. Similarly, the next line of code defines a variable called $\\texttt{age}$, which contains the number 23. \n",
    "\n",
    "Change the variables such that they contain your name and age, then run the program. What happened? Nothing, or at least your terminal is empty. Python has only created the variables. If you would like to see them you can add a $\\texttt{print}$ command at the end of the program."
   ]
  },
  {
   "cell_type": "code",
   "execution_count": 11,
   "metadata": {
    "collapsed": false
   },
   "outputs": [
    {
     "name": "stdout",
     "output_type": "stream",
     "text": [
      "Jonas\n",
      "23\n"
     ]
    }
   ],
   "source": [
    "print name\n",
    "print age"
   ]
  },
  {
   "cell_type": "markdown",
   "metadata": {},
   "source": [
    "What happens when you run the code below?"
   ]
  },
  {
   "cell_type": "code",
   "execution_count": 12,
   "metadata": {
    "collapsed": false
   },
   "outputs": [
    {
     "name": "stdout",
     "output_type": "stream",
     "text": [
      "name\n",
      "age\n"
     ]
    }
   ],
   "source": [
    "print 'name'\n",
    "print 'age'"
   ]
  },
  {
   "cell_type": "markdown",
   "metadata": {},
   "source": [
    "Why is not the result printed to the screen 'Jonas' and '23'? It is because Python interprets the code as *text strings* and not as *variables* when you use quotes.\n",
    "\n",
    "Note that if you try to create two variables with the same name, the first variable will be overwritten by the second. So what will happen when you run the code below?"
   ]
  },
  {
   "cell_type": "code",
   "execution_count": 13,
   "metadata": {
    "collapsed": false
   },
   "outputs": [
    {
     "name": "stdout",
     "output_type": "stream",
     "text": [
      "Lise\n"
     ]
    }
   ],
   "source": [
    "name = 'Marius'\n",
    "name = 'Lise'\n",
    "\n",
    "print name"
   ]
  },
  {
   "cell_type": "markdown",
   "metadata": {},
   "source": [
    "##Types\n",
    "By now you learned that variables have a name and a content, but they also have another property, namely a $\\texttt{type}$.  When Python creates a variable it identifies the type of the content. In the last example we created the variable name, which contains a text string, and age, which contains a number. Python remember this information; $\\texttt{name}$ is a text string and $\\texttt{age}$ is a number.\n",
    "\n",
    "To check which type a variable has, we can use the command $\\texttt{type}$. Here is an example: "
   ]
  },
  {
   "cell_type": "code",
   "execution_count": 14,
   "metadata": {
    "collapsed": false
   },
   "outputs": [
    {
     "name": "stdout",
     "output_type": "stream",
     "text": [
      "<type 'str'>\n",
      "<type 'int'>\n",
      "<type 'str'>\n",
      "<type 'float'>\n"
     ]
    }
   ],
   "source": [
    "location = 'Oslo'\n",
    "year = 2015\n",
    "day = 'April 29'\n",
    "temperature = 8.7\n",
    "\n",
    "print type(location)\n",
    "print type(year)\n",
    "print type(day)\n",
    "print type(temperature)"
   ]
  },
  {
   "cell_type": "markdown",
   "metadata": {},
   "source": [
    "In this program we first create four variables, then the type of each variable is printed. The results show that $\\verb+location+$ and $\\verb+day+$ has the type 'str', which is an abbreviation for string. The variable $\\verb+year+$ has the type 'int', which means that it is an integer. Finally, $\\verb+temperature+$ has the type 'float'. Thus python distinguishes between floats and integers. In the section about mathematical operators we got zero when we divided 2 by 3. This is because both 2 and 3 have the type 'int' and therefore also the result will have the type 'int'. If we use float numbers instead we get the expected answer. Here is an example to show the difference:"
   ]
  },
  {
   "cell_type": "code",
   "execution_count": 15,
   "metadata": {
    "collapsed": false
   },
   "outputs": [
    {
     "name": "stdout",
     "output_type": "stream",
     "text": [
      "0.666666666667\n",
      "0\n",
      "<type 'float'>\n",
      "<type 'int'>\n",
      "<type 'float'>\n"
     ]
    }
   ],
   "source": [
    "a = 2.0\n",
    "b = 3.0\n",
    "\n",
    "c = 2\n",
    "d = 3\n",
    "\n",
    "print a/b\n",
    "print c/d\n",
    "print type(a/b)\n",
    "print type(c/d)\n",
    "print type(b/c)"
   ]
  },
  {
   "cell_type": "markdown",
   "metadata": {},
   "source": [
    "In the last line we divide a float by an integer. Note that the result has the type $\\mathit{float}$."
   ]
  },
  {
   "cell_type": "markdown",
   "metadata": {},
   "source": [
    "##Lists"
   ]
  },
  {
   "cell_type": "markdown",
   "metadata": {},
   "source": [
    "Until now you have learned that variables have a name, a content, and a type. Now it is time to introduce a different type of variables: *lists*. What if we want our program to remember the names of all the students in a class? We can create one variable for each student, or we can create one variable containing all the students. The latter is called a list and here is an example:"
   ]
  },
  {
   "cell_type": "code",
   "execution_count": 16,
   "metadata": {
    "collapsed": true
   },
   "outputs": [],
   "source": [
    "students = ['Jake', 'John', 'Mary', 'Lucy', 'Alexander']"
   ]
  },
  {
   "cell_type": "markdown",
   "metadata": {},
   "source": [
    "Here we have used square brackets to define a list, and within the brackets we have written 5 names separated by a comma. Furthermore, every name is defined as a string. When you have defined a list you can print it and check the type:"
   ]
  },
  {
   "cell_type": "code",
   "execution_count": 17,
   "metadata": {
    "collapsed": false
   },
   "outputs": [
    {
     "name": "stdout",
     "output_type": "stream",
     "text": [
      "['Jake', 'John', 'Mary', 'Lucy', 'Alexander']\n",
      "<type 'list'>\n"
     ]
    }
   ],
   "source": [
    "print students\n",
    "print type(students)"
   ]
  },
  {
   "cell_type": "markdown",
   "metadata": {},
   "source": [
    "You can also check how many elements there are in your list by typing"
   ]
  },
  {
   "cell_type": "code",
   "execution_count": 18,
   "metadata": {
    "collapsed": false
   },
   "outputs": [
    {
     "name": "stdout",
     "output_type": "stream",
     "text": [
      "5\n"
     ]
    }
   ],
   "source": [
    "print len(students)"
   ]
  },
  {
   "cell_type": "markdown",
   "metadata": {},
   "source": [
    "The list $\\texttt{students}$ contained text, but in general the elements in a list can be of any type. Here is a list with numbers: "
   ]
  },
  {
   "cell_type": "code",
   "execution_count": 19,
   "metadata": {
    "collapsed": true
   },
   "outputs": [],
   "source": [
    "some_numbers = [2, 5.0, 6, 8, 200, 436]"
   ]
  },
  {
   "cell_type": "markdown",
   "metadata": {},
   "source": [
    "And here we have a mixture of strings and numbers"
   ]
  },
  {
   "cell_type": "code",
   "execution_count": 20,
   "metadata": {
    "collapsed": true
   },
   "outputs": [],
   "source": [
    "mixed_list = [\"some text\", 2, 2.3, 9, \"more text\"]"
   ]
  },
  {
   "cell_type": "markdown",
   "metadata": {},
   "source": [
    "You can even put a list inside another list"
   ]
  },
  {
   "cell_type": "code",
   "execution_count": 21,
   "metadata": {
    "collapsed": true
   },
   "outputs": [],
   "source": [
    "lists_in_lists = [[0,1,2], [\"Mary\", \"Lucy\", \"Jake\"]]"
   ]
  },
  {
   "cell_type": "markdown",
   "metadata": {},
   "source": [
    "After we have defined a list such as students"
   ]
  },
  {
   "cell_type": "code",
   "execution_count": 22,
   "metadata": {
    "collapsed": true
   },
   "outputs": [],
   "source": [
    "students = ['Jake', 'John', 'Mary', 'Lucy', 'Alexander']"
   ]
  },
  {
   "cell_type": "markdown",
   "metadata": {},
   "source": [
    "we can access the elements in the list through the index of every element:"
   ]
  },
  {
   "cell_type": "code",
   "execution_count": 23,
   "metadata": {
    "collapsed": false
   },
   "outputs": [
    {
     "name": "stdout",
     "output_type": "stream",
     "text": [
      "Jake\n",
      "Lucy\n"
     ]
    }
   ],
   "source": [
    "print students[0]\n",
    "print students[3]"
   ]
  },
  {
   "cell_type": "markdown",
   "metadata": {},
   "source": [
    "Here $\\texttt{students[0]}$ means the first element in the list, which is 'Jake', while $\\texttt{students[3]}$ is the 4th element in the list, which is 'Lucy'. Note that Python starts counting at zero! This might seem strange, but it is just a definition we have to get used to.\n",
    "\n",
    "If we want to, we can also change the elements within the list. If it turns out that we made a mistake and 'Alexander' should be 'Alex', we can overwrite the 5th element in the list as follows "
   ]
  },
  {
   "cell_type": "code",
   "execution_count": 24,
   "metadata": {
    "collapsed": false
   },
   "outputs": [
    {
     "name": "stdout",
     "output_type": "stream",
     "text": [
      "['Jake', 'John', 'Mary', 'Lucy', 'Alex']\n"
     ]
    }
   ],
   "source": [
    "students[4] = 'Alex'\n",
    "print students"
   ]
  },
  {
   "cell_type": "markdown",
   "metadata": {},
   "source": [
    "When we print the list we see that the last element has changed, just as we wanted. \n",
    "\n",
    "It is also possible to add elements to the list. For instance if we forgot one of the students in the class, you can add her by typing"
   ]
  },
  {
   "cell_type": "code",
   "execution_count": 25,
   "metadata": {
    "collapsed": false
   },
   "outputs": [
    {
     "name": "stdout",
     "output_type": "stream",
     "text": [
      "['Jake', 'John', 'Mary', 'Lucy', 'Alex', 'Karen']\n"
     ]
    }
   ],
   "source": [
    "students.append('Karen')\n",
    "print students"
   ]
  },
  {
   "cell_type": "markdown",
   "metadata": {},
   "source": [
    "When we add items to a list they always appear at the end. \n",
    "\n",
    "In some cases it makes sense to create an empty list and then add elements afterwards. Here is a list that is initially empty and then filled with numbers"
   ]
  },
  {
   "cell_type": "code",
   "execution_count": 26,
   "metadata": {
    "collapsed": false
   },
   "outputs": [
    {
     "name": "stdout",
     "output_type": "stream",
     "text": [
      "[1, 2, 3]\n"
     ]
    }
   ],
   "source": [
    "growing_list = []\n",
    "growing_list.append(1)\n",
    "growing_list.append(2)\n",
    "growing_list.append(3)\n",
    "print growing_list"
   ]
  },
  {
   "cell_type": "markdown",
   "metadata": {},
   "source": [
    "## Error messages\n",
    "\n",
    "Now that you have written some Python code for the first time, it is possible you have encountered some errors. If not, you will probably see some errors soon. So let us look at some error messages and try to interpret them. When you are programming, you will make lots of mistakes, and it is important to be able to understand what went wrong. Interpreting your error messages might be the best way to become good at programming. \n",
    "\n",
    "As an example, let us write a print command with an error on purpose. "
   ]
  },
  {
   "cell_type": "code",
   "execution_count": 2,
   "metadata": {
    "collapsed": false
   },
   "outputs": [
    {
     "ename": "SyntaxError",
     "evalue": "invalid syntax (<ipython-input-2-ee0577b4928c>, line 1)",
     "output_type": "error",
     "traceback": [
      "\u001b[1;36m  File \u001b[1;32m\"<ipython-input-2-ee0577b4928c>\"\u001b[1;36m, line \u001b[1;32m1\u001b[0m\n\u001b[1;33m    prnt \"Hello, World!\"\u001b[0m\n\u001b[1;37m                       ^\u001b[0m\n\u001b[1;31mSyntaxError\u001b[0m\u001b[1;31m:\u001b[0m invalid syntax\n"
     ]
    }
   ],
   "source": [
    "prnt \"Hello, World!\""
   ]
  },
  {
   "cell_type": "markdown",
   "metadata": {},
   "source": [
    "As you can see, you got an error message. The last line of the message is always the most important line, and in this case it says $\\verb+SyntaxError: invalid syntax+$. This means that the error we made is a syntax error, which means that Python did not understand what we wrote. We have written something that does not make sense. In this example the $\\verb+print+$ command has a spelling error and Python does not recognize it. \n",
    "\n",
    "at the first line, Python attempts to let us know where the error is. It says 'line 1' at the top, which means the error is at line 1 in our program. In the example this is obvious, but in a program with several hundred lines, it is definitely useful to know which line has an error. \n",
    "\n",
    "Let us try another error"
   ]
  },
  {
   "cell_type": "code",
   "execution_count": 3,
   "metadata": {
    "collapsed": false
   },
   "outputs": [
    {
     "ename": "NameError",
     "evalue": "name 'place' is not defined",
     "output_type": "error",
     "traceback": [
      "\u001b[1;31m---------------------------------------------------------------------------\u001b[0m",
      "\u001b[1;31mNameError\u001b[0m                                 Traceback (most recent call last)",
      "\u001b[1;32m<ipython-input-3-ce2268faccfb>\u001b[0m in \u001b[0;36m<module>\u001b[1;34m()\u001b[0m\n\u001b[0;32m      1\u001b[0m \u001b[0mlocation\u001b[0m \u001b[1;33m=\u001b[0m \u001b[1;34m\"Oslo\"\u001b[0m\u001b[1;33m\u001b[0m\u001b[0m\n\u001b[1;32m----> 2\u001b[1;33m \u001b[1;32mprint\u001b[0m \u001b[0mplace\u001b[0m\u001b[1;33m\u001b[0m\u001b[0m\n\u001b[0m",
      "\u001b[1;31mNameError\u001b[0m: name 'place' is not defined"
     ]
    }
   ],
   "source": [
    "location = \"Oslo\"\n",
    "print place"
   ]
  },
  {
   "cell_type": "markdown",
   "metadata": {},
   "source": [
    "You did not get a syntax error this time, because Python understands what you want to say, and you have written correct Python code. Now you get a $\\verb+NameError+$ instead. You get a $\\verb+NameError+$ because you first declare the variable $\\verb+location+$, and then you attempt to print the variable $\\verb+place+$. But there is no variable named $\\verb+place+$, and so you get a name error – the program attempts to use a variable that does not exist.\n",
    "\n",
    "Let us look at one last error"
   ]
  },
  {
   "cell_type": "code",
   "execution_count": 4,
   "metadata": {
    "collapsed": false
   },
   "outputs": [
    {
     "ename": "IndexError",
     "evalue": "list index out of range",
     "output_type": "error",
     "traceback": [
      "\u001b[1;31m---------------------------------------------------------------------------\u001b[0m",
      "\u001b[1;31mIndexError\u001b[0m                                Traceback (most recent call last)",
      "\u001b[1;32m<ipython-input-4-da48a51fda53>\u001b[0m in \u001b[0;36m<module>\u001b[1;34m()\u001b[0m\n\u001b[0;32m      1\u001b[0m \u001b[0mstudents\u001b[0m \u001b[1;33m=\u001b[0m \u001b[1;33m[\u001b[0m\u001b[1;34m\"John\"\u001b[0m\u001b[1;33m,\u001b[0m \u001b[1;34m\"Jake\"\u001b[0m\u001b[1;33m,\u001b[0m \u001b[1;34m\"Mary\"\u001b[0m\u001b[1;33m,\u001b[0m \u001b[1;34m\"Marcus\"\u001b[0m\u001b[1;33m]\u001b[0m\u001b[1;33m\u001b[0m\u001b[0m\n\u001b[1;32m----> 2\u001b[1;33m \u001b[1;32mprint\u001b[0m \u001b[0mstudents\u001b[0m\u001b[1;33m[\u001b[0m\u001b[1;36m4\u001b[0m\u001b[1;33m]\u001b[0m\u001b[1;33m\u001b[0m\u001b[0m\n\u001b[0m",
      "\u001b[1;31mIndexError\u001b[0m: list index out of range"
     ]
    }
   ],
   "source": [
    "students = [\"John\", \"Jake\", \"Mary\", \"Marcus\"]\n",
    "print students[4]"
   ]
  },
  {
   "cell_type": "markdown",
   "metadata": {},
   "source": [
    "We got an $\\verb+IndexError+$, and it says  'list index out of range'. The goal of the print command is to print the fourth name in the list, Marcus. But, we have forgotten that Python starts to count on 0, so Marcus has the index 3!. This means that we have attempted to access a part of the list which does not exist, and therefore we get an 'index out of range' error."
   ]
  },
  {
   "cell_type": "markdown",
   "metadata": {},
   "source": [
    "##More about printing\n",
    "\n",
    "So far you have seen how to print both text strings and variables. Now, we will look at how to combine them. Consider the following program"
   ]
  },
  {
   "cell_type": "code",
   "execution_count": 6,
   "metadata": {
    "collapsed": false
   },
   "outputs": [
    {
     "name": "stdout",
     "output_type": "stream",
     "text": [
      "Hello Silje ! How are you today?\n"
     ]
    }
   ],
   "source": [
    "name = \"Silje\"\n",
    "print \"Hello\", name, \"! How are you today?\""
   ]
  },
  {
   "cell_type": "markdown",
   "metadata": {},
   "source": [
    "In this example we use the print command to print 3 things consecutively. Observe that everything we print appears on the same line. This is because they all belong to the same print command. \n",
    "\n",
    "If you look closer at the output, you can see that Python have created a space between each of the things we print. It looks a bit odd that there is a space between 'Silje' and '!', so let us use another way to combine a message with a variable. "
   ]
  },
  {
   "cell_type": "code",
   "execution_count": 8,
   "metadata": {
    "collapsed": false
   },
   "outputs": [
    {
     "name": "stdout",
     "output_type": "stream",
     "text": [
      "Hello Silje! How are you today?\n"
     ]
    }
   ],
   "source": [
    "name = \"Silje\"\n",
    "print \"Hello %s! How are you today?\" % name"
   ]
  },
  {
   "cell_type": "markdown",
   "metadata": {},
   "source": [
    "Now we got the output to look like we wanted it to! But what exactly is happening here? We can tell that we want to print a string, but inside the string it says $\\verb+%s+$. When we write $\\verb+%s+$ inside a string, we create sort of a 'hole' in the string, which we can later fill with a variable. We write $\\verb+% name+$ behind the string because name is the variable that we want to fill the hole with. We write $\\verb+%s+$ because s is short for string, and the variable we fill with is a string. We can create as many 'holes' in a string as we want, and we can even use other variables of other types to fill them. "
   ]
  },
  {
   "cell_type": "code",
   "execution_count": 13,
   "metadata": {
    "collapsed": false
   },
   "outputs": [
    {
     "name": "stdout",
     "output_type": "stream",
     "text": [
      "My name is Silje, I am 18 years old and I was born in Drammen.\n"
     ]
    }
   ],
   "source": [
    "name = \"Silje\"\n",
    "age = 18\n",
    "location = \"Drammen\"\n",
    "\n",
    "print \"My name is %s, I am %i years old and I was born in %s.\" % (name, age, location)"
   ]
  },
  {
   "cell_type": "markdown",
   "metadata": {},
   "source": [
    "In this example, there are three 'holes' in the message. Two strings, marked with $\\verb+%s+$, and one integer, marked with $\\verb+%i+$. Behind the string we have listed the variables we want to include in the message. Notice that we have wrapped the variables in parentheses, and we list them in the order we want them to appear. "
   ]
  },
  {
   "cell_type": "markdown",
   "metadata": {},
   "source": [
    "##Programs that interacts with the user\n",
    "\n",
    "So far we have created programs that just do something simple and then terminates by themselves. But most programs you know from real life are created to interact with the user in some way. So, let us ask the user a series of questions. We can do this with the command $\\verb+raw_input+$. Here is an example:"
   ]
  },
  {
   "cell_type": "code",
   "execution_count": 1,
   "metadata": {
    "collapsed": false
   },
   "outputs": [
    {
     "name": "stdout",
     "output_type": "stream",
     "text": [
      "Hi! How is the weather today?good\n",
      "The weather seems to be good today!\n"
     ]
    }
   ],
   "source": [
    "weather = raw_input('Hi! How is the weather today?')\n",
    "print \"The weather seems to be %s today!\" % weather"
   ]
  },
  {
   "cell_type": "markdown",
   "metadata": {},
   "source": [
    "When Python executes this line, the question inside the parentheses is printed to the terminal, and then the program waits for the person who ran the program to give an answer. \n",
    "\n",
    "Try to give the program an answer and press enter to continue the program. Your answer is stored in the variable $\\verb+weather+$. After you have pressed enter, the program continues. In this case, it prints a message that includes your answer. "
   ]
  },
  {
   "cell_type": "markdown",
   "metadata": {},
   "source": [
    "##Structuring your code\n",
    "\n",
    "One thing to remember when you are coding, is that you should structure your code to make it as organized as possible. Everything you write should be easy to read for other people. Code is meant to be understood by computers, but it is also important that humans understand what the code does. This is a popular quote among programmers:\n",
    "\n",
    ">Programs must be written for people to read, and only incidentally for\n",
    "machines to execute.\n",
    "\n",
    "Even if you are certain that you will never share your code with anyone, you should try to make it understandable and organized. One reason is that you make it easier for yourself to find and fix bugs in your code. Another reason is that it becomes a lot easier to go back to your code later to make changes or to add more features.\n",
    "\n",
    "So it is a good idea to structure your code and make it easy to read, but how do you do that? Let us take a look.\n",
    "\n",
    "###Comments\n",
    "\n",
    "The first thing you can to is to write comments in your code. Comments are parts of your program that Python does not interpret as code, and that does not affect your program in any way. The only thing comments do, is to explain to the reader what is happening. You can use the **#**-symbol to write comments. Everything on the line behind a # will be interpreted as a comment. Let us explore some examples"
   ]
  },
  {
   "cell_type": "code",
   "execution_count": 1,
   "metadata": {
    "collapsed": false
   },
   "outputs": [
    {
     "name": "stdout",
     "output_type": "stream",
     "text": [
      "Hi there, what's your name?test \n",
      "Nice to meet you test , I hope you have a great day!\n"
     ]
    }
   ],
   "source": [
    "# Ask the user for his or her name\n",
    "name = raw_input(\"Hi there, what's your name?\")\n",
    "\n",
    "# Greet the user with a nice message\n",
    "print \"Nice to meet you %s, I hope you have a great day!\" % name"
   ]
  },
  {
   "cell_type": "markdown",
   "metadata": {},
   "source": [
    "When you run this program, it does exactly the same as it would have done without any comments, but the comments helps the reader understand what is happening. \n",
    "\n",
    "Another usual place to put comments, is at the beginning of a function to explain what the function does. "
   ]
  },
  {
   "cell_type": "code",
   "execution_count": 3,
   "metadata": {
    "collapsed": true
   },
   "outputs": [],
   "source": [
    "def Fahrenheit2Celsius(F):\n",
    "\t# Converts a temperature from degrees Fahrenheit to degrees Celsius\n",
    "\tC = (5./9)*(F - 32)\n",
    "\treturn C"
   ]
  },
  {
   "cell_type": "markdown",
   "metadata": {},
   "source": [
    "\n",
    "If you want a comment to take up multiple lines, you can wrap it in triple quotation marks (\"\"\"). A good use of this is at the beginning of your program, to explain what your program does."
   ]
  },
  {
   "cell_type": "code",
   "execution_count": 5,
   "metadata": {
    "collapsed": false
   },
   "outputs": [
    {
     "data": {
      "text/plain": [
       "'This is a comment \\nthat covers \\nthree lines in total'"
      ]
     },
     "execution_count": 5,
     "metadata": {},
     "output_type": "execute_result"
    }
   ],
   "source": [
    "\"\"\"This is a comment \n",
    "that covers \n",
    "three lines in total\"\"\""
   ]
  },
  {
   "cell_type": "markdown",
   "metadata": {},
   "source": [
    "###Whitespace\n",
    "\n",
    "Another important part of a programs structure, is what we call whitespace. Whitespace is simply explained everything we can see, which means spaces, indentation and empty lines. There are some places inside the code where you can add extra space, and some places you can't. If you learn where it is okay to add some 'empty space', your program will look nicer and more readable.\n",
    "\n",
    "You can for example always add empty lines in a program. Python ignores empty lines. By creating some space for your program to 'breathe', you make your code a lot more readable. Consider the following programs:"
   ]
  },
  {
   "cell_type": "code",
   "execution_count": 7,
   "metadata": {
    "collapsed": false
   },
   "outputs": [
    {
     "name": "stdout",
     "output_type": "stream",
     "text": [
      "Please give me a number!9\n",
      "The square root of your number is 3\n"
     ]
    }
   ],
   "source": [
    "from math import sqrt\n",
    "number=raw_input(\"Please give me a number!\")\n",
    "root=sqrt(float(number))\n",
    "print \"The square root of your number is %d\" % root"
   ]
  },
  {
   "cell_type": "code",
   "execution_count": 1,
   "metadata": {
    "collapsed": false
   },
   "outputs": [
    {
     "name": "stdout",
     "output_type": "stream",
     "text": [
      "Please give me a number!8\n",
      "The square root of your number is 2\n"
     ]
    }
   ],
   "source": [
    "from math import sqrt\n",
    "\n",
    "number = raw_input(\"Please give me a number!\")\n",
    "root = sqrt(float(number))\n",
    "\n",
    "print \"The square root of your number is %d\" % root"
   ]
  },
  {
   "cell_type": "markdown",
   "metadata": {},
   "source": [
    "These two programs use exactly the same code, I have just added some extra spaces and empty lines to the same program. At least for me, the second program is a lot easier to read and understand than the first. For programs with several hundred lines of code, a bit of space like this can make a huge difference in readability. "
   ]
  },
  {
   "cell_type": "markdown",
   "metadata": {},
   "source": [
    "##Random\n",
    "\n",
    "\n",
    "A lot of computer programs have random elements built in. Games are a good example, but randomness is also important for computer security and is often used in scientific simulations. You will now learn how to create random events in your program. \n",
    "\n",
    "We will use the Python library  $\\verb+random+$ to get the functions we need. You can import simple functions from the library with import. So if you, for example, want to use the function $\\verb+randint+$ (we will look at exactly what $\\verb+randint+$ does in a moment) from the library $\\verb+random+$, you can write"
   ]
  },
  {
   "cell_type": "code",
   "execution_count": 16,
   "metadata": {
    "collapsed": true
   },
   "outputs": [],
   "source": [
    "from random import randint"
   ]
  },
  {
   "cell_type": "markdown",
   "metadata": {},
   "source": [
    "If you plan to use a lot of different functions from a library, you can instead write"
   ]
  },
  {
   "cell_type": "code",
   "execution_count": 17,
   "metadata": {
    "collapsed": true
   },
   "outputs": [],
   "source": [
    "from random import *"
   ]
  },
  {
   "cell_type": "markdown",
   "metadata": {},
   "source": [
    "The star means that we import all functions from a library."
   ]
  },
  {
   "cell_type": "markdown",
   "metadata": {},
   "source": [
    "###Rolling dice\n",
    "\n",
    "Let us see what the function $\\verb+randint+$ actually does. The name is short for random integer, and it returns exactly that, a random integer. The function takes two arguments, $a$ and $b$ (they are both integers), and returns an integer between $a$ and $b$ (including $a$ and $b$). Here is a simple program that rolls a common six sided die"
   ]
  },
  {
   "cell_type": "code",
   "execution_count": 5,
   "metadata": {
    "collapsed": false
   },
   "outputs": [
    {
     "name": "stdout",
     "output_type": "stream",
     "text": [
      "4\n"
     ]
    }
   ],
   "source": [
    "from random import randint\n",
    "\n",
    "# Rolling a die\n",
    "result = randint(1,6)\n",
    "print result"
   ]
  },
  {
   "cell_type": "markdown",
   "metadata": {},
   "source": [
    "When the program runs, $\\verb+randint+$ returns a number between 1 and 6, and we print the result. If you run the program multiple times, you will see that the result is random each time. \n",
    "\n",
    "We can, of course, give different arguments to  $\\verb+randint+$ to simulate lots of different 'dice' "
   ]
  },
  {
   "cell_type": "code",
   "execution_count": 21,
   "metadata": {
    "collapsed": false
   },
   "outputs": [
    {
     "name": "stdout",
     "output_type": "stream",
     "text": [
      "5\n",
      "0\n",
      "5\n"
     ]
    }
   ],
   "source": [
    "from random import randint\n",
    "\n",
    "# 20-sided die\n",
    "print randint(1,20)\n",
    "\n",
    "# Coin-flip\n",
    "print randint(0,1)\n",
    "\n",
    "# Two six-sided dice\n",
    "print randint(1,6) + randint(1,6)"
   ]
  },
  {
   "cell_type": "markdown",
   "metadata": {},
   "source": [
    "In this program, we use $\\verb+randint+$ in three different ways. \n",
    "\n",
    "Some other functions from random are created to be used with lists. Shuffle, for example, shuffles the elements in a list. "
   ]
  },
  {
   "cell_type": "code",
   "execution_count": 23,
   "metadata": {
    "collapsed": false
   },
   "outputs": [
    {
     "name": "stdout",
     "output_type": "stream",
     "text": [
      "[5, 2, 4, 1, 3]\n"
     ]
    }
   ],
   "source": [
    "from random import shuffle\n",
    "\n",
    "numbers = [1, 2, 3, 4, 5]\n",
    "shuffle(numbers)\n",
    "\n",
    "print numbers"
   ]
  },
  {
   "cell_type": "markdown",
   "metadata": {},
   "source": [
    "The function $\\verb+choice+$ draws a random element from a list. As an example we can use $\\verb+choice+$ to simulate a lottery. "
   ]
  },
  {
   "cell_type": "code",
   "execution_count": 24,
   "metadata": {
    "collapsed": false
   },
   "outputs": [
    {
     "name": "stdout",
     "output_type": "stream",
     "text": [
      "Jake\n"
     ]
    }
   ],
   "source": [
    "from random import choice\n",
    "\n",
    "students = [\"Lisa\", \"Marcus\", \"Jake\", \"Mary\", \"Molly\", \"Blake\", \"Kane\"]\n",
    "winner = choice(students)\n",
    "\n",
    "print winner"
   ]
  },
  {
   "cell_type": "markdown",
   "metadata": {},
   "source": [
    "###Example: deck of cards. \n",
    "\n",
    "Let us look at how we can use lists and shuffle to create a deck of cards, and then manipulate and use the deck. Let us represent each card in a deck of cards by a string of two letters, where the first letter is the suit and the second is the symbol. For example six of spade becomes 's6' and queen of clubs becomes 'cQ'. "
   ]
  },
  {
   "cell_type": "code",
   "execution_count": 32,
   "metadata": {
    "collapsed": false
   },
   "outputs": [
    {
     "name": "stdout",
     "output_type": "stream",
     "text": [
      "['s2', 'hT', 'sJ', 's7', 's6', 'c4', 'h8', 'c9', 'dT', 'dQ', 'h2', 'h1', 'd9', 's1', 'cQ', 'c1', 'd6', 'd2', 'sK', 'hJ', 'c2', 'dK', 'h4', 'c8', 'sT', 's3', 'cT', 'c6', 's4', 's8', 'd1', 'h7', 'cK', 'd4', 'd3', 's9', 's5', 'h9', 'd5', 'sQ', 'cJ', 'd8', 'c5', 'dJ', 'd7', 'h3', 'hQ', 'hK', 'h6', 'h5', 'c3', 'c7']\n"
     ]
    }
   ],
   "source": [
    "from random import shuffle\n",
    "\n",
    "# Define our complete deck of cards\n",
    "deck=[\n",
    "'s1', 'c1', 'd1', 'h1', 's2', 'c2', 'd2', 'h2', 's3', 'c3', 'd3', 'h3', 's4',\n",
    "'c4', 'd4', 'h4', 's5', 'c5', 'd5', 'h5', 's6', 'c6', 'd6', 'h6', 's7', 'c7',\n",
    "'d7', 'h7', 's8', 'c8', 'd8', 'h8', 's9', 'c9', 'd9', 'h9', 'sT', 'cT', 'dT', \n",
    "'hT', 'sJ', 'cJ', 'dJ', 'hJ', 'sQ', 'cQ', 'dQ', 'hQ', 'sK', 'cK', 'dK', 'hK']\n",
    "\n",
    "# Randomize the order of the cards\n",
    "shuffle(deck)\n",
    "print deck"
   ]
  },
  {
   "cell_type": "markdown",
   "metadata": {},
   "source": [
    "By processing this list, we can shuffle the cards, add cards, distribute cards to players, etc. This means that we have taken the first step towards creating a card game! \n",
    "\n",
    "Here we had to write out the entire deck manually, but soon we will look at commands that makes it possible to save some work and have the deck generate itself.\n",
    "\n",
    "Let me show you some quick ways to manipulate the deck. If you have a list, you can use $\\verb+.pop()+$ to remove the last element in the list. This represents drawing a card from the deck. "
   ]
  },
  {
   "cell_type": "code",
   "execution_count": 33,
   "metadata": {
    "collapsed": false
   },
   "outputs": [
    {
     "name": "stdout",
     "output_type": "stream",
     "text": [
      "52\n",
      "c7\n",
      "51\n"
     ]
    }
   ],
   "source": [
    "print len(deck)\n",
    "print deck.pop()\n",
    "print len(deck)"
   ]
  },
  {
   "cell_type": "markdown",
   "metadata": {},
   "source": [
    "\n",
    "To begin with, the variable deck contains all 52 cards in a random order. Then we draw the last card, print it to the screen and observe that we now have only 51 cards. This is because $\\verb+pop+$ actually removes the card from the list, just like when you draw a card from a deck. Let us draw a hand of 5 cards. We will use another list to represent the hand. "
   ]
  },
  {
   "cell_type": "code",
   "execution_count": 29,
   "metadata": {
    "collapsed": false
   },
   "outputs": [
    {
     "name": "stdout",
     "output_type": "stream",
     "text": [
      "['d5', 'hJ', 'c6', 'sK', 'sJ']\n"
     ]
    }
   ],
   "source": [
    "# Make an empty list for our hand, so we have somewhere to put our cards\n",
    "hand = []\n",
    "\n",
    "# Draw 5 cards from the deck and put them into our hand\n",
    "hand.append(deck.pop())\n",
    "hand.append(deck.pop())\n",
    "hand.append(deck.pop())\n",
    "hand.append(deck.pop())\n",
    "hand.append(deck.pop())\n",
    "\n",
    "# Look at our hand\n",
    "print hand"
   ]
  },
  {
   "cell_type": "markdown",
   "metadata": {},
   "source": [
    "Again, there are several ways to make this code better and more elegant, but this shows how we can begin to create a game from scratch on the computer. "
   ]
  },
  {
   "cell_type": "markdown",
   "metadata": {},
   "source": [
    "##For Loops\n",
    "A loop is a piece of code which repeats itself. If we want our program to perform the same task many times in a row we need a loop. There are two types of loops, namely $\\texttt{for}$-loops and $\\texttt{while}$-loops. To begin with, we are only considering $\\texttt{for}$-loops. \n",
    "\n",
    "A for-loop repeats a piece of code for every element in a list. Again we use the list with students. Now we want to print the names and how many characters each name has: "
   ]
  },
  {
   "cell_type": "code",
   "execution_count": 27,
   "metadata": {
    "collapsed": false
   },
   "outputs": [
    {
     "name": "stdout",
     "output_type": "stream",
     "text": [
      "The name Mary has 4 characters\n",
      "The name James has 5 characters\n",
      "The name Siri has 4 characters\n",
      "The name Alexander has 9 characters\n",
      "The name Elizabeth has 9 characters\n"
     ]
    }
   ],
   "source": [
    "students = [\"Mary\", \"James\", \"Siri\" , \"Alexander\", \"Elizabeth\"]\n",
    "\n",
    "for name in students:\n",
    "    print \"The name\", name, \"has\", len(name), \"characters\" "
   ]
  },
  {
   "cell_type": "markdown",
   "metadata": {},
   "source": [
    "The code is executed for every name in the list, i.e., since the list has 5 elements the code is executed 5 times.\n",
    "\n",
    "![for loop diagram](figs\\for_loop.svg)\n",
    "\n",
    "The first line $\\texttt{for name in students:}$ creates a loop over all elements in the list $\\texttt{students}$. In each pass of the loop, the variable $\\texttt{name}$ refers to an element in the list, starting with $\\texttt{students[0]}$, proceeding with $\\texttt{students[1]}$, $\\texttt{students[2]}$, and so on until we reach the last element in the list.\n",
    "\n",
    "The $\\texttt{for}$ loop specification ends with a colon, and after the colon comes a block of statements that does something useful with the current element. Note that the block must be intended, this is an important feature in Python. This might be difficult to remember, but you will get used to it.\n",
    "\n",
    "Here is another example where we are adding the numbers from 1 to 10:"
   ]
  },
  {
   "cell_type": "code",
   "execution_count": 28,
   "metadata": {
    "collapsed": false
   },
   "outputs": [
    {
     "name": "stdout",
     "output_type": "stream",
     "text": [
      "55\n"
     ]
    }
   ],
   "source": [
    "s = 0\n",
    "for i in [1,2,3,4,5,6,7,8,9,10]:\n",
    "    s += i\n",
    "\n",
    "print s"
   ]
  },
  {
   "cell_type": "markdown",
   "metadata": {},
   "source": [
    "If we want to loop over the numbers 1 to 1000 instead it will take a long time to write down the list of numbers. Fortunately, there is a function called $\\texttt{range}$ in Python, which can do this job for you. Range takes two arguments ($\\texttt{range(start, stop)}$) and returns a list of numbers (integers) from start to stop. Here are two examples:"
   ]
  },
  {
   "cell_type": "code",
   "execution_count": 29,
   "metadata": {
    "collapsed": false
   },
   "outputs": [
    {
     "name": "stdout",
     "output_type": "stream",
     "text": [
      "[1, 2, 3, 4, 5, 6, 7, 8, 9]\n",
      "[2, 3, 4, 5, 6, 7]\n"
     ]
    }
   ],
   "source": [
    "print range(1, 10)\n",
    "print range(2,8)"
   ]
  },
  {
   "cell_type": "markdown",
   "metadata": {},
   "source": [
    "Note that the last number is not included! We may also add a third argument, this argument tells us how large the step between the numbers should be. Here are a few examples:"
   ]
  },
  {
   "cell_type": "code",
   "execution_count": 30,
   "metadata": {
    "collapsed": false
   },
   "outputs": [
    {
     "name": "stdout",
     "output_type": "stream",
     "text": [
      "[1, 2, 3, 4, 5, 6, 7, 8, 9]\n",
      "[1, 3, 5, 7, 9]\n",
      "[1, 4, 7]\n"
     ]
    }
   ],
   "source": [
    "print range(1, 10, 1)\n",
    "print range(1, 10, 2)\n",
    "print range(1, 10, 3)"
   ]
  },
  {
   "cell_type": "markdown",
   "metadata": {},
   "source": [
    "$\\texttt{range}$ is very useful in our $\\texttt{for}$ loop"
   ]
  },
  {
   "cell_type": "code",
   "execution_count": 1,
   "metadata": {
    "collapsed": false
   },
   "outputs": [
    {
     "name": "stdout",
     "output_type": "stream",
     "text": [
      "499500\n"
     ]
    }
   ],
   "source": [
    "s = 0\n",
    "for i in range(1, 1000,1):\n",
    "    s += i\n",
    "print s"
   ]
  },
  {
   "cell_type": "markdown",
   "metadata": {},
   "source": [
    "##If/Else\n",
    "Sometimes you want your program to do different things based on a *condition*. For example, what if we want to print out a special message if a number equals 0? To do this, we need something known as an $\\verb+if+$ test. Let us look at an example:\n"
   ]
  },
  {
   "cell_type": "code",
   "execution_count": null,
   "metadata": {
    "collapsed": false
   },
   "outputs": [],
   "source": [
    "number = 1\n",
    "\n",
    "if number == 0:\n",
    "\tprint \"The number equals zero!\"\n",
    "else:\n",
    "\tprint \"The number does not equal zero!\""
   ]
  },
  {
   "cell_type": "markdown",
   "metadata": {},
   "source": [
    "Try to change the number to 0, and see if the message you get changes. \n",
    "\n",
    "Notice that we use double equal signs, '$\\verb+==+$'. this is because we already use a single '$\\verb+=+$' to assign variables, so $\\verb+number = 0+$ assigns the value 0 to the variable $\\verb+number+$.\n",
    "\n",
    "As you can tell the basic structure of an if/else test is as follows:"
   ]
  },
  {
   "cell_type": "code",
   "execution_count": null,
   "metadata": {
    "collapsed": true
   },
   "outputs": [],
   "source": [
    "if condition:\n",
    "\tdo some things\n",
    "else:\n",
    "\tdo some other things"
   ]
  },
  {
   "cell_type": "markdown",
   "metadata": {},
   "source": [
    "You do not always need an $\\verb+else+$ block, maybe you just want to write a message if the number equals 0, and do nothing otherwise. "
   ]
  },
  {
   "cell_type": "code",
   "execution_count": 6,
   "metadata": {
    "collapsed": true
   },
   "outputs": [],
   "source": [
    "if number == 0:\n",
    "\tprint \"The number equals zero!\""
   ]
  },
  {
   "cell_type": "markdown",
   "metadata": {},
   "source": [
    "You can use if tests to check other things than equality. Some other useful operators are greater-than ($\\verb+>+$), less-than ($\\verb+<+$), greater-than-equal ($\\verb+>=+$), and less-than-equal ($\\verb+<=+$). To see if something is $\\verb+True+$ or $\\verb+False+$, you can simply print the condition to the screen"
   ]
  },
  {
   "cell_type": "markdown",
   "metadata": {},
   "source": [
    "![if else diagrams](figs\\if_else.svg)"
   ]
  },
  {
   "cell_type": "code",
   "execution_count": 8,
   "metadata": {
    "collapsed": false
   },
   "outputs": [
    {
     "name": "stdout",
     "output_type": "stream",
     "text": [
      "True\n",
      "True\n",
      "False\n",
      "False\n"
     ]
    }
   ],
   "source": [
    "print 7 > 5\n",
    "print 7 >= 7\n",
    "print 7 < 5\n",
    "print 7 <= 5"
   ]
  },
  {
   "cell_type": "markdown",
   "metadata": {},
   "source": [
    "Play around, try various combinations, and guess the result!\n"
   ]
  },
  {
   "cell_type": "markdown",
   "metadata": {
    "collapsed": false
   },
   "source": [
    "You can add more conditions with the $\\verb+elif+$ command"
   ]
  },
  {
   "cell_type": "code",
   "execution_count": 11,
   "metadata": {
    "collapsed": false
   },
   "outputs": [
    {
     "name": "stdout",
     "output_type": "stream",
     "text": [
      "The number is negative\n"
     ]
    }
   ],
   "source": [
    "number = -1\n",
    "if number == 0:\n",
    "\tprint \"The number equals zero!\"\n",
    "elif number > 0:\n",
    "\tprint \"The number is positive\"\n",
    "else:\n",
    "\tprint \"The number is negative\""
   ]
  },
  {
   "cell_type": "markdown",
   "metadata": {},
   "source": [
    "$\\verb+elif+$ is short for *else if* and you can have as many $\\verb+elif+$ blocks as you want between the $\\verb+if+$ block and the $\\verb+else+$ block. \n",
    "Try to run the above program with different values for $\\verb+number+$ and see which messages you get."
   ]
  },
  {
   "cell_type": "markdown",
   "metadata": {},
   "source": [
    "##While loops\n",
    "\n",
    "A $\\verb+while+$ loop is similar to an $\\verb+if+$ test because it also checks a condition. The difference between the two is that a $\\verb+while+$ loop will repeat everything in the block over and over again as long as the condition remains true \n",
    "\n",
    "![while loop](figs\\while_loop.svg)\n",
    "\n",
    "Let us look at an example that shows the difference between $\\verb+if+$ and $\\verb+while+$. We will create a tiny game where you roll a die. If you get six, you win. If not, you loose. First we will create this game with an $\\verb+if+$ test"
   ]
  },
  {
   "cell_type": "code",
   "execution_count": 34,
   "metadata": {
    "collapsed": false
   },
   "outputs": [
    {
     "name": "stdout",
     "output_type": "stream",
     "text": [
      "You rolled a 2, no prize for you this time.\n"
     ]
    }
   ],
   "source": [
    "from random import randint\n",
    "\n",
    "# Roll a die\n",
    "result = randint(1,6)\n",
    "if result != 6:\n",
    "\tprint \"You rolled a %i, no prize for you this time.\" % result\n",
    "else:\n",
    "\tprint \"You rolled a six! Great job!\""
   ]
  },
  {
   "cell_type": "markdown",
   "metadata": {},
   "source": [
    "When the program runs, we draw a random number between 1 and 6. Then, we use an $\\verb+if+$ test to react to the result. If the result is between 1 and 5, we print the message inside the $\\verb+if+$ block. And if the result is 6, we print the message in the $\\verb+else+$ block. Each time the program runs, a new random result will be drawn, but no matter what happens, the die will only be rolled once, and only one message will print to the screen. \n",
    "\n",
    "Now, let us create the game with a $\\verb+while+$-loop instead. "
   ]
  },
  {
   "cell_type": "code",
   "execution_count": 7,
   "metadata": {
    "collapsed": false
   },
   "outputs": [
    {
     "name": "stdout",
     "output_type": "stream",
     "text": [
      "You rolled a 3, no prize for you this time.\n",
      "You rolled a 3, no prize for you this time.\n",
      "You rolled a six! Great job!\n"
     ]
    }
   ],
   "source": [
    "from random import randint\n",
    "\n",
    "# Roll a die\n",
    "result = randint(1,6)\n",
    "\n",
    "while result != 6:\n",
    "\tprint \"You rolled a %i, no prize for you this time.\" % result\n",
    "\tresult = randint(1,6)\n",
    "\n",
    "print \"You rolled a six! Great job!\""
   ]
  },
  {
   "cell_type": "markdown",
   "metadata": {},
   "source": [
    "When this program runs, a random number is drawn, just like before. But if the number is 6, then the condition $\\verb+result != 6+$ is false. This means that we skip all the code inside the loop. Then the program jumps straight to the last line in the code, which prints out the success message. \n",
    "\n",
    "If we instead roll between 1 and 5, then the condition is true. This means that the code inside the loop will run and print the loser message before *rolling the die again*. After the code inside the loop has run, the condition is checked again. If we now rolled between 1 and 5, then the condition is true again and the loop runs one more time. This continues until we finally roll a 6 and win. Here is one result I got from running the program. "
   ]
  },
  {
   "cell_type": "markdown",
   "metadata": {},
   "source": [
    "$$\\texttt{ You rolled a 1, no prize for you this time. } \\\\\n",
    "\\texttt{ You rolled a 4, no prize for you this time. } \\\\\n",
    "\\texttt{ You rolled a 5, no prize for you this time. } \\\\\n",
    "\\texttt{ You rolled a 5, no prize for you this time. } \\\\\n",
    "\\texttt{ You rolled a six! Great job! }$$"
   ]
  },
  {
   "cell_type": "markdown",
   "metadata": {},
   "source": [
    "As you can see, I first rolled 1, then 4, then 5, then 5 again and finally 6. Observe that with the $\\verb+while+$ test we do not know how many times we will roll the die, but with the $\\verb+if+$ test we rolled the die just once every time. \n",
    "\n",
    "Let us take a look at another example. This time we will find the number of times we have to double a number before it becomes greater that 1 million"
   ]
  },
  {
   "cell_type": "code",
   "execution_count": 38,
   "metadata": {
    "collapsed": false
   },
   "outputs": [
    {
     "name": "stdout",
     "output_type": "stream",
     "text": [
      "After 1 doublings, the number is: 2\n",
      "After 2 doublings, the number is: 4\n",
      "After 3 doublings, the number is: 8\n",
      "After 4 doublings, the number is: 16\n",
      "After 5 doublings, the number is: 32\n",
      "After 6 doublings, the number is: 64\n",
      "After 7 doublings, the number is: 128\n",
      "After 8 doublings, the number is: 256\n",
      "After 9 doublings, the number is: 512\n",
      "After 10 doublings, the number is: 1024\n",
      "After 11 doublings, the number is: 2048\n",
      "After 12 doublings, the number is: 4096\n",
      "After 13 doublings, the number is: 8192\n",
      "After 14 doublings, the number is: 16384\n",
      "After 15 doublings, the number is: 32768\n",
      "After 16 doublings, the number is: 65536\n",
      "After 17 doublings, the number is: 131072\n",
      "After 18 doublings, the number is: 262144\n",
      "After 19 doublings, the number is: 524288\n",
      "After 20 doublings, the number is: 1048576\n"
     ]
    }
   ],
   "source": [
    "i = 0 # number of doublings\n",
    "n = 1 \n",
    "\n",
    "while n < 1000000:\n",
    "\ti = i + 1\n",
    "\tn = n*2\n",
    "\tprint \"After %i doublings, the number is: %i\" % (i, n)"
   ]
  },
  {
   "cell_type": "markdown",
   "metadata": {},
   "source": [
    "The while loop runs until the number $n$ becomes greater than 1 million, and n doubles with each iteration. At the same time, we increase $\\verb+i+$ by one at every iteration of the loop, which allows us to print to the screen how many times the loop has repeated. "
   ]
  },
  {
   "cell_type": "markdown",
   "metadata": {},
   "source": [
    "##Infinite loops\n",
    "\n",
    "with a $\\verb+while+$ loop it is simple to create an infinite loop. Consider the following example **(Do not run this)**"
   ]
  },
  {
   "cell_type": "code",
   "execution_count": null,
   "metadata": {
    "collapsed": false
   },
   "outputs": [],
   "source": [
    "from random import randint\n",
    "\n",
    "result = randint(1,6)\n",
    "\n",
    "while result != 6:\n",
    "\tprint result"
   ]
  },
  {
   "cell_type": "markdown",
   "metadata": {},
   "source": [
    "The idea is that we roll a die until we get 6. The problem is that we forgot to re-roll the die inside the loop! If you run this program like this, and you roll for example 3, then the program will keep printing the result over and over again for ever. Because the die is never re-rolled, the condition will always be true and the program will never escape the loop.\n",
    "\n",
    "If you create a program like this by accident and run it, you have to terminate it yourself. Exactly how you do that depends on which platform and which tools you use, but it is often quite cumbersome. So be careful and try not to create infinite loops!"
   ]
  },
  {
   "cell_type": "markdown",
   "metadata": {},
   "source": [
    "##Functions\n",
    "\n",
    "You may be used to the word 'functions' from mathematics. We will now examine how we can define a function in python. In programming, the concept of functions is somewhat broader than in mathematics, but we will soon see that they have a lot in common.\n",
    "\n",
    "The simplest way to think about a function is to look at it like a machine that takes some input, like a number, and returns some output based on the input."
   ]
  },
  {
   "cell_type": "markdown",
   "metadata": {},
   "source": [
    "![function blackbox](figs\\function_blackbox.svg)"
   ]
  },
  {
   "cell_type": "markdown",
   "metadata": {},
   "source": [
    "If we for example consider the following mathematical function:"
   ]
  },
  {
   "cell_type": "markdown",
   "metadata": {},
   "source": [
    "$$f(x) = x^2 + 3x + 1.$$"
   ]
  },
  {
   "cell_type": "markdown",
   "metadata": {},
   "source": [
    "Then for each value of $x$ (the input),  we can find the resulting value of $f(x)$ (the output). So you can view the function $f$  as a rule, or a machine, that processes a number given by us. We can define this function with Python like this:"
   ]
  },
  {
   "cell_type": "code",
   "execution_count": 5,
   "metadata": {
    "collapsed": true
   },
   "outputs": [],
   "source": [
    "def f(x):\n",
    "    return x**2 + 3*x + 1    "
   ]
  },
  {
   "cell_type": "markdown",
   "metadata": {},
   "source": [
    "$\\verb+def+$ and $\\verb+return+$ are python commands, which we will explain in more detail soon.\n",
    "Let us define a function with the name $f$ that takes a number $x$ and returns the number $f(x)$. We can now use the function (also known as 'calling' or 'invoking' the function) like this:"
   ]
  },
  {
   "cell_type": "code",
   "execution_count": 6,
   "metadata": {
    "collapsed": false
   },
   "outputs": [
    {
     "name": "stdout",
     "output_type": "stream",
     "text": [
      "11\n",
      "23.75\n",
      "4\n"
     ]
    }
   ],
   "source": [
    "print f(2)\n",
    "print f(3.5)\n",
    "print f(-1) + f(1)"
   ]
  },
  {
   "cell_type": "markdown",
   "metadata": {},
   "source": [
    "As soon as we have defined a function in Python, it stays in the memory until the program terminates. This means that after we have defined a function, we can use it as many times as we want. The functions we define are actually just like a new type of variable.\n",
    "\n",
    "A function in python does not need to be mathematical. We can for example create a function like this:"
   ]
  },
  {
   "cell_type": "code",
   "execution_count": 7,
   "metadata": {
    "collapsed": true
   },
   "outputs": [],
   "source": [
    "def greet(name):\n",
    "    print \"Hello \" + name + \"!\""
   ]
  },
  {
   "cell_type": "markdown",
   "metadata": {},
   "source": [
    "This function takes a name as input, that is, a string, and prints a greeting as output. We can call it like this"
   ]
  },
  {
   "cell_type": "code",
   "execution_count": 8,
   "metadata": {
    "collapsed": false
   },
   "outputs": [
    {
     "name": "stdout",
     "output_type": "stream",
     "text": [
      "Hello Lucy!\n"
     ]
    }
   ],
   "source": [
    "greet(\"Lucy\")"
   ]
  },
  {
   "cell_type": "markdown",
   "metadata": {},
   "source": [
    "Notice that this function didn’t use the command $\\verb+return+$, and when we invoked the function we did not write $\\verb+print+$ before the function call. This is because the function itself prints, we defined it to do so. It may be difficult to understand this difference, so let us look at some more examples.\n",
    "\n",
    "We define two functions, $f1$ and $f2$. We want both of them to take a number $x$ as input, and calculate $2x$ (the double of $x$). The difference is that we want $f1$ to return the result, but we want $f2$ to print the result to the screen. So the code is:\n"
   ]
  },
  {
   "cell_type": "code",
   "execution_count": 10,
   "metadata": {
    "collapsed": true
   },
   "outputs": [],
   "source": [
    "def f1(x):\n",
    "    return 2*x\n",
    "\n",
    "def f2(x):\n",
    "    print 2*x"
   ]
  },
  {
   "cell_type": "markdown",
   "metadata": {},
   "source": [
    "Let us now try to call $f1$ and $f2$ in different ways and attempt to understand exactly what is happening. First we write"
   ]
  },
  {
   "cell_type": "code",
   "execution_count": 12,
   "metadata": {
    "collapsed": false
   },
   "outputs": [
    {
     "data": {
      "text/plain": [
       "4"
      ]
     },
     "execution_count": 12,
     "metadata": {},
     "output_type": "execute_result"
    }
   ],
   "source": [
    "f1(2)"
   ]
  },
  {
   "cell_type": "markdown",
   "metadata": {},
   "source": [
    "This doesn't result in an error message, so it seems okay, but there is no printout. In fact, nothing happens at all! The reason for this is that when we call $f1$ with $2$ as input, the function calculates $2*2 = 4$ and returns this value, but we don't do anything with the value. And so, nothing happens. We could for example do this instead:"
   ]
  },
  {
   "cell_type": "code",
   "execution_count": 13,
   "metadata": {
    "collapsed": false
   },
   "outputs": [
    {
     "name": "stdout",
     "output_type": "stream",
     "text": [
      "4\n"
     ]
    }
   ],
   "source": [
    "a = f1(2)\n",
    "print a"
   ]
  },
  {
   "cell_type": "markdown",
   "metadata": {},
   "source": [
    "Here we store the returned value in a variable $a$, and then we print $a$. Now we get the result, $4$, printed to the screen. Great!\n",
    "\n",
    "Let us now try to write"
   ]
  },
  {
   "cell_type": "code",
   "execution_count": 15,
   "metadata": {
    "collapsed": false
   },
   "outputs": [
    {
     "name": "stdout",
     "output_type": "stream",
     "text": [
      "6\n"
     ]
    }
   ],
   "source": [
    "f2(3)"
   ]
  },
  {
   "cell_type": "markdown",
   "metadata": {},
   "source": [
    "This works perfectly fine, we get the result, directly to the screen. So far so good! This is because we call the function $f2$, and $f2$ prints the number on the screen. But if we instead try to store the result in a variable like so"
   ]
  },
  {
   "cell_type": "code",
   "execution_count": 16,
   "metadata": {
    "collapsed": false
   },
   "outputs": [
    {
     "name": "stdout",
     "output_type": "stream",
     "text": [
      "6\n",
      "None\n"
     ]
    }
   ],
   "source": [
    "a = f2(3)\n",
    "print a"
   ]
  },
  {
   "cell_type": "markdown",
   "metadata": {},
   "source": [
    "we get a slightly cryptic result.\n",
    "\n",
    "To understand what is happing, we first have to interpret the line $\\verb!a = f2(3)!$. As we have learned before, a line like this means that we calculate the right side and store it in the variable $a$. But the right side calls f2 with the number $\\verb+x = 3+$, and $f2$ does as we defined, and prints the result $\\verb+2*x = 6+$ directly to the screen. Now $f2$ is done, but it didn't return any value! So when $a$ is defined as the result, $a$ gets the value 'nothing', or $\\verb+None+$ which is what 'nothing' is called in Python.\n",
    "\n",
    "Hopefully, you now have some idea what it means that a function returns a value with the $\\verb+return+$ command. Do not panic if you find all this a bit confusing. Remember, comprehension develops with time when programming, and you will understand it better after you try for yourself!"
   ]
  },
  {
   "cell_type": "markdown",
   "metadata": {},
   "source": [
    "###Functions with multiple variables\n",
    "\n",
    "Now that you know how to define functions with one variable, it is super simple to define functions with multiple variables. We can create the following function\n",
    "\n",
    "$$f(x,y) = 2x^2 + xy + 3,$$\n",
    "\n",
    "like so"
   ]
  },
  {
   "cell_type": "code",
   "execution_count": 17,
   "metadata": {
    "collapsed": false
   },
   "outputs": [
    {
     "name": "stdout",
     "output_type": "stream",
     "text": [
      "33\n"
     ]
    }
   ],
   "source": [
    "def f(x,y):\n",
    "    return 2*x**2 + x*y + 3\n",
    "\n",
    "print f(3,4)"
   ]
  },
  {
   "cell_type": "markdown",
   "metadata": {},
   "source": [
    "We can even create functions with no arguments at all. This type of functions is perhaps more useful when you are programming than when you are doing mathematics. Consider this function"
   ]
  },
  {
   "cell_type": "code",
   "execution_count": 19,
   "metadata": {
    "collapsed": true
   },
   "outputs": [],
   "source": [
    "def greet():\n",
    "    print \"Hey there! I hope you have a great day!\""
   ]
  },
  {
   "cell_type": "markdown",
   "metadata": {},
   "source": [
    "Observe that when we invoke a function like this, we still have to use parentheses like so"
   ]
  },
  {
   "cell_type": "code",
   "execution_count": 21,
   "metadata": {
    "collapsed": false
   },
   "outputs": [
    {
     "name": "stdout",
     "output_type": "stream",
     "text": [
      "Hey there! I hope you have a great day!\n"
     ]
    }
   ],
   "source": [
    "greet()"
   ]
  },
  {
   "cell_type": "markdown",
   "metadata": {},
   "source": [
    "Another thing worth noticing is that many of the commands we have used in python so far are defined exactly like we just saw. $\\verb+range+$ for example, is a function that we call when we need to use it. When we write $\\verb+range(1,10,2)+$, we call a function with three arguments. "
   ]
  },
  {
   "cell_type": "markdown",
   "metadata": {},
   "source": [
    "##Arrays\n",
    "\n",
    "Soon we will start to look at plotting in Python. But before we do, we should first introduce *arrays*. Arrays are a type of list that is especially useful for mathematics. Unlike lists, which may contain different types of elements, arrays may only contain numbers. Lists can also add or remove elements, while arrays always have a fixed size. If we create an array with a thousand numbers, it will always contain a thousand numbers.  We can, however, change what those numbers are.\n",
    "\n",
    "Now we will show the two most common ways of creating arrays. First, how do we create an empty array? Because an array never changes it's size, we have to define the number of spaces in the array. To do this, we use the command $\\verb+zeros+$:"
   ]
  },
  {
   "cell_type": "code",
   "execution_count": 23,
   "metadata": {
    "collapsed": false
   },
   "outputs": [
    {
     "name": "stdout",
     "output_type": "stream",
     "text": [
      "[ 0.  0.  0.]\n"
     ]
    }
   ],
   "source": [
    "from pylab import *\n",
    "\n",
    "x = zeros(3) \n",
    "\n",
    "print x"
   ]
  },
  {
   "cell_type": "markdown",
   "metadata": {},
   "source": [
    "The variable $x$ is now an array with three elements. All the elements have the value $0$. This may seem like a strange way to do it, but now we can change specific elements by indexing like this"
   ]
  },
  {
   "cell_type": "code",
   "execution_count": 25,
   "metadata": {
    "collapsed": false
   },
   "outputs": [
    {
     "name": "stdout",
     "output_type": "stream",
     "text": [
      "[ 10.   4.   3.]\n"
     ]
    }
   ],
   "source": [
    "x[0] = 10\n",
    "x[1] = 4\n",
    "x[2] = 3"
   ]
  },
  {
   "cell_type": "markdown",
   "metadata": {},
   "source": [
    "We call this use of square brackets for 'indexing', and we use it to get easy access to specific elements from an array or a list. Python counts from 0, so $\\verb+x[0]+$ is the first element, $\\verb+x[1]+$ is the second element, etc. So if we write $\\verb+print x+$ we get the following"
   ]
  },
  {
   "cell_type": "code",
   "execution_count": 26,
   "metadata": {
    "collapsed": false
   },
   "outputs": [
    {
     "name": "stdout",
     "output_type": "stream",
     "text": [
      "[ 10.   4.   3.]\n"
     ]
    }
   ],
   "source": [
    "print x"
   ]
  },
  {
   "cell_type": "markdown",
   "metadata": {},
   "source": [
    "The second way to create an array involves the function $\\verb+linspace+$. Linspace is short for *linear spacing*. It takes three input numbers: start, stop, and size. Example: "
   ]
  },
  {
   "cell_type": "code",
   "execution_count": 27,
   "metadata": {
    "collapsed": false
   },
   "outputs": [
    {
     "name": "stdout",
     "output_type": "stream",
     "text": [
      "[ 0.   0.2  0.4  0.6  0.8  1. ]\n"
     ]
    }
   ],
   "source": [
    "x = linspace(0,1,6)\n",
    "print x"
   ]
  },
  {
   "cell_type": "markdown",
   "metadata": {},
   "source": [
    "As you can tell, x is an array with 6 elements. The first element is 0, the last element is 1 and the rest are distributed equally. We will see how useful $\\verb+linspace+$ can be when we start plotting."
   ]
  },
  {
   "cell_type": "markdown",
   "metadata": {},
   "source": [
    "###Vectorized functions\n",
    "\n",
    "A great advantage to arrays is that they are made to be used in mathematics. For example, they behave exactly like vectors. This means that we can use arrays to calculate dot products and cross products."
   ]
  },
  {
   "cell_type": "code",
   "execution_count": 28,
   "metadata": {
    "collapsed": false
   },
   "outputs": [
    {
     "name": "stdout",
     "output_type": "stream",
     "text": [
      "-8\n",
      "[-2 10 14]\n"
     ]
    }
   ],
   "source": [
    "u = array([1,-4,3])\n",
    "v = array([3,2,-1])\n",
    "print dot(u,v)\n",
    "print cross(u,v)"
   ]
  },
  {
   "cell_type": "markdown",
   "metadata": {},
   "source": [
    "Another useful feature of arrays is that we can give them as input to functions. Consider for example this function which we looked at before"
   ]
  },
  {
   "cell_type": "code",
   "execution_count": 29,
   "metadata": {
    "collapsed": true
   },
   "outputs": [],
   "source": [
    "def f(x):\n",
    "    return x**2 + 3*x + 1"
   ]
  },
  {
   "cell_type": "markdown",
   "metadata": {},
   "source": [
    "What happens when we call this function with an array?"
   ]
  },
  {
   "cell_type": "code",
   "execution_count": 31,
   "metadata": {
    "collapsed": false
   },
   "outputs": [
    {
     "name": "stdout",
     "output_type": "stream",
     "text": [
      "[ 1  5 11 19 29 41]\n"
     ]
    }
   ],
   "source": [
    "a = array([0,1,2,3,4,5])\n",
    "print f(a)"
   ]
  },
  {
   "cell_type": "markdown",
   "metadata": {},
   "source": [
    "Python calculates the result element by element and returns an array containing all the results. "
   ]
  },
  {
   "cell_type": "markdown",
   "metadata": {},
   "source": [
    "##Plotting"
   ]
  },
  {
   "cell_type": "markdown",
   "metadata": {},
   "source": [
    "We will now take a look at plotting in python, which involves creating simple figures and graphs. We will plot points in the coordinate system that you are used to from mathematics. To plot, we use the function $\\verb+plot+$ from the Pylab package. The $\\verb+plot+$ function takes in two lists, or arrays, of numbers as input. Here is a simple example"
   ]
  },
  {
   "cell_type": "code",
   "execution_count": 33,
   "metadata": {
    "collapsed": false
   },
   "outputs": [
    {
     "data": {
      "image/png": "[encoded data removed]",
      "text/plain": [
       "<matplotlib.figure.Figure at 0xa58ed30>"
      ]
     },
     "metadata": {},
     "output_type": "display_data"
    }
   ],
   "source": [
    "%matplotlib inline\n",
    "from pylab import plot\n",
    "plot([0,0.5,1], [2,4,6], 'x')\n",
    "show()"
   ]
  },
  {
   "cell_type": "markdown",
   "metadata": {},
   "source": [
    "As you can see, the program draws the points (0,2), (0.5, 4) and (1,6) in the coordinate system. We have to use the command $\\verb+show()+$ to show the figures we have created. We also used the string *'x'* to tell $\\verb+plot+$ to use crosses to draw the points. By default, $\\verb+plot+$ will just draw lines between the points. \n",
    "\n",
    "If we have defined a function, for example"
   ]
  },
  {
   "cell_type": "markdown",
   "metadata": {},
   "source": [
    "$$f(x) = x^2 + 3x + 1,$$"
   ]
  },
  {
   "cell_type": "markdown",
   "metadata": {},
   "source": [
    "which we looked at earlier. Then we can write this"
   ]
  },
  {
   "cell_type": "code",
   "execution_count": 37,
   "metadata": {
    "collapsed": false
   },
   "outputs": [
    {
     "data": {
      "image/png": "[encoded data removed]",
      "text/plain": [
       "<matplotlib.figure.Figure at 0xa6a55f8>"
      ]
     },
     "metadata": {},
     "output_type": "display_data"
    }
   ],
   "source": [
    "def f(x):\n",
    "    return x**2 + 3*x + 1\n",
    "\n",
    "x = linspace(-6,6,1000)\n",
    "y = f(x)\n",
    "\n",
    "plot(x,y)\n",
    "show()"
   ]
  },
  {
   "cell_type": "markdown",
   "metadata": {},
   "source": [
    "Here we create a set of a thousand points, and then we plot them. This gives us a nice figure of the function $f(x)$ \n",
    "\n",
    "We can also create plots of other known mathematical functions, like $sin(x)$ and $cos(x)$"
   ]
  },
  {
   "cell_type": "code",
   "execution_count": 39,
   "metadata": {
    "collapsed": false
   },
   "outputs": [
    {
     "data": {
      "image/png": "[encoded data removed]",
      "text/plain": [
       "<matplotlib.figure.Figure at 0xb39e470>"
      ]
     },
     "metadata": {},
     "output_type": "display_data"
    }
   ],
   "source": [
    "x = linspace(0,2*pi,1000)\n",
    "plot(x,sin(x))\n",
    "plot(x,cos(x))\n",
    "show()"
   ]
  },
  {
   "cell_type": "markdown",
   "metadata": {},
   "source": [
    "After we have created the curve with the plot-command, and before we call $\\verb+show()+$, we can prettify the figure. For example by adding labels to the axes with $\\verb+xlabel+$ and $\\verb+ylabel+$"
   ]
  },
  {
   "cell_type": "code",
   "execution_count": 40,
   "metadata": {
    "collapsed": false
   },
   "outputs": [
    {
     "data": {
      "image/png": "[encoded data removed]",
      "text/plain": [
       "<matplotlib.figure.Figure at 0xaa75860>"
      ]
     },
     "metadata": {},
     "output_type": "display_data"
    }
   ],
   "source": [
    "x = linspace(0,2*pi,1000)\n",
    "plot(x,sin(x))\n",
    "plot(x,cos(x))\n",
    "xlabel('x')\n",
    "ylabel('y')\n",
    "show()"
   ]
  },
  {
   "cell_type": "code",
   "execution_count": 41,
   "metadata": {
    "collapsed": false
   },
   "outputs": [
    {
     "data": {
      "image/png": "[encoded data removed]",
      "text/plain": [
       "<matplotlib.figure.Figure at 0xb674240>"
      ]
     },
     "metadata": {},
     "output_type": "display_data"
    }
   ],
   "source": [
    "x = linspace(0,2*pi,1000)\n",
    "plot(x,sin(x))\n",
    "plot(x,cos(x))\n",
    "xlabel('x')\n",
    "ylabel('y')\n",
    "title('This is a title')\n",
    "axis([0,2*pi,-1,1])\n",
    "show()"
   ]
  },
  {
   "cell_type": "markdown",
   "metadata": {},
   "source": [
    "Axis takes a list like this: $\\verb+[xstart, xstop, ystart, ystop]+$"
   ]
  },
  {
   "cell_type": "markdown",
   "metadata": {},
   "source": [
    "If we want to save the figure, we can do so with $\\verb+savefig+$"
   ]
  },
  {
   "cell_type": "code",
   "execution_count": 43,
   "metadata": {
    "collapsed": false
   },
   "outputs": [
    {
     "data": {
      "image/png": "[encoded data removed]",
      "text/plain": [
       "<matplotlib.figure.Figure at 0xb6afa58>"
      ]
     },
     "metadata": {},
     "output_type": "display_data"
    }
   ],
   "source": [
    "x = linspace(0,2*pi,1000)\n",
    "plot(x,sin(x))\n",
    "plot(x,cos(x))\n",
    "xlabel('x')\n",
    "ylabel('y')\n",
    "axis([0,2*pi,-1,1])\n",
    "savefig('figure1.png')\n",
    "savefig('figure1.pdf')\n",
    "show()"
   ]
  },
  {
   "cell_type": "markdown",
   "metadata": {},
   "source": [
    "This creates the images 'figure1.png' and 'figure2.pdf' respectivly.\n",
    "\n",
    "There are a lot more ways to make your plots look prettier, but let us not dive in too deeply for now. We will explore more things you can do with plots later, but if you feel impatient, you can take a look at [matplotlib.org](matplotlib.org). It is the website for the plotting package that pylab uses, and it contains plenty of examples of different plots you can create. "
   ]
  },
  {
   "cell_type": "code",
   "execution_count": null,
   "metadata": {
    "collapsed": true
   },
   "outputs": [],
   "source": []
  }
 ],
 "metadata": {
  "kernelspec": {
   "display_name": "Python 2",
   "language": "python",
   "name": "python2"
  },
  "language_info": {
   "codemirror_mode": {
    "name": "ipython",
    "version": 2
   },
   "file_extension": ".py",
   "mimetype": "text/x-python",
   "name": "python",
   "nbconvert_exporter": "python",
   "pygments_lexer": "ipython2",
   "version": "2.7.9"
  }
 },
 "nbformat": 4,
 "nbformat_minor": 0
}
