{
 "cells": [
  {
   "cell_type": "markdown",
   "metadata": {},
   "source": [
    "# Workshop: Projectile Motion\n",
    "## An introduction to computing trajectories"
   ]
  },
  {
   "cell_type": "markdown",
   "metadata": {},
   "source": [
    "This workshop focuses on introducing computations to introductory physics. Introducing computations should lead to a sense of empowerment\n",
    "For this to be possible, the computations must\n",
    "1. Relate to well-known problems\n",
    "2. Be shown to be a powerful tool\n",
    "3. Be understandable. Students should write their own code\n",
    "\n",
    "## The goal is to find the velocity and position of an object as functions of time: $\\vec{v}(t), \\vec{r}(t) $\n",
    " ![cannonball](figs\\cannonball.svg)\n",
    "Equations of motion:\n",
    "$$ \\frac{d \\vec{r}}{d t} = \\vec{v}(t), \\qquad \\frac{d \\vec{v}}{d t} = \\vec{a}(t)$$\n"
   ]
  },
  {
   "cell_type": "markdown",
   "metadata": {},
   "source": [
    "Newtons 2. law of motion:\n",
    "$$ \\vec{F} = m\\vec{a}$$\n",
    " ![cannonballforces](figs\\cannonballforces.svg)"
   ]
  },
  {
   "cell_type": "markdown",
   "metadata": {},
   "source": [
    "$$ \\vec{F}(r,v,t) = m\\vec{a}(r,v,t).$$"
   ]
  },
  {
   "cell_type": "markdown",
   "metadata": {},
   "source": [
    "Our algorithm is now as follows\n",
    "1. Find the physical forces of the system.\n",
    "2. Use Newtons 2. law to find the acceleration\n",
    "3. Calculate ~ v(t) and~ r(t) by solving the equations of motion\n",
    "In this workshop, we will solve step number 3 numerically,\n",
    "using the Euler method."
   ]
  },
  {
   "cell_type": "markdown",
   "metadata": {},
   "source": [
    "# The Euler Method\n",
    "## A method for solving ordinary differential equations (ODEs)"
   ]
  },
  {
   "cell_type": "markdown",
   "metadata": {},
   "source": [
    "We can solve the equations of motion numerically using the Euler method\n",
    "From the definition of the derivative\n",
    "\n",
    "$$\\frac{d v}{d t} = \\lim_{\\Delta t \\to 0} \\frac{v(t+\\Delta t) - v(t)}{\\Delta t} =  a(t)$$\n"
   ]
  },
  {
   "cell_type": "markdown",
   "metadata": {},
   "source": [
    "We now remove the limit, making $\\Delta t$ a very small constant"
   ]
  },
  {
   "cell_type": "markdown",
   "metadata": {},
   "source": [
    "$$\\frac{v(t+\\Delta t) - v(t)}{\\Delta t} \\approx  a(t)$$"
   ]
  },
  {
   "cell_type": "markdown",
   "metadata": {},
   "source": [
    "Solving for $v(t+\\Delta t)$ gives\n",
    "$$ v(t+\\Delta t) \\approx v(t) + a(t)\\cdot \\Delta t $$\n"
   ]
  },
  {
   "cell_type": "markdown",
   "metadata": {},
   "source": [
    "We can solve the equations of motion by stepping forward in time \n",
    "$$v(t+\\Delta t) = v(t) + a(t)\\cdot \\Delta t$$"
   ]
  },
  {
   "cell_type": "markdown",
   "metadata": {},
   "source": [
    "If $a(t)$ and $v(t)$ are known, we can calculate $v(t+\\Delta t)$\n",
    " ![plot of eulers method](figs\\eulers0.svg)"
   ]
  },
  {
   "cell_type": "markdown",
   "metadata": {},
   "source": [
    "##Our functions are no longer continuous, they have become discretized\n",
    "We only focus on multiples of our time-step\n"
   ]
  },
  {
   "cell_type": "markdown",
   "metadata": {},
   "source": [
    "\\begin{align*}\n",
    "t  & \\in \\{ 0,\\ \\Delta t,\\  2\\Delta t, \\ 3\\Delta t,  \\ldots \\} \\\\\n",
    "t_i & \\equiv i\\cdot\\Delta t\n",
    "\\end{align*}"
   ]
  },
  {
   "cell_type": "markdown",
   "metadata": {},
   "source": [
    "Introduce the shorthand\n",
    "\\begin{align*}\n",
    "v(t_i) & \\equiv v_i \\\\\n",
    "r(t_i) & \\equiv r_i \\\\\n",
    "\\end{align*}\n",
    " ![time discretization](figs\\time_discretization.svg)"
   ]
  },
  {
   "cell_type": "markdown",
   "metadata": {},
   "source": [
    "##We solve the equations of motion iteratively\n"
   ]
  },
  {
   "cell_type": "markdown",
   "metadata": {},
   "source": [
    "$$ v_{i+1} = v_i + a_i\\cdot\\Delta t$$\n",
    "\n",
    "$$r_{i+1} = r_i + v_i\\cdot \\Delta t$$"
   ]
  },
  {
   "cell_type": "markdown",
   "metadata": {},
   "source": [
    "For each time step, we must calculate the acceleration\n",
    "$$ a_i = a(r_i, v_i, t_i).$$\n"
   ]
  },
  {
   "cell_type": "markdown",
   "metadata": {},
   "source": [
    "We repeat these steps, starting at our initial conditions $v_0$ and $r_0$, until we have reached our end-time $t_N$\n",
    "$$ i = 0,1,2,3,\\ldots, N.$$"
   ]
  },
  {
   "cell_type": "markdown",
   "metadata": {},
   "source": [
    "## Algorithm for the Euler method\n",
    "for $i=0,1,2,3,\\ldots, N-1$:\n",
    "1. Use the previous results $x_i$ and $v_i$ to compute the acceleration: $ a_i = F(x_i, v_i, t_i)/m$.\n",
    "2. Compute the new velocity: $ v_{i+1} = v_i + a_i\\Delta t$.\n",
    "3. Compute the new position: $ r_{i+1} = r_i + v_i\\Delta t$.\n"
   ]
  },
  {
   "cell_type": "markdown",
   "metadata": {},
   "source": [
    "#Implementation\n",
    "##Moving from physics and math to actual computer code"
   ]
  },
  {
   "cell_type": "markdown",
   "metadata": {},
   "source": [
    "for $i=0,1,2,3,\\ldots, N-1$:\n",
    "1. Use the previous results $x_i$ and $v_i$ to compute the acceleration: $ a_i = F(x_i, v_i, t_i)/m$.\n",
    "2. Compute the new velocity: $ v_{i+1} = v_i + a_i\\Delta t$.\n",
    "3. Compute the new position: $ r_{i+1} = r_i + v_i\\Delta t$."
   ]
  },
  {
   "cell_type": "code",
   "execution_count": null,
   "metadata": {
    "collapsed": false
   },
   "outputs": [],
   "source": [
    "for i in range(N):\n",
    "\ta[i] = F(r[i], v[i], t[i])/m\n",
    "\tv[i+1] = v[i] + a[i]*dt\n",
    "\tr[i+1] = r[i] + v[i]*dt\n",
    "\t"
   ]
  },
  {
   "cell_type": "markdown",
   "metadata": {},
   "source": [
    "We want the code to look as much as possible like the physics and math we write on paper\n",
    "$$ t_i \\Rightarrow \\texttt{t[i]} \\qquad  v_i \\Rightarrow \\texttt{v[i]} \\qquad  r_i  \\Rightarrow \\texttt{r[i]}$$"
   ]
  },
  {
   "cell_type": "markdown",
   "metadata": {},
   "source": [
    "## We also need various pieces of bookkeeping code\n",
    "Here we define the arrays we will be using"
   ]
  },
  {
   "cell_type": "code",
   "execution_count": 18,
   "metadata": {
    "collapsed": false
   },
   "outputs": [],
   "source": [
    "# Import various functions meant for numerical science\n",
    "import numpy as np \n",
    "from math import cos,sin,pi\n",
    "\n",
    "t_0 = 0 # Start time, s\n",
    "t_end = 10 # End time, s\n",
    "N = 1000 # Number of time steps\n",
    "\n",
    "# Create a uniformly spaced time-array\n",
    "t = np.linspace(t_0, t_end, N+1)\n",
    "\n",
    "# Calculate the size of a time step\n",
    "dt = t[1] - t[0]\n",
    "\n",
    "# Create empty acceleration, velocity and position arrays\n",
    "a = np.zeros((N+1,2))\n",
    "v = np.zeros((N+1,2))\n",
    "r = np.zeros((N+1,2))\n",
    "\n",
    "# Set initial conditions\n",
    "v[0] = (100*cos(pi/6), 100*sin(pi/6)) # inital velocity, m/s\n",
    "r[0] = (0,1)  # initial position, m"
   ]
  },
  {
   "cell_type": "markdown",
   "metadata": {},
   "source": [
    "Here we define the physical constants for our system and the function that describes the forces"
   ]
  },
  {
   "cell_type": "code",
   "execution_count": 17,
   "metadata": {
    "collapsed": false
   },
   "outputs": [],
   "source": [
    "m = 5.5 # mass, kg\n",
    "g = 9.81 # acceleration of gravity, m/s^2\n",
    "rho = 1.3 # air density, kg/m^3\n",
    "C_D = 0.45 # drag coefficient\n",
    "d = 0.11 # diameter of cannonball, m\n",
    "A = pi*d**2 # cross-sectional area, m^2\n",
    "\n",
    "def F(r, v, t):\n",
    "\treturn (0, -m*g) - 0.5*rho*C_D*A*abs(v)*v"
   ]
  },
  {
   "cell_type": "markdown",
   "metadata": {},
   "source": [
    "This example shows the forces acting on the cannonball as it flies through the air\n",
    "$$F(x,v,t) = F_g + F_d(\\vec{v}) = -mg\\vec{k} - \\frac{1}{2}\\rho C_D A |\\vec{v}|\\vec{v}$$"
   ]
  },
  {
   "cell_type": "markdown",
   "metadata": {},
   "source": [
    "As soon as we have solved the equations of\n",
    "motion, we can plot the result"
   ]
  },
  {
   "cell_type": "code",
   "execution_count": 20,
   "metadata": {
    "collapsed": false
   },
   "outputs": [
    {
     "data": {
      "image/png": "[encoded data removed]",
      "text/plain": [
       "<matplotlib.figure.Figure at 0xa990d30>"
      ]
     },
     "metadata": {},
     "output_type": "display_data"
    }
   ],
   "source": [
    "# Solving equations of motion iteratively\n",
    "for i in range(N):\n",
    "    a[i] = F(r[i], v[i], t[i])/m\n",
    "    v[i+1] = v[i] + a[i]*dt\n",
    "    r[i+1] = r[i] + v[i]*dt\n",
    "\n",
    "# Extract x and y coordinates\n",
    "x = r[:,0]\n",
    "y = r[:,1]\n",
    "\n",
    "# Import functionality for plotting\n",
    "import matplotlib.pyplot as plt\n",
    "%matplotlib inline \n",
    "\n",
    "# Plot figure\n",
    "plt.plot(x,y)\n",
    "\n",
    "# Prettify the plot\n",
    "plt.xlabel('Horizontal distance, [m]')\n",
    "plt.ylabel('Vertical distance, [m]')\n",
    "plt.title('Trajectory of a fired cannonball')\n",
    "plt.grid()\n",
    "plt.axis([0, 900, 0, 250])\n",
    "\n",
    "# Makes the plot appear on the screen\n",
    "plt.show()"
   ]
  },
  {
   "cell_type": "markdown",
   "metadata": {},
   "source": [
    " ![plot_cannonball1](figs\\plot_cannonball1.svg)"
   ]
  },
  {
   "cell_type": "markdown",
   "metadata": {},
   "source": [
    "##Numerical Experimentation"
   ]
  },
  {
   "cell_type": "markdown",
   "metadata": {},
   "source": [
    "Altering parameters lets us immediately see the consequences"
   ]
  },
  {
   "cell_type": "markdown",
   "metadata": {},
   "source": [
    " ![plot_cannonball2](figs\\plot_cannonball2.svg)\n",
    " ![plot_cannonball3](figs\\plot_cannonball3.svg)"
   ]
  },
  {
   "cell_type": "markdown",
   "metadata": {},
   "source": [
    "## Students can use numerical experimentation to build intuition and knowledge\n",
    "* Numerical results can be compared to known analytical solutions. Are numerical results trustworthy?\n",
    "* Can study how results are directly changed by parameter choice. Are the parameters chosen reasonable?\n",
    "* Can look at systems with and without certain contributions, such as air drag. What is important, and what can be ignored?"
   ]
  },
  {
   "cell_type": "markdown",
   "metadata": {},
   "source": [
    "# Examples of possible projects"
   ]
  },
  {
   "cell_type": "markdown",
   "metadata": {},
   "source": [
    "You will have a chance to look at some of these today\n",
    "##Catapults and cannons and sports such as baseball\n",
    "* Easy to compare with experimental data, either before or after simulation.\n",
    "* Can look into studies of air drag, Reynolds number etc.\n",
    "![cannonball](figs\\cannonball.svg)"
   ]
  },
  {
   "cell_type": "markdown",
   "metadata": {},
   "source": [
    "##Skydiving and bungee jumping\n",
    "<img src=\"figs\\skydiving.jpg\" alt=\"Skydiving\" style=\"width: 500px;\" />\n",
    "\n",
    "* Great study on free fall and terminal velocity\n",
    "* Can study how parameters such as cross-sectional area and drag coefficient change as the parachute is opened\n",
    "* Can plot the g-forces affecting the jumper. Which sport is more “extreme”?"
   ]
  },
  {
   "cell_type": "markdown",
   "metadata": {},
   "source": [
    "##Pendulum and angular motion\n",
    "![pendulum](figs\\pendulum.svg)\n",
    "* Can solve pendulum problems also for large angles!\n",
    "* Energy can be plotted as functions of time\n",
    "* Can also simulate double pendulum and chaotic systems"
   ]
  },
  {
   "cell_type": "markdown",
   "metadata": {},
   "source": [
    "##Modeling the solar system\n",
    "<img src=\"figs\\exopl_GJ1214b_ESO.svg\" alt=\"solar system\" style=\"width: 500px;\" />\n",
    "* Students can gather real data of planetary orbits from NASA webpages\n",
    "* Can combine numerical simulation with better graphics\n"
   ]
  },
  {
   "cell_type": "code",
   "execution_count": null,
   "metadata": {
    "collapsed": true
   },
   "outputs": [],
   "source": []
  }
 ],
 "metadata": {
  "kernelspec": {
   "display_name": "Python 2",
   "language": "python",
   "name": "python2"
  },
  "language_info": {
   "codemirror_mode": {
    "name": "ipython",
    "version": 2
   },
   "file_extension": ".py",
   "mimetype": "text/x-python",
   "name": "python",
   "nbconvert_exporter": "python",
   "pygments_lexer": "ipython2",
   "version": "2.7.9"
  }
 },
 "nbformat": 4,
 "nbformat_minor": 0
}
