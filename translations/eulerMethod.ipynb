{
 "cells": [
  {
   "cell_type": "markdown",
   "metadata": {},
   "source": [
    "# The Euler Method\n",
    "## A method for solving ordinary differential equations (ODEs)\n",
    "\n",
    "**TODO:** trenger kanskje litt mer intro?\n",
    "\n",
    "The goal is to find the velocity and position of an object as functions of time: $v(t)$ and $ x(t) $\n",
    "To do this we need to solve the equations of motion:"
   ]
  },
  {
   "cell_type": "markdown",
   "metadata": {},
   "source": [
    "$$\\frac{d v}{d t} = a(t)$$\n",
    "\n",
    "$$\\frac{d x}{d t} = v(t)$$"
   ]
  },
  {
   "cell_type": "markdown",
   "metadata": {},
   "source": [
    "If the acceleration is constant ($a(t) = a$), then the solution is simple\n",
    "\n",
    "\\begin{align*}\n",
    " v(t) &= v_0 + at, \\\\\n",
    " x(t) &= x_0 + v_0t + \\frac{1}{2}at^2.\n",
    "\\end{align*}"
   ]
  },
  {
   "cell_type": "markdown",
   "metadata": {},
   "source": [
    "But the acceleration is not always constant. How do we solve problems were the acceleration is not constant?\n"
   ]
  },
  {
   "cell_type": "markdown",
   "metadata": {},
   "source": [
    "## For small time intervals, the acceleration is approximately constant"
   ]
  },
  {
   "cell_type": "markdown",
   "metadata": {},
   "source": [
    "We know that if we look at a tiny interval in time, $\\Delta t$, the velocity will change verly little. This means that the acceleration will be close to constant. So if we choose a small enough $\\Delta t$, we can pretend that the acceleration is constant. \n",
    "\n",
    "\\begin{align*}\n",
    "v(\\Delta t) &= v_0 + a_0 \\cdot \\Delta t, \\\\\n",
    "x(\\Delta t) &= x_0 + v_0\\Delta t + \\frac{1}{2}a_0 \\cdot \\Delta t^2.\n",
    "\\end{align*}\n",
    "\n",
    "$a_0$ is the acceleration at $t = 0$"
   ]
  },
  {
   "cell_type": "markdown",
   "metadata": {},
   "source": [
    "What is the acceleration at time $\\Delta t$? We assume we know the physical forces acting on the system, $F(x,v,t)$. By Newtons second law we have\n",
    "\n",
    "$$F = ma$$\n",
    "\n",
    "Solve for a\n",
    "\n",
    "$$a(x,v,t) = F(x,v,t)/m$$"
   ]
  },
  {
   "cell_type": "markdown",
   "metadata": {},
   "source": [
    "So the new acceleration at $\\Delta t$ is\n",
    "$$ a(\\Delta x, \\Delta v, \\Delta t) = F(\\Delta x, \\Delta v, \\Delta t)/m $$\n",
    "\n",
    "We can use this new acceleration to go one more step forward in time to find $v(\\Delta t + \\Delta t) = v(2\\Delta t)$ and $x(\\Delta t + \\Delta t) = x(2\\Delta t)$ like so"
   ]
  },
  {
   "cell_type": "markdown",
   "metadata": {},
   "source": [
    "\\begin{align*}\n",
    "v(2\\Delta t) &= v(\\Delta t) + a(\\Delta t) \\cdot \\Delta t, \\\\\n",
    "x(2\\Delta t) &= x(\\Delta t) + v(\\Delta t)  + \\frac{1}{2}a(\\Delta t) \\cdot \\Delta t^2.\n",
    "\\end{align*}"
   ]
  },
  {
   "cell_type": "markdown",
   "metadata": {},
   "source": [
    "And we can continue like this for $3\\Delta t$, $4\\Delta t$, $5\\Delta t$… and so on for as long as we want"
   ]
  },
  {
   "cell_type": "markdown",
   "metadata": {},
   "source": [
    "For each step we take, we move ahead exactly one time step, $\\Delta t$. So the only points in time we are interested in are $t = 0, \\Delta t, 2\\Delta t, 3\\Delta t, \\ldots$"
   ]
  },
  {
   "cell_type": "markdown",
   "metadata": {},
   "source": [
    "$$ t_i \\equiv i\\Delta t$$\n",
    "So that\n",
    "\\begin{align*}\n",
    " t_0 &= 0, \\\\\n",
    " t_1 &= \\Delta t, \\\\\n",
    " t_2 &= 2\\Delta t, \\\\\n",
    "& \\, \\  \\vdots\n",
    "\\end{align*}"
   ]
  },
  {
   "cell_type": "markdown",
   "metadata": {},
   "source": [
    "We can write $x$ and $v$ in the same way \n",
    "\n",
    "$$ v_i \\equiv v(t_i), \\qquad  x_i \\equiv x(t_i).$$\n",
    "\n",
    "This gives us\n",
    "\n",
    "\\begin{align*}\n",
    "v_0 &= v(t_0) = v(0) \\\\\n",
    "v_1 &= v(t_1) = v(\\Delta t) \\\\\n",
    "v_2 &= v(t_2) = v(2\\Delta t) \\\\\n",
    "&\\quad\\vdots\n",
    "\\end{align*}\n",
    "\\begin{align*}\n",
    " x_0 &= x(t_0) = x(0) \\\\\n",
    " x_1 &= x(t_1) = x(\\Delta t) \\\\\n",
    " x_2 &= x(t_2) = x(2\\Delta t) \\\\\n",
    "&\\quad\\vdots\n",
    "\\end{align*}"
   ]
  },
  {
   "cell_type": "markdown",
   "metadata": {},
   "source": [
    "Now we can rewrite the equations of motion like this\n",
    "\\begin{align*}\n",
    "v_{i+1} &  = v_i + a_i\\cdot \\Delta t, \\\\\n",
    "x_{i+1} &  = x_i + v_i\\cdot \\Delta t + \\frac{1}{2}a_i\\cdot \\Delta t^2, \n",
    "\\end{align*}\n",
    "were $a$ is given by $F(x_i, v_i, t_i)/m$"
   ]
  },
  {
   "cell_type": "markdown",
   "metadata": {},
   "source": [
    "##A more mathematical approach\n",
    "Alternatively, we can look at the definition of the derivative\n",
    "$$a(t) = \\frac{d v}{d t} = \\lim_{\\Delta t \\to 0} \\frac{v(t+\\Delta t) - v(t)}{\\Delta t}$$\n",
    "\n",
    "We can approximate the derivative by removing the limit and making $\\Delta t$ a very small constant\n"
   ]
  },
  {
   "cell_type": "markdown",
   "metadata": {},
   "source": [
    "$$ a(t) \\approx \\frac{v(t+\\Delta t) - v(t)}{\\Delta t}  $$"
   ]
  },
  {
   "cell_type": "markdown",
   "metadata": {},
   "source": [
    "As long as we choose a small enough $\\Delta t$, we get a good approximation.\n",
    "Now,  we can solve for  $v(t+\\Delta t)$ and get\n",
    "$$ v(t+\\Delta t) \\approx v(t) + a(t)\\cdot \\Delta t $$"
   ]
  },
  {
   "cell_type": "markdown",
   "metadata": {},
   "source": [
    "So if we know the velocity and acceleration at a time $t$, we can approximate the velocity at the the time $t+\\Delta t$ by\n",
    "$$v(t+\\Delta t) = v(t) + a(t)\\cdot \\Delta t$$"
   ]
  },
  {
   "cell_type": "markdown",
   "metadata": {},
   "source": [
    "##The algorithm\n",
    "for $i=0,1,2,3,\\ldots, N-1$:\n",
    "1. Use the previous results $x_i$ and $v_i$ to calculate the acceleration: $ a_i = F(x_i, v_i, t_i)/m$.\n",
    "2. Calculate the new speed: $ v_{i+1} = v_i + a_i\\Delta t$.\n",
    "3. Calculate the new position: $ x_{i+1} = x_i + v_i\\Delta t + \\frac{1}{2}a_i\\Delta t^2$.\n"
   ]
  },
  {
   "cell_type": "markdown",
   "metadata": {},
   "source": [
    "this can easily be implemented as code"
   ]
  },
  {
   "cell_type": "code",
   "execution_count": null,
   "metadata": {
    "collapsed": true
   },
   "outputs": [],
   "source": [
    "for i in range(N):\n",
    "    a[i] = F(x[i], v[i], t[i])/m\n",
    "    v[i+1] = v[i] + a[i]*dt\n",
    "    x[i+1] = x[i] + v[i]*dt + 0.5*a[i]*dt**2"
   ]
  },
  {
   "cell_type": "markdown",
   "metadata": {},
   "source": [
    "$$ t_i \\Rightarrow \\texttt{t[i]} \\qquad  v_i \\Rightarrow \\texttt{v[i]} \\qquad  r_i  \\Rightarrow \\texttt{r[i]}$$\n"
   ]
  },
  {
   "cell_type": "markdown",
   "metadata": {},
   "source": [
    "So if we know the velocity and acceleration at a time $t$, we can approximate the velocity at the the time $t+\\Delta t$ by\n",
    "$$v(t+\\Delta t) = v(t) + a(t)\\cdot \\Delta t$$"
   ]
  },
  {
   "cell_type": "code",
   "execution_count": null,
   "metadata": {
    "collapsed": true
   },
   "outputs": [],
   "source": []
  }
 ],
 "metadata": {
  "kernelspec": {
   "display_name": "Python 2",
   "language": "python",
   "name": "python2"
  },
  "language_info": {
   "codemirror_mode": {
    "name": "ipython",
    "version": 2
   },
   "file_extension": ".py",
   "mimetype": "text/x-python",
   "name": "python",
   "nbconvert_exporter": "python",
   "pygments_lexer": "ipython2",
   "version": "2.7.9"
  }
 },
 "nbformat": 4,
 "nbformat_minor": 0
}
