{
 "cells": [
  {
   "cell_type": "markdown",
   "metadata": {},
   "source": [
    "# Introduction to programming with Python"
   ]
  },
  {
   "cell_type": "markdown",
   "metadata": {},
   "source": [
    "##What is computer programming?"
   ]
  },
  {
   "cell_type": "markdown",
   "metadata": {},
   "source": [
    "Programming simply to create computer programs. We are surrounded by computer programs (or software) everywhere. For instance Microsoft Word, Mozilla Firefox and Photoshop. Other examples are all the apps you have installed on your smart phone. These examples are usually large complex programs, but most computer programs are much simpler and you will write your first program very soon if you continue reading.\n",
    "\n",
    "To understand how programming works from a bird eye view you can play a game called [Lightbot](http://lightbot.com/hocflash.html). The game is pretty self explanatory, just make sure you follow the instructions carefully! When programming it is extremely important to be precise.\n",
    "A computer program is written in a programming language. There are many different programming languages. Lightbot uses a symbolic language where you use icons to create a program. In the following we are going to write code using Python instead. However, the principles you learned by playing Lightbot are the same. Below is an illustration of the workflow we use when we are programming. Do you see how similar the different steps are to the steps you performed when you played Lightbot?\n",
    "\n",
    " ![Alt text](programmering_en.svg)\n"
   ]
  },
  {
   "cell_type": "markdown",
   "metadata": {},
   "source": [
    "##External links\n",
    "This tutorial is brief. If you are new to programming you will need a lot of practice. You can find a lot of tutorials online. A very thourough one is [Learning Python the hard way](http://learnpythonthehardway.org/book/).\n",
    "\n",
   ]
  },
  {
   "cell_type": "markdown",
   "metadata": {},
   "source": [
    "##Your first program\n",
    "Our first program only consist of one line:"
   ]
  },
  {
   "cell_type": "code",
   "execution_count": 6,
   "metadata": {
    "collapsed": false
   },
   "outputs": [
    {
     "name": "stdout",
     "output_type": "stream",
     "text": [
      "Hello world!\n"
     ]
    }
   ],
   "source": [
    "print \"Hello world!\""
   ]
  },
  {
   "cell_type": "markdown",
   "metadata": {},
   "source": [
    "When we run the code \"Hello world!\" is printed to the screen. This is because we used the key word $\\texttt{print}$, which tells the computer to write what follows to the screen. Notice that we use quotes at the beginning and end of \"Hello world\". This is done such that the computer can distinguish text from code. To make it easier for the programmer to distinguish between text and code they are shown in different colors. \n",
    "\n",
    "The text \"Hello world!\" is chosen arbitrarily. Try to change the text between the quotes and see what happens!"
   ]
  },
  {
   "cell_type": "markdown",
   "metadata": {},
   "source": [
    "##Math\n",
    "In Python and most other computer languages the basic mathematical operators are written as $+, -, *,$ and $/$. In Python exponentials are expressed by a double asterisk ($*$$*$) notation. Let's show some examples:\n"
   ]
  },
  {
   "cell_type": "code",
   "execution_count": 7,
   "metadata": {
    "collapsed": false
   },
   "outputs": [
    {
     "name": "stdout",
     "output_type": "stream",
     "text": [
      "5\n",
      "-1\n",
      "6\n",
      "0\n",
      "8\n"
     ]
    }
   ],
   "source": [
    "print 2 + 3\n",
    "print 2 - 3\n",
    "print 2*3\n",
    "print 2/3\n",
    "print 2**3"
   ]
  },
  {
   "cell_type": "markdown",
   "metadata": {},
   "source": [
    "When we run the code the results are just as expected apart from the division. The reason why 2 divided by 3 is zero will be described in the section below about types.\n",
    "Other useful operators are greater-than (>), less-than (<), greater-than-equal (>=), and less-than-equal (<=). "
   ]
  },
  {
   "cell_type": "code",
   "execution_count": 8,
   "metadata": {
    "collapsed": false
   },
   "outputs": [
    {
     "name": "stdout",
     "output_type": "stream",
     "text": [
      "True\n",
      "True\n",
      "False\n",
      "False\n"
     ]
    }
   ],
   "source": [
    "print 7 > 5\n",
    "print 7 >= 7\n",
    "print 7 < 5\n",
    "print 7 <= 5"
   ]
  },
  {
   "cell_type": "markdown",
   "metadata": {},
   "source": [
    "If we ask this as a question: Is 7 bigger than 5? You can answer either yes or no. In other words the assertion may be true or false, which is what you see on the screen when you run the program.\n",
    "Play around, try various combinations, and guess the result!\n",
    "\n",
    "Finally, we can improve the print command such that the output is easier to read:"
   ]
  },
  {
   "cell_type": "code",
   "execution_count": 9,
   "metadata": {
    "collapsed": false
   },
   "outputs": [
    {
     "name": "stdout",
     "output_type": "stream",
     "text": [
      "2 + 3 =  5\n",
      "2 < 3 =  True\n"
     ]
    }
   ],
   "source": [
    "print \"2 + 3 = \", 2+3\n",
    "print \"2 < 3 = \", 2<3"
   ]
  },
  {
   "cell_type": "markdown",
   "metadata": {},
   "source": [
    "As before we put quotes around the part that should be interpreted as text, after the text we add a comma and then we continue writing the math. The numbers and mathematical operators will be interpreted as code when we execute our program."
   ]
  },
  {
   "cell_type": "markdown",
   "metadata": {},
   "source": [
    "##Variables\n",
    "Variables are names we give in our program such that the computer remember the variable and we can use it later in our program. Here is an example "
   ]
  },
  {
   "cell_type": "code",
   "execution_count": 10,
   "metadata": {
    "collapsed": true
   },
   "outputs": [],
   "source": [
    "name = \"Jonas\"\n",
    "age = 23"
   ]
  },
  {
   "cell_type": "markdown",
   "metadata": {},
   "source": [
    "In the first line we create a variable called $\\texttt{name}$, which contains the name Jonas. Think of the variable as an empty box called $\\texttt{name}$. Then we put the name 'Jonas' into the box, which is stored in the computers memory. Similarly, the next line of code defines a variable called $\\texttt{age}$, which contains the number 23. \n",
    "\n",
    "Change the variables such that they contain your name and age, then run the program. What happened? Nothing, or at least your terminal is empty. Python has only created the variables. If you would like to see them you can add a $\\texttt{print}$ command at the end of the program."
   ]
  },
  {
   "cell_type": "code",
   "execution_count": 11,
   "metadata": {
    "collapsed": false
   },
   "outputs": [
    {
     "name": "stdout",
     "output_type": "stream",
     "text": [
      "Jonas\n",
      "23\n"
     ]
    }
   ],
   "source": [
    "print name\n",
    "print age"
   ]
  },
  {
   "cell_type": "markdown",
   "metadata": {},
   "source": [
    "What happens when you run the code below?"
   ]
  },
  {
   "cell_type": "code",
   "execution_count": 12,
   "metadata": {
    "collapsed": false
   },
   "outputs": [
    {
     "name": "stdout",
     "output_type": "stream",
     "text": [
      "name\n",
      "age\n"
     ]
    }
   ],
   "source": [
    "print 'name'\n",
    "print 'age'"
   ]
  },
  {
   "cell_type": "markdown",
   "metadata": {},
   "source": [
    "Why is not the result printed to the screen 'Jonas' and '23'? This is because Python interpret the code as text strings and not as variables when you use quotes.\n",
    "\n",
    "Note that if you try to create two variables with the same name, the first variable will be overwritten by the second. So what will happen when you run the code below?"
   ]
  },
  {
   "cell_type": "code",
   "execution_count": 13,
   "metadata": {
    "collapsed": false
   },
   "outputs": [
    {
     "name": "stdout",
     "output_type": "stream",
     "text": [
      "Lise\n"
     ]
    }
   ],
   "source": [
    "name = 'Marius'\n",
    "name = 'Lise'\n",
    "\n",
    "print name"
   ]
  },
  {
   "cell_type": "markdown",
   "metadata": {},
   "source": [
    "##Types\n",
    "By now you learned that variables have a name and a content, but they also have another property namely a $\\texttt{type}$.  When Python creates a variable it identifies the type of the content. In the last example we created the variable name, which contains a text string and age which contains a number. Python remember this information; $\\texttt{name}$ is a text string and $\\texttt{age}$ is a number.\n",
    "\n",
    "To check which type a variable has we can use the command $\\texttt{type}$. Here is an example: "
   ]
  },
  {
   "cell_type": "code",
   "execution_count": 14,
   "metadata": {
    "collapsed": false
   },
   "outputs": [
    {
     "name": "stdout",
     "output_type": "stream",
     "text": [
      "<type 'str'>\n",
      "<type 'int'>\n",
      "<type 'str'>\n",
      "<type 'float'>\n"
     ]
    }
   ],
   "source": [
    "location = 'Oslo'\n",
    "year = 2015\n",
    "day = 'April 29'\n",
    "temperature = 8.7\n",
    "\n",
    "print type(location)\n",
    "print type(year)\n",
    "print type(day)\n",
    "print type(temperature)"
   ]
  },
  {
   "cell_type": "markdown",
   "metadata": {},
   "source": [
    "In this program we first create four variables, then the type of each variable is printed. The results show that location and day has the type 'str', which is an abbreviation for string. The variable year has the type 'int', which means that it is an integer. Finally, temperature has the type 'float'. Thus python distinguishes between floats and integer. In the section about mathematical operators we got zero when we divided 2 by 3. This is because both 2 and 3 have the type 'int' and therefore also the result will have the type 'int'. If we use float numbers instead we get the expected answer. Here is an example to show the difference:"
   ]
  },
  {
   "cell_type": "code",
   "execution_count": 15,
   "metadata": {
    "collapsed": false
   },
   "outputs": [
    {
     "name": "stdout",
     "output_type": "stream",
     "text": [
      "0.666666666667\n",
      "0\n",
      "<type 'float'>\n",
      "<type 'int'>\n",
      "<type 'float'>\n"
     ]
    }
   ],
   "source": [
    "a = 2.0\n",
    "b = 3.0\n",
    "\n",
    "c = 2\n",
    "d = 3\n",
    "\n",
    "print a/b\n",
    "print c/d\n",
    "print type(a/b)\n",
    "print type(c/d)\n",
    "print type(b/c)"
   ]
  },
  {
   "cell_type": "markdown",
   "metadata": {},
   "source": [
    "In the last line we divide a float by an integer. Note that the result has the type $\\mathit{float}$."
   ]
  },
  {
   "cell_type": "markdown",
   "metadata": {},
   "source": [
    "##Lists"
   ]
  },
  {
   "cell_type": "markdown",
   "metadata": {},
   "source": [
    "Until now you have learned that variables has a name, a content, and a type. Now it is time to introduce a different type of variables: lists. If we want our program to remember the names of all the students in a class, we can create one variable for each student or we can create one variable containing all the students. The latter is called a list and here is an example:"
   ]
  },
  {
   "cell_type": "code",
   "execution_count": 16,
   "metadata": {
    "collapsed": true
   },
   "outputs": [],
   "source": [
    "students = ['Jake', 'John', 'Mary', 'Lucy', 'Alexander']"
   ]
  },
  {
   "cell_type": "markdown",
   "metadata": {},
   "source": [
    "Here we have used square brackets to define a list, and within the brackets we have written 5 names separated by a comma. Further, every name is defined as a string. When you have defined a list you can print it and check the type:"
   ]
  },
  {
   "cell_type": "code",
   "execution_count": 17,
   "metadata": {
    "collapsed": false
   },
   "outputs": [
    {
     "name": "stdout",
     "output_type": "stream",
     "text": [
      "['Jake', 'John', 'Mary', 'Lucy', 'Alexander']\n",
      "<type 'list'>\n"
     ]
    }
   ],
   "source": [
    "print students\n",
    "print type(students)"
   ]
  },
  {
   "cell_type": "markdown",
   "metadata": {},
   "source": [
    "You can also check how many elements there is in your list by typing"
   ]
  },
  {
   "cell_type": "code",
   "execution_count": 18,
   "metadata": {
    "collapsed": false
   },
   "outputs": [
    {
     "name": "stdout",
     "output_type": "stream",
     "text": [
      "5\n"
     ]
    }
   ],
   "source": [
    "print len(students)"
   ]
  },
  {
   "cell_type": "markdown",
   "metadata": {},
   "source": [
    "The list $\\texttt{students}$ contained text, but in general the elements in a list can be of any type. Here is a list with numbers: "
   ]
  },
  {
   "cell_type": "code",
   "execution_count": 19,
   "metadata": {
    "collapsed": true
   },
   "outputs": [],
   "source": [
    "some_numbers = [2, 5.0, 6, 8, 200, 436]"
   ]
  },
  {
   "cell_type": "markdown",
   "metadata": {},
   "source": [
    "And here we have a mixture of string and numbers"
   ]
  },
  {
   "cell_type": "code",
   "execution_count": 20,
   "metadata": {
    "collapsed": true
   },
   "outputs": [],
   "source": [
    "mixed_list = [\"some text\", 2, 2.3, 9, \"more text\"]"
   ]
  },
  {
   "cell_type": "markdown",
   "metadata": {},
   "source": [
    "You can even put a list inside another list"
   ]
  },
  {
   "cell_type": "code",
   "execution_count": 21,
   "metadata": {
    "collapsed": true
   },
   "outputs": [],
   "source": [
    "lists_in_lists = [[0,1,2], [\"Mary\", \"Lucy\", \"Jake\"]]"
   ]
  },
  {
   "cell_type": "markdown",
   "metadata": {},
   "source": [
    "After we have defined a list such as students"
   ]
  },
  {
   "cell_type": "code",
   "execution_count": 22,
   "metadata": {
    "collapsed": true
   },
   "outputs": [],
   "source": [
    "students = ['Jake', 'John', 'Mary', 'Lucy', 'Alexander']"
   ]
  },
  {
   "cell_type": "markdown",
   "metadata": {},
   "source": [
    "We can access the elements in the list through the index of every element:"
   ]
  },
  {
   "cell_type": "code",
   "execution_count": 23,
   "metadata": {
    "collapsed": false
   },
   "outputs": [
    {
     "name": "stdout",
     "output_type": "stream",
     "text": [
      "Jake\n",
      "Lucy\n"
     ]
    }
   ],
   "source": [
    "print students[0]\n",
    "print students[3]"
   ]
  },
  {
   "cell_type": "markdown",
   "metadata": {},
   "source": [
    "Here $\\texttt{students[0]}$ means the first element in the list, which is 'Jake', while $\\texttt{students[3]}$ is the 4th element in the list, which is 'Lucy'. Note that Python starts counting at zero! This might seem strange, but it is just a definition we have to get used to.\n",
    "\n",
    "If we want to we can also change the elements within the list. If it turns out that we made a mistake and 'Alexander' should be 'Alex', we can overwrite the 5th element in the list as follows "
   ]
  },
  {
   "cell_type": "code",
   "execution_count": 24,
   "metadata": {
    "collapsed": false
   },
   "outputs": [
    {
     "name": "stdout",
     "output_type": "stream",
     "text": [
      "['Jake', 'John', 'Mary', 'Lucy', 'Alex']\n"
     ]
    }
   ],
   "source": [
    "students[4] = 'Alex'\n",
    "print students"
   ]
  },
  {
   "cell_type": "markdown",
   "metadata": {},
   "source": [
    "When we print the list we see that the last element is changed, just as we wanted. \n",
    "\n",
    "It is also possible to add elements to the list. For instance if we forgot one of the students in the class you can add her by typing"
   ]
  },
  {
   "cell_type": "code",
   "execution_count": 25,
   "metadata": {
    "collapsed": false
   },
   "outputs": [
    {
     "name": "stdout",
     "output_type": "stream",
     "text": [
      "['Jake', 'John', 'Mary', 'Lucy', 'Alex', 'Karen']\n"
     ]
    }
   ],
   "source": [
    "students.append('Karen')\n",
    "print students"
   ]
  },
  {
   "cell_type": "markdown",
   "metadata": {},
   "source": [
    "When we add items to a list they always appear at the end. \n",
    "\n",
    "In some cases it makes sense to create and empty list and then add elements afterwards. Here is a list which is initially empty and then filled with numbers"
   ]
  },
  {
   "cell_type": "code",
   "execution_count": 26,
   "metadata": {
    "collapsed": false
   },
   "outputs": [
    {
     "name": "stdout",
     "output_type": "stream",
     "text": [
      "[1, 2, 3]\n"
     ]
    }
   ],
   "source": [
    "growing_list = []\n",
    "growing_list.append(1)\n",
    "growing_list.append(2)\n",
    "growing_list.append(3)\n",
    "print growing_list"
   ]
  },
  {
   "cell_type": "markdown",
   "metadata": {},
   "source": [
    "##Loops\n",
    "A loop is a piece of code which repeats itself. If we want our program to perform the same task many times in a row we need a loop. There are to types of loops, namely for-loops and while-loops. Here we are only considering $\\texttt{for}$-loops. \n",
    "\n",
    "A for-loop repeats a piece of code for every element in a list. Again we use the list with students. Now we want to print the names and how many characters each name has: "
   ]
  },
  {
   "cell_type": "code",
   "execution_count": 27,
   "metadata": {
    "collapsed": false
   },
   "outputs": [
    {
     "name": "stdout",
     "output_type": "stream",
     "text": [
      "The name Mary has 4 characters\n",
      "The name James has 5 characters\n",
      "The name Siri has 4 characters\n",
      "The name Alexander has 9 characters\n",
      "The name Elizabeth has 9 characters\n"
     ]
    }
   ],
   "source": [
    "students = [\"Mary\", \"James\", \"Siri\" , \"Alexander\", \"Elizabeth\"]\n",
    "\n",
    "for name in students:\n",
    "    print \"The name\", name, \"has\", len(name), \"characters\" "
   ]
  },
  {
   "cell_type": "markdown",
   "metadata": {},
   "source": [
    "The code is executed for every name in the list, i.e., since the list has 5 elements the code is executed 5 times. \n",
    "\n",
    "The first line $\\texttt{for name in students:}$ creates a loop over all elements in the list $\\texttt{students}$. In each pass of the loop, the variable $\\texttt{name}$ refers to an element in the list, starting with $\\texttt{students[0]}$, proceeding with $\\texttt{students[1]}$, $\\texttt{students[2]}$, and so on until we reach the last element in the list.\n",
    "\n",
    "The $\\texttt{for}$ loop specification ends with a colon, and after the colon comes a block of statements that does something useful with current element. Note that the block must be intended, this is an important feature in Python. This might be difficult to remember, but you will get used to it.\n",
    "\n",
    "Here is another example where we are adding the numbers from 1 to 10:"
   ]
  },
  {
   "cell_type": "code",
   "execution_count": 28,
   "metadata": {
    "collapsed": false
   },
   "outputs": [
    {
     "name": "stdout",
     "output_type": "stream",
     "text": [
      "55\n"
     ]
    }
   ],
   "source": [
    "s = 0\n",
    "for i in [1,2,3,4,5,6,7,8,9,10]:\n",
    "    s += i\n",
    "\n",
    "print s"
   ]
  },
  {
   "cell_type": "markdown",
   "metadata": {},
   "source": [
    "If we want to loop over the numbers 1 to 1000 instead it will take long to write down the list of numbers. Fortunately, there is a function called $\\texttt{range}$ in Python which can do this job for you. Range takes two arguments ($\\texttt{range(start, stop)}$) and returns a list of numbers (integers) from start to stop. Here are two examples:"
   ]
  },
  {
   "cell_type": "code",
   "execution_count": 29,
   "metadata": {
    "collapsed": false
   },
   "outputs": [
    {
     "name": "stdout",
     "output_type": "stream",
     "text": [
      "[1, 2, 3, 4, 5, 6, 7, 8, 9]\n",
      "[2, 3, 4, 5, 6, 7]\n"
     ]
    }
   ],
   "source": [
    "print range(1, 10)\n",
    "print range(2,8)"
   ]
  },
  {
   "cell_type": "markdown",
   "metadata": {},
   "source": [
    "Note that the last number is not included! We may also add a third argument, this argument tells us how large the step between the numbers should be. Here are a few examples:"
   ]
  },
  {
   "cell_type": "code",
   "execution_count": 30,
   "metadata": {
    "collapsed": false
   },
   "outputs": [
    {
     "name": "stdout",
     "output_type": "stream",
     "text": [
      "[1, 2, 3, 4, 5, 6, 7, 8, 9]\n",
      "[1, 3, 5, 7, 9]\n",
      "[1, 4, 7]\n"
     ]
    }
   ],
   "source": [
    "print range(1, 10, 1)\n",
    "print range(1, 10, 2)\n",
    "print range(1, 10, 3)"
   ]
  },
  {
   "cell_type": "markdown",
   "metadata": {},
   "source": [
    "$\\texttt{range}$ is very useful in our $\\texttt{for}$ loop"
   ]
  },
  {
   "cell_type": "code",
   "execution_count": 31,
   "metadata": {
    "collapsed": false
   },
   "outputs": [
    {
     "name": "stdout",
     "output_type": "stream",
     "text": [
      "499500\n"
     ]
    }
   ],
   "source": [
    "s = 0\n",
    "for i in range(1, 1000,1):\n",
    "    s += i\n",
    "print s"
   ]
  },
  {
   "cell_type": "code",
   "execution_count": null,
   "metadata": {
    "collapsed": true
   },
   "outputs": [],
   "source": []
  }
 ],
 "metadata": {
  "kernelspec": {
   "display_name": "Python 2",
   "language": "python",
   "name": "python2"
  },
  "language_info": {
   "codemirror_mode": {
    "name": "ipython",
    "version": 2
   },
   "file_extension": ".py",
   "mimetype": "text/x-python",
   "name": "python",
   "nbconvert_exporter": "python",
   "pygments_lexer": "ipython2",
   "version": "2.7.9"
  }
 },
 "nbformat": 4,
 "nbformat_minor": 0
}
