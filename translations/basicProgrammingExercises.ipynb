{
 "cells": [
  {
   "cell_type": "markdown",
   "metadata": {},
   "source": [
    "## Exercise 1\n",
    "\n",
    "1. Create a script that prints out the text “Hello, World!” to the screen.\n",
    "\n",
    "2. Create a script that prints out the value of $4\\cdot5 + 2$ to the screen. Do you get a different result if you write $2 + 4\\cdot5$?\n",
    "\n",
    "3. Create a script that calculates $2^{10}$ and prints the result to the screen.\n",
    "\n",
    "4. Create a script that calculates $\\sqrt 3$ and prints the result to the screen. You will need to import the $\\verb+sqrt+$-command (squareroot) from pylab\n",
    "\n",
    "\n",
    "##Exercise 2\n",
    "\n",
    "To convert a temperature from degrees Celsius $C$, to degrees Fahrenheit $F$, we use the following formula\n",
    "\n",
    "$$F = \\frac{9}{5}C + 32.$$\n",
    "\n",
    "1. Create a script that calculates the degrees Fahrenheit from a temperature given in degrees Celsius. \n",
    "\n",
    "2. Use the script to find the degrees in Fahrenheit for the following temperatures: $20^\\circ$, $0^\\circ$, $-40^\\circ$.\n",
    "\n",
    "##Exercise 3\n",
    "\n",
    "1. Create a script where you save the first and last name of someone. Then print out a message for that person\n",
    "\n",
    "2. Print the number of characters in the persons first and last name. To do this, you will need the command $\\verb+len(name)+$, which returns the length of a string, i.e. the number of characters. For example $\\verb+len(“Jonas”)+$ returns 5."
   ]
  },
  {
   "cell_type": "markdown",
   "metadata": {},
   "source": [
    "##Exercise 4\n",
    "\n",
    "1. Write a script where you save the first name of someone. Then you print out a greeting if the name equals your name.\n",
    "2. Define a function that takes a number, x, as input and returns 2*x if the input is positive. If the number is negative it should just return 0."
   ]
  },
  {
   "cell_type": "markdown",
   "metadata": {},
   "source": [
    "##Exercise 5\n",
    "\n",
    "1. Define a function $\\verb+celcius_to_fahrenheit+$ which takes degrees C as input and returns the corresponding degrees Fahrenheit. Remember that the formula for converting from Celsius to Fahrenheit is $F = \\frac{9}{5}C + 32.$\n",
    "\n",
    "2. Use the function to find the degrees in Fahrenheit for the following temperatures: $20^\\circ$, $0^\\circ$, $-40^\\circ$.\n",
    "\n",
    "3. Write a loop where you iterate through the degrees in C from – 100 up to 100, and use your function to print out the corresponding degrees Fahrenheit.\n",
    "**Hint 1:** Use the $\\verb+range+$ function. \n",
    "**Hint 2:** You have to call your function inside the loop.\n",
    "\n",
    "##Exercise 6\n",
    "\n",
    "Now we will use the $\\verb+range+$ together with loops to calculate some mathematical sums.\n",
    "\n",
    "1. Calculate the sum of all odd numbers below zero\n",
    "\n",
    "2. Calculate the sum of all square numbers up to and including 10000.\n",
    "**Hint:** We want the sum\n",
    "\n",
    "$$1 + 4 + 9 + 16 + \\ldots + 10000 = \\sum_{i=1}^{100} i^2.$$\n",
    "\n",
    "3. Calculate the sum of the infinite series\n",
    "\n",
    "$$1 + \\frac{1}{2} + \\frac{1}{4} + \\frac{1}{8} + \\ldots$$\n",
    "\n",
    "**Hint:** Every term in the sum is smaller than the last, and so eventually the terms are really small. So it is sufficient to consider the first 1000 terms, because the terms after this will contribute very little to the final result.\n",
    "\n",
    "\n",
    "##Exercise 7\n",
    "\n",
    "1. Plot $e^x$ for $x\\in[0,2]$\n",
    "2. Create a plot to show the following three functions:\n",
    "$$e^x, \\qquad e^{-x}, \\qquad 1/e^{x}.$$\n",
    "You will need the $\\verb+axis+$command to select reasonable axis for you figure.\n",
    "3. Make your plot look nicer with the functions $\\verb+axis+$, $\\verb+xlabel+$, $\\verb+legend+$, $\\verb+title+$ and $\\verb+grid+.$\n",
    "4. Save your plot as a .pdf file and as a .png file. Make sure that the files are saved correctly,and that they look the way you expect. "
   ]
  },
  {
   "cell_type": "code",
   "execution_count": null,
   "metadata": {
    "collapsed": true
   },
   "outputs": [],
   "source": []
  },
  {
   "cell_type": "code",
   "execution_count": null,
   "metadata": {
    "collapsed": true
   },
   "outputs": [],
   "source": []
  }
 ],
 "metadata": {
  "kernelspec": {
   "display_name": "Python 2",
   "language": "python",
   "name": "python2"
  },
  "language_info": {
   "codemirror_mode": {
    "name": "ipython",
    "version": 2
   },
   "file_extension": ".py",
   "mimetype": "text/x-python",
   "name": "python",
   "nbconvert_exporter": "python",
   "pygments_lexer": "ipython2",
   "version": "2.7.9"
  }
 },
 "nbformat": 4,
 "nbformat_minor": 0
}
