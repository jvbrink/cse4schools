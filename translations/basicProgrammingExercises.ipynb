{
 "cells": [
  {
   "cell_type": "markdown",
   "metadata": {},
   "source": [
    "## Exercise 1\n",
    "\n",
    "1. Create a script that prints out the text “Hello, World!” to the screen.\n",
    "\n",
    "2. Create a script that prints out the value of $4\\cdot5 + 2$ to the screen. Do you get a different result if you write $2 + 4\\cdot5$?\n",
    "\n",
    "3. Create a script that calculates $2^{10}$ and prints the result to the screen.\n",
    "\n",
    "4. Create a script that calculates $\\sqrt 3$ and prints the result to the screen. You will need to import the $\\verb+sqrt+$-command (squareroot) from pylab\n",
    "\n",
    "\n",
    "\n",
    "##Exercise 2\n",
    "\n",
    "To convert a temperature from degrees Celsius $C$, to degrees Fahrenheit $F$, we use the following formula\n",
    "\n",
    "$$F = \\frac{9}{5}C + 32.$$\n",
    "\n",
    "1. Create a script that calculates the degrees Fahrenheit from a temperature given in degrees Celsius. \n",
    "\n",
    "2. Use the script to find the degrees in Fahrenheit for the following temperatures: $20^\\circ$, $0^\\circ$, $-40^\\circ$.\n",
    "\n",
    "##Exercise 3\n",
    "\n",
    "1. Create a script where you save the first and last name of someone. Then print out a message for that person\n",
    "\n",
    "2. Print the number of characters in the persons first and last name. To do this, you will need the command $\\verb+len(name)+$, which returns the length of a string, i.e. the number of characters. For example $\\verb+len(\"Jonas\")+$ returns 5.\n",
    "3. Create a program that asks the user for their name, and then prints a message that includes the name they gave. \n",
    "\n",
    "\n",
    "##Exercise 4 \n",
    "\n",
    "1. Ask the user for 5 adjectives and store them in 5 different variables. **Hint:** an adjective is a describing word. \n",
    "2. Test your program by printing all five words. \n",
    "3. Write a “fill in the blank” adjective story, and print it so that the 5 adjectives the user gave is included in the story.\n",
    "4. test your program.\n",
    "5. if everything is working correctly, you can now hide your editor and run the program. Then get a friend to supply the adjectives!\n"
   ]
  },
  {
   "cell_type": "markdown",
   "metadata": {},
   "source": [
    "##Exercise 5\n",
    "\n",
    "Find the mistakes in the following programs (there is one mistake per program). Try to fix the programs so they work correctly\n",
    "\n",
    "1."
   ]
  },
  {
   "cell_type": "code",
   "execution_count": 1,
   "metadata": {
    "collapsed": false
   },
   "outputs": [
    {
     "ename": "NameError",
     "evalue": "name 'Per' is not defined",
     "output_type": "error",
     "traceback": [
      "\u001b[1;31m---------------------------------------------------------------------------\u001b[0m",
      "\u001b[1;31mNameError\u001b[0m                                 Traceback (most recent call last)",
      "\u001b[1;32m<ipython-input-1-523dbd3675c8>\u001b[0m in \u001b[0;36m<module>\u001b[1;34m()\u001b[0m\n\u001b[1;32m----> 1\u001b[1;33m \u001b[0mname\u001b[0m \u001b[1;33m=\u001b[0m \u001b[0mPer\u001b[0m\u001b[1;33m\u001b[0m\u001b[0m\n\u001b[0m\u001b[0;32m      2\u001b[0m \u001b[1;32mprint\u001b[0m \u001b[1;34m\"Hi there %s!\"\u001b[0m \u001b[1;33m%\u001b[0m \u001b[0mname\u001b[0m\u001b[1;33m\u001b[0m\u001b[0m\n",
      "\u001b[1;31mNameError\u001b[0m: name 'Per' is not defined"
     ]
    }
   ],
   "source": [
    "name = Per \n",
    "print \"Hi there %s!\" % name"
   ]
  },
  {
   "cell_type": "markdown",
   "metadata": {},
   "source": [
    "2."
   ]
  },
  {
   "cell_type": "code",
   "execution_count": 2,
   "metadata": {
    "collapsed": false
   },
   "outputs": [
    {
     "ename": "NameError",
     "evalue": "name 'X' is not defined",
     "output_type": "error",
     "traceback": [
      "\u001b[1;31m---------------------------------------------------------------------------\u001b[0m",
      "\u001b[1;31mNameError\u001b[0m                                 Traceback (most recent call last)",
      "\u001b[1;32m<ipython-input-2-e29de7b657e0>\u001b[0m in \u001b[0;36m<module>\u001b[1;34m()\u001b[0m\n\u001b[0;32m      1\u001b[0m \u001b[0mx\u001b[0m \u001b[1;33m=\u001b[0m \u001b[1;36m24\u001b[0m\u001b[1;33m\u001b[0m\u001b[0m\n\u001b[0;32m      2\u001b[0m \u001b[0my\u001b[0m \u001b[1;33m=\u001b[0m \u001b[1;36m36\u001b[0m\u001b[1;33m\u001b[0m\u001b[0m\n\u001b[1;32m----> 3\u001b[1;33m \u001b[1;32mprint\u001b[0m \u001b[0mX\u001b[0m \u001b[1;33m+\u001b[0m \u001b[0my\u001b[0m\u001b[1;33m\u001b[0m\u001b[0m\n\u001b[0m",
      "\u001b[1;31mNameError\u001b[0m: name 'X' is not defined"
     ]
    }
   ],
   "source": [
    "x = 24\n",
    "y = 36\n",
    "print X + y"
   ]
  },
  {
   "cell_type": "markdown",
   "metadata": {},
   "source": [
    "3."
   ]
  },
  {
   "cell_type": "code",
   "execution_count": 3,
   "metadata": {
    "collapsed": false
   },
   "outputs": [
    {
     "ename": "SyntaxError",
     "evalue": "invalid syntax (<ipython-input-3-eed0d26049d9>, line 1)",
     "output_type": "error",
     "traceback": [
      "\u001b[1;36m  File \u001b[1;32m\"<ipython-input-3-eed0d26049d9>\"\u001b[1;36m, line \u001b[1;32m1\u001b[0m\n\u001b[1;33m    def greet(name)\u001b[0m\n\u001b[1;37m                   ^\u001b[0m\n\u001b[1;31mSyntaxError\u001b[0m\u001b[1;31m:\u001b[0m invalid syntax\n"
     ]
    }
   ],
   "source": [
    "def greet(name)\n",
    "\tprint \"Hi there %s\" % name"
   ]
  },
  {
   "cell_type": "markdown",
   "metadata": {},
   "source": [
    "4."
   ]
  },
  {
   "cell_type": "code",
   "execution_count": 4,
   "metadata": {
    "collapsed": false
   },
   "outputs": [
    {
     "ename": "TypeError",
     "evalue": "'str' object is not callable",
     "output_type": "error",
     "traceback": [
      "\u001b[1;31m---------------------------------------------------------------------------\u001b[0m",
      "\u001b[1;31mTypeError\u001b[0m                                 Traceback (most recent call last)",
      "\u001b[1;32m<ipython-input-4-19a9da1b564d>\u001b[0m in \u001b[0;36m<module>\u001b[1;34m()\u001b[0m\n\u001b[0;32m      1\u001b[0m \u001b[0mlocation\u001b[0m \u001b[1;33m=\u001b[0m \u001b[1;34m\"Oslo\"\u001b[0m\u001b[1;33m\u001b[0m\u001b[0m\n\u001b[0;32m      2\u001b[0m \u001b[0mtemperature\u001b[0m \u001b[1;33m=\u001b[0m \u001b[1;33m-\u001b[0m\u001b[1;36m18\u001b[0m\u001b[1;33m\u001b[0m\u001b[0m\n\u001b[1;32m----> 3\u001b[1;33m \u001b[1;32mprint\u001b[0m \u001b[1;34m\"The temperature in %s is now %i\"\u001b[0m \u001b[1;33m(\u001b[0m\u001b[0mlocation\u001b[0m\u001b[1;33m,\u001b[0m \u001b[0mtemperature\u001b[0m\u001b[1;33m)\u001b[0m\u001b[1;33m\u001b[0m\u001b[0m\n\u001b[0m",
      "\u001b[1;31mTypeError\u001b[0m: 'str' object is not callable"
     ]
    }
   ],
   "source": [
    "location = \"Oslo\"\n",
    "temperature = -18\n",
    "print \"The temperature in %s is now %i\" (location, temperature)"
   ]
  },
  {
   "cell_type": "markdown",
   "metadata": {},
   "source": [
    "5."
   ]
  },
  {
   "cell_type": "code",
   "execution_count": 6,
   "metadata": {
    "collapsed": false
   },
   "outputs": [
    {
     "name": "stdout",
     "output_type": "stream",
     "text": [
      "None\n"
     ]
    }
   ],
   "source": [
    "def double(x):\n",
    "\tresult = 2*x\n",
    "\n",
    "print double(2)"
   ]
  },
  {
   "cell_type": "markdown",
   "metadata": {},
   "source": [
    "6."
   ]
  },
  {
   "cell_type": "code",
   "execution_count": 8,
   "metadata": {
    "collapsed": false
   },
   "outputs": [
    {
     "ename": "IndentationError",
     "evalue": "expected an indented block (<ipython-input-8-b79ce41c3cec>, line 2)",
     "output_type": "error",
     "traceback": [
      "\u001b[1;36m  File \u001b[1;32m\"<ipython-input-8-b79ce41c3cec>\"\u001b[1;36m, line \u001b[1;32m2\u001b[0m\n\u001b[1;33m    print \"Hi there %s\" % name\u001b[0m\n\u001b[1;37m        ^\u001b[0m\n\u001b[1;31mIndentationError\u001b[0m\u001b[1;31m:\u001b[0m expected an indented block\n"
     ]
    }
   ],
   "source": [
    "def greet(name):\n",
    "print \"Hi there %s\" % name\n",
    "greet(\"Mary\")"
   ]
  },
  {
   "cell_type": "markdown",
   "metadata": {},
   "source": [
    "##Exercise 6\n",
    "\n",
    "1. Define a function $\\verb+celcius_to_fahrenheit+$ which takes degrees C as input and returns the corresponding degrees Fahrenheit. Remember that the formula for converting from Celsius to Fahrenheit is $F = \\frac{9}{5}C + 32.$\n",
    "\n",
    "2. Use the function to find the degrees in Fahrenheit for the following temperatures: $20^\\circ$, $0^\\circ$, $-40^\\circ$.\n",
    "\n",
    "3. Write a loop where you iterate through the degrees in C from – 100 up to 100, and use your function to print out the corresponding degrees Fahrenheit.\n",
    "**Hint 1:** Use the $\\verb+range+$ function. \n",
    "**Hint 2:** You have to call your function inside the loop.\n",
    "\n",
    "\n",
    "##Exercise 7\n",
    "\n",
    "1. Write a script where you save the first name of someone. Then you print out a greeting if the name equals your name.\n",
    "2. Define a function that takes a number, x, as input and returns 2*x if the input is positive. If the number is negative it should just return 0.\n",
    "\n",
    "##Exercise 8\n",
    "\n",
    "Now we will use the $\\verb+range+$ together with loops to calculate some mathematical sums.\n",
    "\n",
    "1. Calculate the sum of all odd numbers below zero\n",
    "\n",
    "2. Calculate the sum of all square numbers up to and including 10000.\n",
    "**Hint:** We want the sum\n",
    "\n",
    "$$1 + 4 + 9 + 16 + \\ldots + 10000 = \\sum_{i=1}^{100} i^2.$$\n",
    "\n",
    "3. Calculate the sum of the infinite series\n",
    "\n",
    "$$1 + \\frac{1}{2} + \\frac{1}{4} + \\frac{1}{8} + \\ldots$$\n",
    "\n",
    "**Hint:** Every term in the sum is smaller than the last, and so eventually the terms are really small. So it is sufficient to consider the first 1000 terms, because the terms after this will contribute very little to the final result.\n",
    "\n",
    "##Exercise 9\n",
    "\n",
    "Use the function randint to simulate rolling the following dice:\n",
    "1. One six sided die\n",
    "2. One 20 sided die\n",
    "3. Three six sided dice\n",
    "4. Three coins\n",
    "\n",
    "##Exercise 10\n",
    "1. Write a $\\verb+while+$ loop that keeps flipping a coin until it you get tails a total of 5 times.\n",
    "2. Write a $\\verb+while+$ loop that flips a coin 10 times and prints the number of tails you got.\n",
    "3. Write a $\\verb+for+$ loop that flips a coin 10 times and prints the number of tails you got.\n",
    "\n",
    "##Exercise 11\n",
    "1. Write a program that draws a random number between 1 and 100\n",
    "2. Expand your program so that it asks the user to guess the number. Print a message to tell the user if their guess were right or wrong. \n",
    "3. Change the program so that the user knows if they guessed to high or to low if they missed.\n",
    "4. Expand your program again with a while loop that keeps asking the user to guess until they guess correctly. For each guess tell the user if they guessed to high or to low.\n",
    "\n",
    "##Exercise 12\n",
    "\n",
    "We will now create a simple version of the card game war. You should to this step by step and test you code between each step\n",
    "1. Implement a deck of card as a list.\n",
    "2. Change your program to include two decks, one for you and one for your opponent. Shuffle both decks with shuffle() from the random library.\n",
    "3. Define a function named battle. Have the function use pop to remove the top cards from both decks and then print them to the screen.\n",
    "4. Expand your function so that it checks which card 'beats' the other by comparing their symbol. You have to be creative with your if tests to find the 'highest' card.\n",
    "5. Have you function put both cars back in the winners deck and shuffle both decks\n",
    "6. If both your cards are equally good, war begins. Define a function, war, that pops 3 cards from both decks, and then compares the third card from both decks. Give all cards to the winner. \n",
    "7. Create a while loop that continues the game until you or your opponent is out of cards. For every iteration you should use raw_input() so that the user can press enter to play again. \n",
    "8. Make you program nicer. You can for example print a longer message at the beginning of the game.  And you can create a nice message after every battle to explain which cards where shown and what the result of the battle was. Clean up your code to make it pretty and organized.\n",
    "\n",
    "\n",
    "##Exercise 13\n",
    "\n",
    "1. Plot $e^x$ for $x\\in[0,2]$\n",
    "2. Create a plot to show the following three functions:\n",
    "$$e^x, \\qquad e^{-x}, \\qquad 1/e^{x}.$$\n",
    "You will need the $\\verb+axis+$command to select reasonable axis for you figure.\n",
    "3. Make your plot look nicer with the functions $\\verb+axis+$, $\\verb+xlabel+$, $\\verb+legend+$, $\\verb+title+$ and $\\verb+grid+.$\n",
    "4. Save your plot as a .pdf file and as a .png file. Make sure that the files are saved correctly,and that they look the way you expect. \n",
    "\n",
    "##Exercise 14 (Challenging!)\n",
    "\n",
    "A prime number is a number that is only divisible by itself and 1. The first 10 prime numbers are\n",
    "$$2,3,5,7,11,13,17,19,23,29.$$\n",
    "\n",
    "1. Define a function that takes a number $n$ as input and then checks if it is a prime number. The function should return $\\verb+True+$ if $n$ is a prime number, and $\\verb+False+$ if it is not. \n",
    "2. Use your function to write all prime numbers below 1000. To make sure your program is correct, you can check if it found 168 prime numbers. \n",
    "\n",
    "##Exercise 15 (Challenging!)\n",
    "\n",
    "The Fibonacci numbers begins like this\n",
    "$$1,1,2,3,5,8,13,21,34,55,89,144,...$$\n",
    "\n",
    "Observe that we find the next number in the sequence by adding the previous two numbers. So the next number is 89 + 144 = 233. More mathematically, we can say that the $n$th Fibonacci number is given by\n",
    "\n",
    "$$ F_n = F_{n-1} + F_{n-2}$$\n",
    "\n",
    "With $F_1 = 1$ and $F_2 = 1$\n",
    "\n",
    "1. define a function that takes n as an argument and returns the $n$th Fibonacci number. \n",
    "2. Use your function to print the first 50 Fibonacci numbers. "
   ]
  },
  {
   "cell_type": "code",
   "execution_count": null,
   "metadata": {
    "collapsed": true
   },
   "outputs": [],
   "source": []
  },
  {
   "cell_type": "code",
   "execution_count": null,
   "metadata": {
    "collapsed": true
   },
   "outputs": [],
   "source": []
  }
 ],
 "metadata": {
  "kernelspec": {
   "display_name": "Python 2",
   "language": "python",
   "name": "python2"
  },
  "language_info": {
   "codemirror_mode": {
    "name": "ipython",
    "version": 2
   },
   "file_extension": ".py",
   "mimetype": "text/x-python",
   "name": "python",
   "nbconvert_exporter": "python",
   "pygments_lexer": "ipython2",
   "version": "2.7.9"
  }
 },
 "nbformat": 4,
 "nbformat_minor": 0
}
