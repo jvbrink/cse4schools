{
 "cells": [
  {
   "cell_type": "code",
   "execution_count": 8,
   "metadata": {
    "collapsed": true
   },
   "outputs": [],
   "source": [
    "from pylab import *\n",
    "\n",
    "\"\"\"Declaring all the paramters we need\"\"\"\n",
    "m = 90 #kg, mass of the jumper\n",
    "g = 9.81 #m/s**2, the gravitational acceleration\n",
    "rho = 1 #kg/m**3, air density\n",
    "A = 0.7 #m**2, area covered by the parachute \n",
    "C = 1.4 #drag coefficient\n",
    "A_p = 44 #m**2, area covered by the parachute when deployed\n",
    "C_p = 1.8 #drag coefficient when the parachute is deployed\n",
    "v0 = 0 #m/s, the initial velocity"
   ]
  },
  {
   "cell_type": "code",
   "execution_count": 9,
   "metadata": {
    "collapsed": true
   },
   "outputs": [],
   "source": [
    "\"\"\"Defining the acceleration as a function of the velocity\"\"\"\n",
    "def a(v):\n",
    "    return g - 0.5*rho*C*A/m*v*v"
   ]
  },
  {
   "cell_type": "code",
   "execution_count": 10,
   "metadata": {
    "collapsed": true
   },
   "outputs": [],
   "source": [
    "\"\"\"Defining the values need to create the time array\"\"\"\n",
    "dt = 0.01\n",
    "T = 180\n",
    "n = int(T/dt)"
   ]
  },
  {
   "cell_type": "code",
   "execution_count": 11,
   "metadata": {
    "collapsed": true
   },
   "outputs": [],
   "source": [
    "\"\"\"Declaring three arrays, one for the velocity v, one for the time t and one for \n",
    "the gravitational forces.\"\"\"\n",
    "t = zeros(n+1)\n",
    "v = zeros(n+1)\n",
    "gforces = zeros(n+1)"
   ]
  },
  {
   "cell_type": "code",
   "execution_count": 12,
   "metadata": {
    "collapsed": true
   },
   "outputs": [],
   "source": [
    "# Simulating the first 60 seconds\n",
    "\"\"\"A for loop calculating the velocity for the free fall and updating the time\"\"\"\n",
    "for i in range(0, int(60/dt)):\n",
    "    t[i+1] = t[i] + dt\n",
    "    v[i+1] = v[i] + a(v[i])*dt\n",
    "    gforces[i] = 1 - a(v[i])/g"
   ]
  },
  {
   "cell_type": "code",
   "execution_count": 13,
   "metadata": {
    "collapsed": true
   },
   "outputs": [],
   "source": [
    "# Simulating the next 5 seconds\n",
    "\"\"\"A for loop calculating the velocity while the parachute is deploying \"\"\"\n",
    "for i in range(int(60/dt), int(65/dt)):\n",
    "    C += (C_p-C)/(5/dt) \n",
    "    A += (A_p-A)/(5/dt)\n",
    "\n",
    "    t[i+1] = t[i] + dt\n",
    "    v[i+1] = v[i] + a(v[i])*dt\n",
    "    gforces[i] = 1 - a(v[i])/g"
   ]
  },
  {
   "cell_type": "code",
   "execution_count": 14,
   "metadata": {
    "collapsed": true
   },
   "outputs": [],
   "source": [
    "# Simulating the last 120 seconds\n",
    "\"\"\"A for loop calculating the velocity while the parachute is deployed\"\"\"\n",
    "for i in range(int(65/dt), int(180/dt)):\n",
    "    t[i+1] = t[i] + dt\n",
    "    v[i+1] = v[i] + a(v[i])*dt\n",
    "    gforces[i] = 1 - a(v[i])/g"
   ]
  },
  {
   "cell_type": "code",
   "execution_count": 21,
   "metadata": {
    "collapsed": false
   },
   "outputs": [
    {
     "data": {
      "image/png": "[encoded data removed]",
      "text/plain": [
       "<matplotlib.figure.Figure at 0xc292438>"
      ]
     },
     "metadata": {},
     "output_type": "display_data"
    }
   ],
   "source": [
    "\"\"\"Ploting the velocity throughout the jump\"\"\"\n",
    "%matplotlib inline\n",
    "plot(t,v)\n",
    "xlabel('t')\n",
    "ylabel('v(t)')\n",
    "grid()"
   ]
  },
  {
   "cell_type": "code",
   "execution_count": 20,
   "metadata": {
    "collapsed": false,
    "scrolled": true
   },
   "outputs": [
    {
     "data": {
      "image/png": "[encoded data removed]",
      "text/plain": [
       "<matplotlib.figure.Figure at 0xbf8b198>"
      ]
     },
     "metadata": {},
     "output_type": "display_data"
    }
   ],
   "source": [
    "\"\"\"Ploting the g forces experienced by the jumper\"\"\"\n",
    "plot(t,gforces)\n",
    "xlabel('t')\n",
    "ylabel('gforces')\n",
    "grid()\n",
    "show()"
   ]
  },
  {
   "cell_type": "code",
   "execution_count": null,
   "metadata": {
    "collapsed": true
   },
   "outputs": [],
   "source": []
  }
 ],
 "metadata": {
  "kernelspec": {
   "display_name": "Python 2",
   "language": "python",
   "name": "python2"
  },
  "language_info": {
   "codemirror_mode": {
    "name": "ipython",
    "version": 2
   },
   "file_extension": ".py",
   "mimetype": "text/x-python",
   "name": "python",
   "nbconvert_exporter": "python",
   "pygments_lexer": "ipython2",
   "version": "2.7.10"
  }
 },
 "nbformat": 4,
 "nbformat_minor": 0
}
