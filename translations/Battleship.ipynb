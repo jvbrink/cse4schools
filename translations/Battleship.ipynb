{
 "cells": [
  {
   "cell_type": "markdown",
   "metadata": {},
   "source": [
    "#Battleship!\n",
    "\n",
    "A lot of these exercises are pulled from Code Academy, and you can also solve them there by following this link and finding the right module:\n",
    "\n",
    "http://www.codecademy.com/en/tracks/python\n",
    "\n",
    "\n",
    "##What is battleship?\n",
    "\n",
    "Battleship is a board game for two people. Both of the players are given a certain number of ships to place on a grid. First the players place their ships, then they take turns guessing the coordinates of the opponents ship. After a player has made a guess, the opponent has to reveal whether the shot was a hit or a miss. The players have two boards, one to keep track of their own ships, and one to keep track of where they have shot the other player. The picture below show an example of the game board. The white pins signify missed shots, while the red pins signify hits.\n",
    "\n",
    "![battleship board](figs\\battleship-board-game.jpg)\n"
   ]
  },
  {
   "cell_type": "markdown",
   "metadata": {},
   "source": [
    "##What are we going to do?\n",
    "\n",
    "You can create this entire game with the programming you already know, but to save time we are going to create a simplified version with a smaller game board and fewer ships. After you have created a simple version that works well, you can keep expanding it with more features until you have a more involved game. \n",
    "\n",
    "##Let's get to it!"
   ]
  },
  {
   "cell_type": "markdown",
   "metadata": {},
   "source": [
    "##Creating the game board. \n",
    "\n",
    "The first thing we have to do is to create the board itself. The board represents the ocean, and we want it to be a grid so that we can guess a square by giving the x and y coordinates. Let us create a 5x5 board. If we were to draw it by hand, it would look something like this:"
   ]
  },
  {
   "cell_type": "markdown",
   "metadata": {},
   "source": [
    "<table style=\"width:20%;line-height:2em\">\n",
    "  <tr>\n",
    "    <td style=\"text-align:center\">O</td>\n",
    "    <td style=\"text-align:center\">O</td>\n",
    "    <td style=\"text-align:center\">O</td>\n",
    "    <td style=\"text-align:center\">O</td>\n",
    "    <td style=\"text-align:center\">O</td>\n",
    "  </tr>\n",
    "  <tr>\n",
    "    <td style=\"text-align:center\">O</td>\n",
    "    <td style=\"text-align:center\">O</td>\n",
    "    <td style=\"text-align:center\">O</td>\n",
    "    <td style=\"text-align:center\">O</td>\n",
    "    <td style=\"text-align:center\">O</td>\n",
    "  </tr>\n",
    "  <tr>\n",
    "    <td style=\"text-align:center\">O</td>\n",
    "    <td style=\"text-align:center\">O</td>\n",
    "    <td style=\"text-align:center\">O</td>\n",
    "    <td style=\"text-align:center\">O</td>\n",
    "    <td style=\"text-align:center\">O</td>\n",
    "  </tr>\n",
    "  <tr>\n",
    "    <td style=\"text-align:center\">O</td>\n",
    "    <td style=\"text-align:center\">O</td>\n",
    "    <td style=\"text-align:center\">O</td>\n",
    "    <td style=\"text-align:center\">O</td>\n",
    "    <td style=\"text-align:center\">O</td>\n",
    "  </tr>\n",
    "  <tr>\n",
    "    <td style=\"text-align:center\">O</td>\n",
    "    <td style=\"text-align:center\">O</td>\n",
    "    <td style=\"text-align:center\">O</td>\n",
    "    <td style=\"text-align:center\">O</td>\n",
    "    <td style=\"text-align:center\">O</td>\n",
    "  </tr>\n",
    "</table>"
   ]
  },
  {
   "cell_type": "markdown",
   "metadata": {},
   "source": [
    "You can create a board like this on your computer by using a list of lists. We create a list consisting of 5 elements, where each element is itself a list of 5 elements. This inner list contains only 5 “O” strings. (Capital o, not zero)"
   ]
  },
  {
   "cell_type": "markdown",
   "metadata": {},
   "source": [
    "###Exercises\n",
    "\n",
    "1. Create a variable board and set it to contain an empty list\n",
    "2. Append the list  $\\verb+[\"O\", \"O\", \"O\", \"O\", \"O\"]+$ to board 5 times. **Hint:** $\\verb+board.append(…)+$\n",
    "3. Print the board and make sure that you have exactly 25 “O” elements in total."
   ]
  },
  {
   "cell_type": "markdown",
   "metadata": {},
   "source": [
    "When you print the board, you do not get a nice grid like the one we drew by hand. Let us try to fix this. We will want to draw the board several times during the game, so it is probably a good idea to define a function that does exactly this. We can start to create the function like so"
   ]
  },
  {
   "cell_type": "code",
   "execution_count": null,
   "metadata": {
    "collapsed": true
   },
   "outputs": [],
   "source": [
    "def print_board(board):\n",
    "\t..."
   ]
  },
  {
   "cell_type": "markdown",
   "metadata": {},
   "source": [
    "Remember the indentation! Inside the function we will want to create a loop which iterates through the board-list and writes every row of the game on a separate line"
   ]
  },
  {
   "cell_type": "code",
   "execution_count": null,
   "metadata": {
    "collapsed": true
   },
   "outputs": [],
   "source": [
    "for row in board:\n",
    "\tprint row"
   ]
  },
  {
   "cell_type": "markdown",
   "metadata": {},
   "source": [
    "<style>\n",
    "li {\n",
    "font-family: Times New Roman, serif;\n",
    "}\n",
    "</style>\n",
    "\n",
    "###Exercises\n",
    "\n",
    "1. finish the function $\\verb+print_board+$\n",
    "2. Make sure the function works by calling it with  $\\verb+print_board(board)+$\n",
    "3. Instead of just typing  $\\verb+print row+$ inside the  $\\verb+for+$ loop, we can write print  $\\verb+\" \".join(row)+$. This makes the printout even prettier."
   ]
  },
  {
   "cell_type": "markdown",
   "metadata": {},
   "source": [
    "Before you move on, you should have a printout that looks like a nice grid. If you cannot do this, ask a friend or a teacher to help you. \n",
    "\n",
    "Now that you have created the board we will use, and printed it, you need to learn how to change it. Remember that we can change a list by indexing. If we have a simple list like this"
   ]
  },
  {
   "cell_type": "code",
   "execution_count": 4,
   "metadata": {
    "collapsed": false
   },
   "outputs": [
    {
     "name": "stdout",
     "output_type": "stream",
     "text": [
      "['Lisa', 'Mary', 'Marcus']\n"
     ]
    }
   ],
   "source": [
    "names = [\"Lisa\", \"Mary\", \"Marcus\"]\n",
    "print names"
   ]
  },
  {
   "cell_type": "markdown",
   "metadata": {},
   "source": [
    "then we can for example change 'Marcus' to 'Markus' with indexing"
   ]
  },
  {
   "cell_type": "code",
   "execution_count": 6,
   "metadata": {
    "collapsed": false
   },
   "outputs": [
    {
     "name": "stdout",
     "output_type": "stream",
     "text": [
      "['Lisa', 'Mary', 'Markus']\n"
     ]
    }
   ],
   "source": [
    "names[2] = \"Markus\"\n",
    "print names"
   ]
  },
  {
   "cell_type": "markdown",
   "metadata": {},
   "source": [
    "Remember that Python begins counting at 0!\n",
    "\n",
    "Because our board consists of lists inside lists, $\\verb+board[0]+$ returns the list  $\\verb+[\"O\", \"O\", \"O\", \"O\", \"O\"]+$, which we can then index again. Like this"
   ]
  },
  {
   "cell_type": "code",
   "execution_count": null,
   "metadata": {
    "collapsed": false
   },
   "outputs": [],
   "source": [
    "board[0][0] = \"X\""
   ]
  },
  {
   "cell_type": "markdown",
   "metadata": {},
   "source": [
    "Now, we have changed the (0,0) coordinate to \"X\" instead of \"O\". Play around with changing the list until you feel confident you know how it works. "
   ]
  },
  {
   "cell_type": "markdown",
   "metadata": {},
   "source": [
    "###Exercises\n",
    "\n",
    "1. run the command $\\verb+board[0][0] = 'X'+$ and then use $\\verb+print_board(board)+$ to see the result. Which element did we change?\n",
    "2. Change the square in the center of the board to be \"X\""
   ]
  },
  {
   "cell_type": "markdown",
   "metadata": {},
   "source": [
    "Now we have created our playing board, created a function $\\verb+print_board+$, which prints it to the screen as a nice grid, and we have learned how we can change the squares in the board. Let us see how we can place and shoot our ships. \n"
   ]
  },
  {
   "cell_type": "markdown",
   "metadata": {},
   "source": [
    "##Placing ships\n",
    "\n",
    "Let us begin by placing an enemy ship that only covers one single square on the grid. The ship should have the possibility of appearing anywhere on the grid.  Because our map is a 5x5 grid, we can give our ship x and y coordinates between 0 and 4. \n",
    "\n",
    "We want the ship to have a different, random position each time we play the game. To do this, you need to draw random coordinates. "
   ]
  },
  {
   "cell_type": "markdown",
   "metadata": {},
   "source": [
    "###Exercises:\n",
    "\n",
    "1. Import the function $\\verb+randint+$ from  $\\verb+random+$\n",
    "2. Create a variable $\\verb+ship_x+$, and give it a random value between 0 and 5\n",
    "3. Create a variable $\\verb+ship_y+$, and give it a random value between 0 and 5"
   ]
  },
  {
   "cell_type": "markdown",
   "metadata": {},
   "source": [
    "Now, the ship's coordinates are random and stored in the variables $\\verb+ship_x+$ and $\\verb+ship_y+$. Later, when we want to test our program, it will be useful to know exactly where the ship is. You can see where the ship is by simply printing the coordinates"
   ]
  },
  {
   "cell_type": "code",
   "execution_count": null,
   "metadata": {
    "collapsed": true
   },
   "outputs": [],
   "source": [
    "print ship_x\n",
    "print ship_y"
   ]
  },
  {
   "cell_type": "markdown",
   "metadata": {},
   "source": [
    "or you can change the board, so that the ship's position is visible"
   ]
  },
  {
   "cell_type": "code",
   "execution_count": null,
   "metadata": {
    "collapsed": true
   },
   "outputs": [],
   "source": [
    "board[ship_x][ship_y] = \"+\"\n",
    "print_board(board)"
   ]
  },
  {
   "cell_type": "markdown",
   "metadata": {},
   "source": [
    "Either way is fine, but it is important that you remember to remove the printout when you are done writing and testing the program. Otherwise, the game will be far to easy for the player!\n"
   ]
  },
  {
   "cell_type": "markdown",
   "metadata": {},
   "source": [
    "##Shoot the ship!\n",
    "\n",
    "Now we are ready to let the user try to shoot down the ship. To do this you need to have the user guess where the ship is, which you can do with $\\verb+raw_input()+$."
   ]
  },
  {
   "cell_type": "markdown",
   "metadata": {},
   "source": [
    "###Exercises\n",
    "\n",
    "1. Create a variable $\\verb+guess_x+$ and use $\\verb+raw_input()+$ to store the users answer\n",
    "\n",
    "2. The function $\\verb+raw_input+$ will always return a string, but we want $\\verb+guess_x+$ to be an integer. Add some code to make $\\verb+guess_x+$ an int.\n",
    "**Hint:** $\\verb+guess_x = int(raw_input(…))+$\n",
    "\n",
    "3. Create a variable $\\verb+guess_y+$ and do the same as you did with the x coordinate"
   ]
  },
  {
   "cell_type": "markdown",
   "metadata": {},
   "source": [
    "##Hit or miss?\n",
    "Now that we have drawn a random position for the ship, and asked the user where they want to shoot, we are finally ready to see if the shot was a hit or a miss. This is of course accomplished with an $\\verb+if+$ test. To begin with, there are only two options. Either the user hits or she misses. For a shot to be a hit, both of the coordinates has to be correct. In other words, $\\verb+ship_x+$ and $\\verb+guess_x+$ has to be equal and $\\verb+ship_y+$ and $\\verb+guess_y+$ has to be equal. "
   ]
  },
  {
   "cell_type": "markdown",
   "metadata": {},
   "source": [
    "###Exercises\n",
    "\n",
    "1. Create an $\\verb+if+$ test that checks if $\\verb+ship_x == guess_x+$ and $\\verb+ship_y == guess_y+$. If this is the case, print a message to let the user know she hit.\n",
    "2. Add an $\\verb+else+$ block where you print a message to let the user know she missed.\n",
    "3. Test your program and hit on purpose. Then try again, but miss instead. Does your program work as expected?"
   ]
  },
  {
   "cell_type": "markdown",
   "metadata": {},
   "source": [
    "In addition to printing a message when the user guesses incorrectly, we should also change the board so the user can see where she has guessed previously. Let us use 'X' to show that a field has been shot, but it was a miss. "
   ]
  },
  {
   "cell_type": "markdown",
   "metadata": {},
   "source": [
    "###Exercises\n",
    "\n",
    "1. In your else block, change the square in your board with coordinates guess_x and guess_y to “X”. Then print the board again. **Hint:**"
   ]
  },
  {
   "cell_type": "code",
   "execution_count": null,
   "metadata": {
    "collapsed": false
   },
   "outputs": [],
   "source": [
    "if ...:\n",
    "    print ...\n",
    "else:\n",
    "    print ...\n",
    "    board[...][...] = ...\n",
    "    print_board(board)"
   ]
  },
  {
   "cell_type": "markdown",
   "metadata": {},
   "source": [
    "2. Test your program with a miss to make sure everything is working correctly"
   ]
  },
  {
   "cell_type": "markdown",
   "metadata": {},
   "source": [
    "##Multiple shots\n",
    "\n",
    "Until now, we have given the user only one attempt at hitting the ship. This is perhaps a bit inadequate. Now we will use a loop to allow the user to shoot up to 10 times! We choose to use a $\\verb+while+$ loop that repeats until the user either wins, or misses 10 times. This means that we need to keep track of how many times the user have missed. "
   ]
  },
  {
   "cell_type": "markdown",
   "metadata": {},
   "source": [
    "###Exercises\n",
    "\n",
    "1. Create a variable $\\verb+misses+$, and set its value to be 0.\n",
    "\n",
    "2. Indent all the code that you want to repeat. You can do this easily by marking all the lines you want indented, and press the tab button. **Hint:** We want to repeat that the user guesses coordinates, and that we check the guesses and update the board accordingly.\n",
    "\n",
    "3. Just before the block of code you just indented, start your $\\verb+while+$ loop. **Hint:** $\\verb+while misses … :+$\n",
    "\n",
    "4. Inside the loop you need to increase the variable $\\verb+misses+$ when the user misses. Update your program to count every time the user misses. **Hint:** $\\verb!misses += 1!$\n",
    "\n",
    "5. At the start of your loop, before you ask the user to guess, print a message to tell the user how many shots she has left.\n",
    "\n",
    "6. Test your program and make sure the loop works as you expect it to."
   ]
  },
  {
   "cell_type": "markdown",
   "metadata": {},
   "source": [
    "One unfortunate problem for the user, is that they may shoot an already used field by accident. Let us change our program so that the user does not use up an attempt if this is the case. To do this, we need to insert a new test inside of our $\\verb+else+$ block, to check if $\\verb+board[guess_x][guess_y]+$ is \"X\". If so, then the user has already shot this field! \n"
   ]
  },
  {
   "cell_type": "markdown",
   "metadata": {},
   "source": [
    "7. At the beginning of your else block, add a new test to check if $\\verb+board[guess_x][guess_y]+$ is \"X\". If so, then print a message to tell the user that they have already shot this field. Move the code that already belonged to the $\\verb+else+$ block to another $\\verb+else+$ block. **Hint:**"
   ]
  },
  {
   "cell_type": "code",
   "execution_count": null,
   "metadata": {
    "collapsed": true
   },
   "outputs": [],
   "source": [
    "if guess_x == ship_x ... :\n",
    "    # User hit the target!\n",
    "else:\n",
    "    if board[guess_x][guess_y]...:\n",
    "        # User tried firing on a coordinate they already tried!\n",
    "    else:\n",
    "        # User misses!"
   ]
  },
  {
   "cell_type": "markdown",
   "metadata": {},
   "source": [
    "##Game over!\n",
    "\n",
    "Now you have a pretty good game! But there are still a couple of problems. The game keeps going even after the user has guessed correctly. And there is no message to inform the user that they have used up their 10 shots. Let us try to fix both these problems. \n",
    "\n",
    "First, when the user guesses correctly, we have to make sure that the loop stops repeating. We can do this with the command $\\verb+break+$. When python finds a $\\verb+break+$ command, it immediately jumps to the first line after the entire loop. In other words, it breaks the loop."
   ]
  },
  {
   "cell_type": "markdown",
   "metadata": {},
   "source": [
    "###Exercises\n",
    "\n",
    "1. Add a $\\verb+break+$ command after the success message is printed.\n",
    "\n",
    "    Now we want to print a message to tell the user that they have lost  if they did not hit with any of their 10 shots. We can do this with yet another $\\verb+if+$ test. Let us place this $\\verb+if+$ test after the loop. If the loop is finished because of a $\\verb+break+$ command, then $\\verb+misses+$ will be less than 10. But if the loop is finished because the user missed 10 times, then $\\verb+misses+$ equals 10. \n",
    "\n",
    "2. Add an $\\verb+if+$ test after the $\\verb+while+$ loop that checks if $\\verb+misses+$ is 10. If it is, print out a message to inform the user that they have lost.\n",
    "\n",
    "    Now you just have to test your program and fix all the small errors that might remain.\n",
    "\n",
    "3. Test your program until you are satisfied. Then get a friend to try it!"
   ]
  },
  {
   "cell_type": "markdown",
   "metadata": {},
   "source": [
    "Now you have a complete Battleship! game. Good job! What follows is a list of different ways to expand the game if you want.\n",
    "\n",
    "Here is a list of suggestions for ways to expand the game"
   ]
  },
  {
   "cell_type": "markdown",
   "metadata": {},
   "source": [
    "* Create a nice introduction message\n",
    "* Add more tests. If, for example, the user shoots outside the board, they should get a message!\n",
    "* Add more game modes. Perhaps for example several degrees of difficulty. The difficulty could be adjusted with a larger board or a different amount of shots. Have the user select the game mode from a menu in the beginning. \n",
    "* Add more ships to the board! The user has to hit all of them to win. Be careful not to place ships on top of each other.\n",
    "* Add ships that cover more than one field each. This is slightly challenging, but the result is nice.\n",
    "* Give the player one special missile which can only be used once. Maybe it hits in a cross shape (5 fields at a time), or maybe it takes out an entire row or column! "
   ]
  },
  {
   "cell_type": "code",
   "execution_count": null,
   "metadata": {
    "collapsed": true
   },
   "outputs": [],
   "source": []
  }
 ],
 "metadata": {
  "kernelspec": {
   "display_name": "Python 2",
   "language": "python",
   "name": "python2"
  },
  "language_info": {
   "codemirror_mode": {
    "name": "ipython",
    "version": 2
   },
   "file_extension": ".py",
   "mimetype": "text/x-python",
   "name": "python",
   "nbconvert_exporter": "python",
   "pygments_lexer": "ipython2",
   "version": "2.7.9"
  }
 },
 "nbformat": 4,
 "nbformat_minor": 0
}
