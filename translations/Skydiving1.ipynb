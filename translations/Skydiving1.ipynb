{
 "cells": [
  {
   "cell_type": "markdown",
   "metadata": {},
   "source": [
    "#Skydiving - part 1\n",
    "\n",
    "We will now begin to look at how the velocity of a skydiver changes over time. We will find mathematical equations based on our physical understanding of the forces acting on the jumper. We will then discuss these equations and see why they are impossible to solve with pen and paper alone. Finally, we will see how we can solve the equations with programming."
   ]
  },
  {
   "cell_type": "markdown",
   "metadata": {},
   "source": [
    "A parachuting jump consists mainly of two parts. The first part happens before the parachute is deployed, this is commonly known as free-fall. Most sport skydivers experience about a minute of free-fall each jump. After this, the jumper deploys their parachute which dramatically reduces the velocity of the fall. The jumper normally falls between one and three more minutes before landing, dependent on the altitude and the size of the parachute."
   ]
  },
  {
   "cell_type": "markdown",
   "metadata": {},
   "source": [
    "In both parts of the jump there are only two forces acting on the jumper, gravity and air resistance. That is\n",
    "\n",
    "$$\\sum F = F_G + F_D,$$\n",
    "\n",
    "where $F_G$ is gravity and $F_D$ is air resistance. You probably already know that if the jumper has mass $m$ and the standard acceleration due to gravity is $g$, which we define to be $g = 9.81 m/s^2$, then the gravitational force is $F_G = mg$."
   ]
  },
  {
   "cell_type": "markdown",
   "metadata": {},
   "source": [
    "Furthermore, a skydiver will fall with high velocity so we use quadratic air resistance, that is\n",
    "\n",
    "$$F_D = \\frac{1}{2}\\rho C A v^2,$$\n",
    "\n",
    "where $\\rho$ is the air density, $C$ is the drag coefficient that is dependent on the shape of the falling body and $A$ is the silhouette area. \n",
    "\n",
    "To avoid having to write all this, we define a constant $D$ to be all of these numbers together like this\n",
    "\n",
    "$$\\frac{1}{2}\\rho C A = D,$$\n",
    "\n",
    "$$F_D = -Dv^2.$$\n",
    "\n",
    "The equation we want to solve can then be written as\n",
    "\n",
    "$$ma = mg - D v^2.$$\n",
    "\n",
    "\n",
    "In mathematics, this is what is known as a *differential equation*. Let us talk a bit about what exactly that means."
   ]
  },
  {
   "cell_type": "markdown",
   "metadata": {},
   "source": [
    "##Differential equations\n",
    "\n",
    "Previously when we have worked with equations, they have been mathematical expressions, where we solve for one unknown variable. For example \n",
    "\n",
    "$$x^2 + 7 = 56.$$\n"
   ]
  },
  {
   "cell_type": "markdown",
   "metadata": {},
   "source": [
    "We recognize this as an equation because there is an 'equality', and we know that we can solve this by subtracting the constant, and taking the square root to get\n",
    "\n",
    "$$x = \\pm 7.$$\n"
   ]
  },
  {
   "cell_type": "markdown",
   "metadata": {},
   "source": [
    "So we have solved the equation and found that $x$ equals 7. A differential equation is also an equation because it contains an 'equality' just like our example, and we can solve it to find something unknown. The difference is that for a differential equation the unknown is no longer a number, but a function. "
   ]
  },
  {
   "cell_type": "markdown",
   "metadata": {},
   "source": [
    "Newtons 2nd equation is a perfect example of a differential equation, which we solve to find either the velocity or the position of an object. In this case both the velocity and the position are examples of functions because they differ with time: $v(t)$, $x(t)$. A differential equation contains the derivative of the function we want, which is easier to see if we write the acceleration as the derivative of the velocity in newtons second law: "
   ]
  },
  {
   "cell_type": "markdown",
   "metadata": {},
   "source": [
    "$$\\sum F = ma = m\\frac{d v}{d t}.$$\n",
    "\n",
    "Then, the differential equation we are trying to solve can we written as\n",
    "\n",
    "$$m\\frac{d v}{d t} = mg - D v(t)^2.$$\n",
    "\n",
    "But how do we solve an equation like this? There exists a huge number of different types of differential equations and even more ways to solve them, but we don't have time to cover that much of this subject for now. "
   ]
  },
  {
   "cell_type": "markdown",
   "metadata": {},
   "source": [
    "## Unsolvable differential equations\n",
    "\n",
    "We want to solve the following differential equation:\n",
    "$$m\\frac{d v}{d t} = mg - D v(t)^2.$$\n",
    "\n",
    "and we want to find the velocity $v(t)$, but we cannot do that because the acceleration is dependent on the velocity. This is exactly why we often ignore air resistance when we solve Newtons 2nd law. A lot of the time, ignoring air resistance is okay, because the result is more or less the same anyway. But in some cases, air resistance makes a big difference, and skydiving is one of those cases"
   ]
  },
  {
   "cell_type": "markdown",
   "metadata": {},
   "source": [
    "## Solving the unsolvable\n",
    "\n",
    "How do we solve an unsolvable equation with programming? The idea is quite simple, but let us try to approach it step by step. \n",
    "\n",
    "Let us begin by looking at what would have happened if we did ignore air resistance. We would have free-fall, i.e. \n",
    "\n",
    "$$ma = \\sum F = mg,$$"
   ]
  },
  {
   "cell_type": "markdown",
   "metadata": {},
   "source": [
    "And so the acceleration would be constant \n",
    " $$ a = g $$\n",
    "In this case we could easily solve the equations of motion to get\n",
    "\n",
    "$$v(t) = v_0 + at.$$\n",
    "\n",
    "And similarly \n",
    "\n",
    "$$x(t) = x_0 + v_0 t + \\frac{1}{2}at^2.$$\n",
    "\n",
    "We notice that the velocity keeps growing constantly for ever. This of cource, has to be incorrect, because we know that in reality, a skydiver would quickly hit terminal velocity."
   ]
  },
  {
   "cell_type": "markdown",
   "metadata": {},
   "source": [
    "##Terminal velocity \n",
    "\n",
    "Terminal velocity is the highest velocity attainable by a falling object. We can easily derive the terminal velocity of the jumper without using our differential equation. We know that when the air resistance equals the gravity, the sum of all forces acting on the jumper equals zero. Then the acceleration equals zero, and the skydiver falls with a constant velocity, the terminal velocity. This means that "
   ]
  },
  {
   "cell_type": "markdown",
   "metadata": {},
   "source": [
    "$$mg = \\frac{1}{2}\\rho C A v_T^2,$$\n"
   ]
  },
  {
   "cell_type": "markdown",
   "metadata": {},
   "source": [
    "By solving this for the terminal velocity, $v_T$, we get\n",
    "\n",
    "$$v_T = \\sqrt{\\frac{2mg}{\\rho C A}}.$$\n",
    "\n"
   ]
  },
  {
   "cell_type": "markdown",
   "metadata": {},
   "source": [
    "And when we substitute in some reasonable values ($m=90$ kg, $C=1.4$, $\\rho=1$ kg/m$^3$, $A=0.7$ m$^2$, $g=9.81$ m/s$^2$), we get the answer\n",
    "\n",
    "$$v_T = 42.4 {\\rm\\ m/s} = 153 {\\rm\\ km/h}.$$\n",
    "\n",
    "So the terminal velocity in this case is 153 km/h. "
   ]
  },
  {
   "cell_type": "markdown",
   "metadata": {},
   "source": [
    "##Solving the equations of motion with air resistance. \n",
    "\n",
    "If we now add air resistance again, we know that we cannot use the equations of motion because the acceleration is not constant. The acceleration is dependent on the velocity \n",
    "\n",
    "$$a(v) = g - \\frac{1}{2m}Dv^2.$$"
   ]
  },
  {
   "cell_type": "markdown",
   "metadata": {},
   "source": [
    "And since we know that the velocity increases with time, we can see that the acceleration will decrease. Notice that we write $a(v)$ because the acceleration is a function of the velocity. If we instead look at a tiny difference in time, $\\Delta t$, we know that the change in velocity is very small, and then the acceleration is almost constant. This means that we can use the equations of motion to take a short step in time by regarding the acceleration as essentially constant for a short time interval. \n",
    "\n",
    "$$v_1 = v_0 + a(v_0)\\Delta t.$$"
   ]
  },
  {
   "cell_type": "markdown",
   "metadata": {},
   "source": [
    "This gives us an approximation to the velocity of the skydiver shortly after he jumped. We can move further in time by updating the acceleration with the new velocity, and have it be constant for another time interval. \n",
    "\n",
    "$$v_2 = v_1 + a(v_1)\\Delta t.$$"
   ]
  },
  {
   "cell_type": "markdown",
   "metadata": {},
   "source": [
    "The trick is to let $\\Delta t$ be very small, so that the acceleration is very close to constant. Thus we have to take a lot of tiny steps in time like this\n",
    "\n",
    "$$v_{n+1} = v_n + a(t_n)\\Delta t.$$"
   ]
  },
  {
   "cell_type": "markdown",
   "metadata": {},
   "source": [
    "With this method, we can solve our differential equation step by step until we have the entire solution"
   ]
  },
  {
   "cell_type": "markdown",
   "metadata": {},
   "source": [
    "##A more mathematical approach\n",
    "Alternatively, we can look at the definition of the of the derivative\n",
    "$$a(t) = \\frac{d v}{d t} = \\lim_{\\Delta t \\to 0} \\frac{v(t+\\Delta t) - v(t)}{\\Delta t}$$\n",
    "\n",
    "We can approximate the derivative by removing the limit and making $\\Delta t$ a very small constant\n",
    "\n",
    "$$ a(t) \\approx \\frac{v(t+\\Delta t) - v(t)}{\\Delta t}  $$\n",
    "\n",
    "As long as we choose a small enough $\\Delta t$, we get a good approximation.\n",
    "Now,  we can solve for  $v(t+\\Delta t)$ and get\n",
    "\n",
    "$$ v(t+\\Delta t) \\approx v(t) + a(t)\\cdot \\Delta t $$\n",
    "\n",
    "So if we know the velocity and acceleration at a time $t$, we can approximate the velocity at the the time $t+\\Delta t$ by\n",
    "\n",
    "$$v(t+\\Delta t) = v(t) + a(t)\\cdot \\Delta t$$"
   ]
  },
  {
   "cell_type": "markdown",
   "metadata": {},
   "source": [
    "##Parameters\n",
    "\n",
    "The numbers  $m$, $g$, $\\rho$, $C$, $A$ is what is known as parameters, that is values we choose. We choose the parameters based on what kind of simulation we want to run, but we generally consider them to be known. In our simulation we want to use the following parameters\n",
    "<table style=\"width:30%\">\n",
    "  <tr>\n",
    "    <td colspan=\"2\">Free fall</td>\n",
    "  </tr>\n",
    "  <tr>\n",
    "    <td>$m$</td>\n",
    "    <td>90 kg</td> \n",
    "  </tr>\n",
    "  <tr>\n",
    "    <td>$g$</td>\n",
    "    <td>9.81 m/s$^2$</td> \n",
    "  </tr>\n",
    "  <tr>\n",
    "    <td>$\\rho$</td>\n",
    "    <td>1 kg/m$^3$</td> \n",
    "  </tr>\n",
    "  <tr>\n",
    "    <td>$C$</td>\n",
    "    <td>1.4</td> \n",
    "  </tr>\n",
    "  <tr>\n",
    "    <td>$A$</td>\n",
    "    <td>0.7 m$^2$</td> \n",
    "  </tr>\n",
    "</table>\n",
    "\n",
    "<table style=\"width:30%\">\n",
    "  <tr>\n",
    "    <td colspan=\"2\">Under parachute</td>\n",
    "  </tr>\n",
    "  <tr>\n",
    "    <td>$C_{\\rm p}$</td>\n",
    "    <td>1.8</td> \n",
    "  </tr>\n",
    "  <tr>\n",
    "    <td>$A_{\\rm p}$</td>\n",
    "    <td>44 m$^2$</td> \n",
    "  </tr>\n",
    "  <tr>\n",
    "</table>"
   ]
  },
  {
   "cell_type": "markdown",
   "metadata": {},
   "source": [
    "## Writing the code\n",
    "\n",
    "We are now ready to get started! This is the template for the program you are going to write\n",
    "\n",
    "1. Import pylab, that is everything we will need.\n",
    "2. Declare all the parameters we need, i.e. $m$, $g$, $\\rho$, $A$, $C$, $A_{p}$, $C_{\\rm p}$, $v_0$\n",
    "3. Define the acceleration as a function  of the velocity. **Hint:** $\\verb+Def a(V)+$. and remember to return something.\n",
    "4. Define $\\Delta t = 0.01 $  (**Hint:** name the variable $\\verb+dt+$ in your program) $T = 60$ and $n = T/dt$\n",
    "5. Declare two arrays, one for the velocity $v$ and one for the time $t$. We want the arrays to be empty and have room for $\\verb!n+1!$ elements, so use the $\\verb+zeros+$ command. Notice that $\\verb+v[i]+$ in your code corresponds to $v_i$.\n",
    "6. Create a $\\verb+for+$ loop that that iterates over $i = 0,1,2,..,n $ (**Hint:** use $\\verb+range+$)\n",
    "7. Inside the loop, calculate $\\verb!v[i+1]!$ from $\\verb+v[i]+$ by using the formula we found earlier. Remember to update the time (**Hint:** $\\verb!t[i+1] = t[i] + dt!$).\n",
    "8. Plot the result to see if everything is correct (**Hint:** $\\verb+plot(t,v)+$).\n"
   ]
  },
  {
   "cell_type": "markdown",
   "metadata": {},
   "source": [
    "## Exercises\n",
    "\n",
    "When you have a working program, you can try to do the following exercises:\n",
    "\n",
    "1. Make the plot look nicer. You can for example add a grid ($\\verb+grid()+$), a title, and label the axes ($\\verb+xlabel+$ and $\\verb+ylabel+$) \n",
    "2. At what time will the jumper reach terminal velocity? Look at the plot\n",
    "3. Have the program print out the terminal velocity. (**Hint:** The function $\\verb+max+$, fetches the maximal element from an array) Compare this with the terminal velocity you found earlier. How similar are the values? Does it look like your program is calculating correctly?\n",
    "\n"
   ]
  },
  {
   "cell_type": "markdown",
   "metadata": {},
   "source": [
    "##What now?\n",
    "\n",
    "By now we have created a program that finds the velocity of a jumper in free-fall with air resistance. But we still need to include deployment of the parachute. The main idea is as follows: When the parachute is deployed, only the silhouette area $A$, and the drag coefficient $C$ changes. And so if we can change these values at the right time, we can simulate that the parachute is deployed. In our loop we have the time, $t_i$, so perhaps we can use an $\\verb+if+$-statement to change $A$ and $C$ at the right time? \n",
    "\n",
    "We will look at this in the next part, but if you want, you can try for yourself to figure out what we need to add to the code as an exercise. \n",
    "\n",
    "In the next part, we will also calculate and plot the g-forces that the jumper experiences, and we will find the velocity of a bungee jumper with the same approach we used for the skydiver. "
   ]
  }
 ],
 "metadata": {
  "kernelspec": {
   "display_name": "Python 2",
   "language": "python",
   "name": "python2"
  },
  "language_info": {
   "codemirror_mode": {
    "name": "ipython",
    "version": 2
   },
   "file_extension": ".py",
   "mimetype": "text/x-python",
   "name": "python",
   "nbconvert_exporter": "python",
   "pygments_lexer": "ipython2",
   "version": "2.7.9"
  }
 },
 "nbformat": 4,
 "nbformat_minor": 0
}
