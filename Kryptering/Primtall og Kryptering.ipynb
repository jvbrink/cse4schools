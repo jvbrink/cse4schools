{
 "metadata": {
  "name": ""
 },
 "nbformat": 3,
 "nbformat_minor": 0,
 "worksheets": [
  {
   "cells": [
    {
     "cell_type": "heading",
     "level": 1,
     "metadata": {
      "slideshow": {
       "slide_type": "-"
      }
     },
     "source": [
      "Introduksjon"
     ]
    },
    {
     "cell_type": "markdown",
     "metadata": {},
     "source": [
      "P\u00e5 skolen l\u00e6rer man mye om det vi kaller primtall, men det er kanskje ikke s\u00e5 lett \u00e5 skj\u00f8nne hvorfor primtall er s\u00e5 viktig eller hva det kan brukes til?\n",
      "\n",
      "En av de viktigste bruksomer\u00e5dene for primtall i den virkelige verden er noe vi kaller kryptering, men det er noe man ikke h\u00f8rer s\u00e5 mye om p\u00e5 skolen. I dette prosjektet skal vi ta en titt p\u00e5 hva kryptering er for noe og hvorfor man trenger primtall for \u00e5 drive med det. P\u00e5 veien kommer vi til \u00e5 streife innom hvordan datamaskiner snakker sammen, hvordan internet fungerer og hva programmering er. \n",
      "\n",
      "\n",
      "\n"
     ]
    },
    {
     "cell_type": "heading",
     "level": 3,
     "metadata": {},
     "source": [
      "Hva er kryptering?"
     ]
    },
    {
     "cell_type": "markdown",
     "metadata": {},
     "source": [
      "Kryptering er et litt rart ord, det kommer fra gammel gresk og betyr egentlig '\u00e5 skjule'. Kryptografi er et annet navn for det vi snakker om, som betyr 'skjult skrift'. For kryptering handler nemlig om \u00e5 skrive hemmelige beskjeder, alst\u00e5 er det kryptere en beskjed \u00e5 gj\u00f8re den uleselig.\n",
      "\n",
      "De fleste har nok lekt litt med kryptering f\u00f8r, ved \u00e5 snakke sammen eller skrive lapper til hverandre p\u00e5 kodespr\u00e5k. \n",
      "\n",
      "Kryptering og kodespr\u00e5k kan v\u00e6re ganske g\u00f8y, men sp\u00f8rsm\u00e5let er om det er s\u00e6rlig nyttig? I noen tilfeller viser det seg at kryptering er veldig viktig, som for eksempel i krig. I krig m\u00e5 h\u00e6ren sende informasjon om troppeplassering og ordrer frem og tilbake, langs diverse ruter og med diverse teknikker. Med all denne informasjonsflyten er det selvf\u00f8lgelig viktig at informasjon ikke faller i fanget p\u00e5 fienden - det kan f\u00f8re til katastrofale f\u00f8lger.\n",
      "\n",
      "\n",
      "\n",
      "\n",
      "\n",
      "\n",
      "\n",
      "\n",
      "\n"
     ]
    },
    {
     "cell_type": "heading",
     "level": 3,
     "metadata": {},
     "source": [
      "Kryptering i krig og Enigmamaskinen"
     ]
    },
    {
     "cell_type": "markdown",
     "metadata": {},
     "source": [
      "Et godt eksempel p\u00e5 dette er Enigma-maskinen fra andre verdenskrig. Tyske ingeni\u00f8rer utviklet en maskin som kalles Enigma, som er et annet navn for en g\u00e5te eller et puslespill). Enigmamaskinen ser litt ut som en gammeldags skrivemaskin (se bildet under), men istedetfor at man skriver p\u00e5 papir er det sm\u00e5 lys som lyser opp n\u00e5r man trykker p\u00e5 bokstavtastene. Id\u00e9en er at man tar beskjeden man har lyst til \u00e5 kryptere, s\u00e5 taster man inn en og en tas p\u00e5 Engimamaskinen. For hver tast man trykker, s\u00e5 lyser en annen bokstav opp. Bokstaven som lyser opp skriver man ned p\u00e5 en papirlapp eller lignende. N\u00e5r man har tastet inn hele beskjeden sin s\u00e5 har man laget en kopi av den originale beskjeden p\u00e5 kodespr\u00e5k. Bare en person med en annen Enigmamaskin, instilt p\u00e5 de samme innstillingene kan n\u00e5 dekode beskjeden. \n",
      "\n",
      "<img src=\"files/fig/enigma.jpg\">\n",
      " \n",
      "Bildet viser en Enigmamaskin. Det finnes mange forskjellige varianter, de f\u00f8rste ble utviklet allerede i 1920, men de ble flittig brukt av den tyske h\u00e6ren under andre verdenskrig.\n",
      "\n",
      "Problemet med Enigma er at tyskerene ble for selvsikre. De s\u00e5 p\u00e5 Enigma som helt uknekkelig. De allierte styrkene, med Storbritannia i fronten greide derimot \u00e5 knekke Enigma - og kunne dermed veldig effektivt spionere p\u00e5 Tyskerenes informasjon il\u00f8pet av krigen. \n",
      "\n"
     ]
    },
    {
     "cell_type": "heading",
     "level": 3,
     "metadata": {},
     "source": [
      "C\u00e6sar chifferet"
     ]
    },
    {
     "cell_type": "heading",
     "level": 3,
     "metadata": {},
     "source": [
      "Utfordringen: Uke 1"
     ]
    },
    {
     "cell_type": "markdown",
     "metadata": {},
     "source": [
      "Ukens f\u00f8rste utfordringen er en oppgave i kryptoanalyse, det vil si kunsten av \u00e5 knekke koder. Under er en hemmelig beskjed laget med et C\u00e6sarchiffer. Klarer du \u00e5 knekke den? Hvis du knekker koden, kom og si den til meg - Ikke si den h\u00f8yt!"
     ]
    },
    {
     "cell_type": "raw",
     "metadata": {},
     "source": [
      "DRO ZBSJO PYB NOMYNSXQ DRSC WOCCKQO SC MKXNI\n"
     ]
    }
   ],
   "metadata": {}
  }
 ]
}